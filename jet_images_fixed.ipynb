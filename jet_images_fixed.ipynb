{
 "cells": [
  {
   "cell_type": "markdown",
   "metadata": {},
   "source": [
    "<center>\n",
    "<h1>Introduction to Jet Images and Computer Vision</h1>\n",
    "<h3>Michela Paganini - Yale University</h3>\n",
    "<h4>High Energy Phenomenology, Experiment and Cosmology Seminar Series</h4>\n",
    "<img src='http://www.edustart.org/wp-content/uploads/2014/03/MIST-Vert-Aggie-Maroon-page-001-300x200.jpg'>\n",
    "</center>\n"
   ]
  },
  {
   "cell_type": "markdown",
   "metadata": {},
   "source": [
    "* What is a jet image?\n",
    "* Uniqueness wrt to natural images\n",
    "* Jet image classification papers\n",
    "* Regression tasks?\n",
    "* Generation\n",
    "* Towards deep learning-based calorimetry"
   ]
  },
  {
   "cell_type": "markdown",
   "metadata": {},
   "source": [
    "Material:\n",
    " 1. Ben Nachman's plenary talk at ACAT 2017 (<a href=\"https://indico.cern.ch/event/567550/contributions/2656471/attachments/1510207/2354761/Nachman_ACAT.pdf\">slides</a>)\n",
    " 1. My talk on Generative Adversarial Networks for jet images at the 2017 IML Workshop (<a href=\"http://cds.cern.ch/record/2256878?ln=en\">video</a>)\n",
    " 1. Jannicke Pearkes's talk on boosted top tagging with jet images at the 2017 IML Workshop (<a href=\"http://cds.cern.ch/record/2256876?ln=en\">video</a>)\n",
    " 1. Michael Kagan's overview talk at LHCP 2017 (<a href=\"https://cds.cern.ch/record/2267879?ln=en\">slides</a>)\n",
    " 1. ATLAS PUB Note on quark vs gluon tagging with jet images(<a href=\"https://cds.cern.ch/record/2275641/files/ATL-PHYS-PUB-2017-017.pdf\">note</a>)\n",
    " 1. Lynn Huynh's summer report on jet image pre-processing (<a href=\"https://cds.cern.ch/record/2209127/files/Lynn_Huynh_Report.pdf\">write-up</a>)\n",
    " 1. Ben Nachman's talk at DataScience@LHC 2015 (<a href=\"http://cds.cern.ch/record/2069153\">video</a>)"
   ]
  },
  {
   "cell_type": "markdown",
   "metadata": {},
   "source": [
    "# Dataset"
   ]
  },
  {
   "cell_type": "markdown",
   "metadata": {},
   "source": [
    "[![DOI](https://zenodo.org/badge/DOI/10.17632/4r4v785rgx.1.svg)](https://doi.org/10.17632/4r4v785rgx.1)"
   ]
  },
  {
   "cell_type": "markdown",
   "metadata": {},
   "source": [
    "<a href=\"https://zenodo.org/record/269622#.WgZFPRNSyRs\"><img src=\"images/zenodo.jpg\"></a>"
   ]
  },
  {
   "cell_type": "markdown",
   "metadata": {},
   "source": [
    "Although the dataset was released in conjunction with the arXiv publication of our [work on Generative Adversarial Networks for jet images](https://arxiv.org/pdf/1701.05927.pdf), it was previously used in the original \"[Jet Images -- Deep Learning Edition](https://link.springer.com/article/10.1007%2FJHEP07%282016%29069)\" work on jet image classification. Feel free to explore the dataset and use it for any project you have in mind (please cite the dataset and relevant publications explaining its generation!)"
   ]
  },
  {
   "cell_type": "markdown",
   "metadata": {},
   "source": [
    "### Download dataset from Zenodo"
   ]
  },
  {
   "cell_type": "code",
   "execution_count": 1,
   "metadata": {},
   "outputs": [
    {
     "name": "stdout",
     "output_type": "stream",
     "text": [
      "[INFO] MD5 verification: f9b11c46b6a0ff928bec2eccf865ecf0\n"
     ]
    }
   ],
   "source": [
    "import os\n",
    "from keras.utils.data_utils import get_file\n",
    "\n",
    "# Info for downloading the dataset from Zenodo\n",
    "MD5_HASH = 'f9b11c46b6a0ff928bec2eccf865ecf0'\n",
    "DATAFILE = 'jet-images_Mass60-100_pT250-300_R1.25_Pix25.hdf5'\n",
    "URL_TEMPLATE = 'https://zenodo.org/record/{record}/files/{filename}'\n",
    "\n",
    "print('[INFO] MD5 verification: {}'.format(MD5_HASH))\n",
    "\n",
    "datafile = get_file(\n",
    "    fname=DATAFILE,\n",
    "    origin=URL_TEMPLATE.format(record=269622, filename=DATAFILE),\n",
    "    md5_hash=MD5_HASH\n",
    ")"
   ]
  },
  {
   "cell_type": "markdown",
   "metadata": {},
   "source": [
    "# Jets at the LHC"
   ]
  },
  {
   "cell_type": "markdown",
   "metadata": {},
   "source": [
    "<img src=\"http://cms.web.cern.ch/sites/cms.web.cern.ch/files/styles/large/public/field/image/jets_v1.png?itok=ULcYw1lS\">"
   ]
  },
  {
   "cell_type": "markdown",
   "metadata": {},
   "source": [
    "Jets are the observable result of quarks and gluons scattering at high energy. A collimated stream of\n",
    "protons and other hadrons forms in the direction of the initiating quark or gluon. Clusters of such\n",
    "particles are called jets."
   ]
  },
  {
   "cell_type": "markdown",
   "metadata": {},
   "source": [
    "# Jet Images"
   ]
  },
  {
   "cell_type": "markdown",
   "metadata": {},
   "source": [
    "Mature field of research! (image courtesy of B.P.Nachman) \n",
    "<img src=\"./images/graph.jpg\" width=\"800\">\n",
    "<a href=\"https://arxiv.org/abs/1709.04464\"><img src=\"./images/jet.jpg\" width=\"600\" align=\"right\" style=\"border:5px solid black\"></a>\n"
   ]
  },
  {
   "cell_type": "markdown",
   "metadata": {},
   "source": [
    "### What is a jet image?"
   ]
  },
  {
   "cell_type": "markdown",
   "metadata": {},
   "source": [
    "<img src=\"./images/jet_image.jpg\" width=\"300\">"
   ]
  },
  {
   "cell_type": "markdown",
   "metadata": {},
   "source": [
    "> A jet image is a two-dimensional representation of the radiation pattern within a jet: the distribution of the locations and energies of the jet’s constituent particles. The jet image consists of a regular grid of pixels in η×φ. \n",
    "\n",
    "Advantages of this data format include: easy visual inspection, fixed-length representation, suitable for application of computer vision techniques."
   ]
  },
  {
   "cell_type": "markdown",
   "metadata": {},
   "source": [
    "### Pre-processing"
   ]
  },
  {
   "cell_type": "markdown",
   "metadata": {},
   "source": [
    "In the dataset we will be using today:\n",
    "\n",
    "> The finite granularity of a calorimeter is simulated with a regular 0.1×0.1 grid in η and φ. The energy of each calorimeter cell is given by the sum of the energies of all particles incident on the cell. Cells with positive energy are assigned to jets using the anti-kt clustering algorithm with a radius parameter of R = 1.0 via the software package FastJet 3.2.1.\n",
    "\n",
    "> To mitigate the contribution from the underlying event, jets are are trimmed by re-clustering the constituents into R = 0.3 kt subjets and dropping those which have less than 5% of the transverse momentum of the parent jet. Trimming also reduces the impact of pileup: multiple proton-proton collisions occurring in the same event as the hard-scatter process. Jet images are formed by translating the η and φ of all constituents of a given jet so that its highest pT subjet is centered at the origin.\n",
    "\n",
    "> A rectangular grid of η × φ ∈ [−1.25, 1.25] × [−1.25, 1.25] with 0.1 × 0.1 pixels centered at the origin\n",
    "forms the basis of the jet image. The intensity of each pixel is the pT corresponding to the energy\n",
    "and pseudorapditiy of the constituent calorimeter cell, pT = E_cell/ cosh(η_cell). The radiation pattern\n",
    "is symmetric about the origin of the jet image and so the images are rotated. The subjet with the\n",
    "second highest pT (or, in its absence, the direction of the first principle component) is placed at an\n",
    "angle of −π/2 with respect to the η − φ axes. Finally, a parity transform about the vertical axis is\n",
    "applied if the left side of the image has more energy than the right side.\n",
    "\n",
    "<div align=\"right\">\n",
    "  <i>Learning Particle Physics by Example: Location-Aware Generative Adversarial Networks for Physics Synthesis</i> <br>\n",
    "  [arXiv:1701.05927](https://arxiv.org/pdf/1701.05927.pdf)\n",
    "</div>"
   ]
  },
  {
   "cell_type": "markdown",
   "metadata": {},
   "source": [
    "References: \n",
    "* Section 3 of [arXiv:1511.05190](https://link.springer.com/content/pdf/10.1007%2FJHEP07%282016%29069.pdf)\n",
    "* <a href=\"https://link.springer.com/article/10.1007/s41781-017-0004-6#Sec16\">Appendix B</a> of [arXiv:1701.05927](https://arxiv.org/pdf/1701.05927.pdf)"
   ]
  },
  {
   "cell_type": "markdown",
   "metadata": {},
   "source": [
    "### Uniqueness with respect to natural images in ML literature"
   ]
  },
  {
   "cell_type": "markdown",
   "metadata": {},
   "source": [
    "# Hands-on tutorial"
   ]
  },
  {
   "cell_type": "code",
   "execution_count": 5,
   "metadata": {},
   "outputs": [],
   "source": [
    "import h5py\n",
    "import numpy as np\n",
    "import os\n",
    "import numpy as np\n",
    "import matplotlib\n",
    "import matplotlib.pyplot as plt\n",
    "import matplotlib.cm as cm\n",
    "from matplotlib.colors import LogNorm, Normalize\n",
    "%matplotlib inline"
   ]
  },
  {
   "cell_type": "code",
   "execution_count": 6,
   "metadata": {},
   "outputs": [],
   "source": [
    "# number of images to load\n",
    "nb_points = 100000"
   ]
  },
  {
   "cell_type": "code",
   "execution_count": 7,
   "metadata": {},
   "outputs": [],
   "source": [
    "# open hdf5 data file\n",
    "d = h5py.File(datafile, 'r')"
   ]
  },
  {
   "cell_type": "code",
   "execution_count": 30,
   "metadata": {},
   "outputs": [
    {
     "data": {
      "text/plain": [
       "[(u'image', <HDF5 dataset \"image\": shape (872666, 25, 25), type \"<f4\">),\n",
       " (u'jet_delta_R', <HDF5 dataset \"jet_delta_R\": shape (872666,), type \"<f4\">),\n",
       " (u'jet_eta', <HDF5 dataset \"jet_eta\": shape (872666,), type \"<f4\">),\n",
       " (u'jet_mass', <HDF5 dataset \"jet_mass\": shape (872666,), type \"<f4\">),\n",
       " (u'jet_phi', <HDF5 dataset \"jet_phi\": shape (872666,), type \"<f4\">),\n",
       " (u'jet_pt', <HDF5 dataset \"jet_pt\": shape (872666,), type \"<f4\">),\n",
       " (u'signal', <HDF5 dataset \"signal\": shape (872666,), type \"<f4\">),\n",
       " (u'tau_1', <HDF5 dataset \"tau_1\": shape (872666,), type \"<f4\">),\n",
       " (u'tau_2', <HDF5 dataset \"tau_2\": shape (872666,), type \"<f4\">),\n",
       " (u'tau_21', <HDF5 dataset \"tau_21\": shape (872666,), type \"<f4\">),\n",
       " (u'tau_3', <HDF5 dataset \"tau_3\": shape (872666,), type \"<f4\">),\n",
       " (u'tau_32', <HDF5 dataset \"tau_32\": shape (872666,), type \"<f4\">)]"
      ]
     },
     "execution_count": 30,
     "metadata": {},
     "output_type": "execute_result"
    }
   ],
   "source": [
    "# content of the dataset\n",
    "d.items()"
   ]
  },
  {
   "cell_type": "code",
   "execution_count": 31,
   "metadata": {},
   "outputs": [],
   "source": [
    "# extract a random subset of samples\n",
    "ix = range(d['image'].shape[0])\n",
    "np.random.shuffle(ix)\n",
    "ix = ix[:nb_points]\n",
    "\n",
    "images, labels = d['image'][:][ix], d['signal'][:][ix]\n",
    "mass = d['jet_mass'][:][ix]\n",
    "delta_R = d['jet_delta_R'][:][ix]\n",
    "tau_21 = d['tau_21'][:][ix]"
   ]
  },
  {
   "cell_type": "code",
   "execution_count": 32,
   "metadata": {},
   "outputs": [],
   "source": [
    "def plot_jet_image(content, output_fname=None, vmin=1e-6, vmax=300, title=''):\n",
    "    '''\n",
    "    Function to help you visualize a jet image on a log scale\n",
    "    Args:\n",
    "    -----\n",
    "        content : numpy array of dimensions 25x25, first arg to imshow, \n",
    "            content of the image\n",
    "            e.g.: images.mean(axis=0) --> the average image\n",
    "\n",
    "        output_fname : string, name of the output file where the plot will be \n",
    "            saved. \n",
    "\n",
    "        vmin : (default = 1e-6) float, lower bound of the pixel intensity \n",
    "            scale before saturation\n",
    "\n",
    "        vmax : (default = 300) float, upper bound of the pixel intensity \n",
    "            scale before saturation\n",
    "\n",
    "        title : (default = '') string, title of the plot, to be displayed \n",
    "            on top of the image\n",
    "    '''\n",
    "    fig, ax = plt.subplots(figsize=(7, 6))\n",
    "    extent = [-1.25, 1.25, -1.25, 1.25]\n",
    "\n",
    "    im = ax.imshow(content, interpolation='nearest',\n",
    "                   norm=LogNorm(vmin=vmin, vmax=vmax), extent=extent)\n",
    "\n",
    "    cbar = plt.colorbar(im, fraction=0.05, pad=0.05)\n",
    "    cbar.set_label(r'Pixel $p_T$ (GeV)', y=0.85)\n",
    "    plt.xlabel(r'[Transformed] Pseudorapidity $(\\eta)$')\n",
    "    plt.ylabel(r'[Transformed] Azimuthal Angle $(\\phi)$')\n",
    "    plt.title(title)\n",
    "\n",
    "    if output_fname is None:\n",
    "        plt.savefig(output_fname)"
   ]
  },
  {
   "cell_type": "code",
   "execution_count": 33,
   "metadata": {
    "scrolled": true
   },
   "outputs": [],
   "source": [
    "def plot_diff_jet_image(content, output_fname=None, extr=None, title='',\n",
    "                        cmap=matplotlib.cm.seismic):\n",
    "    '''\n",
    "    Function to help you visualize the difference between two sets of jet \n",
    "        images on a linear scale\n",
    "    Args:\n",
    "    -----\n",
    "        content : numpy array of dimensions 25x25, first arg to imshow, \n",
    "            content of the image\n",
    "            e.g.: sig_images.mean(axis=0) - bkg_images.mean(axis=0)\n",
    "        output_fname : string, name of the output file where the plot will be \n",
    "            saved.\n",
    "        extr : (default = None) float, magnitude of the upper and lower \n",
    "            bounds of the pixel intensity scale before saturation (symmetric \n",
    "            around 0)\n",
    "        title : (default = '') string, title of the plot, to be displayed on \n",
    "            top of the image\n",
    "        cmap : (default = matplotlib.cm.PRGn_r) matplotlib colormap, ideally \n",
    "            white in the middle\n",
    "    '''\n",
    "    fig, ax = plt.subplots(figsize=(6, 6))\n",
    "    extent = [-1.25, 1.25, -1.25, 1.25]\n",
    "    if extr == None:\n",
    "        extr = max(abs(content.min()), abs(content.max()))\n",
    "    im = ax.imshow(\n",
    "        content,\n",
    "        interpolation='nearest',\n",
    "        norm=Normalize(vmin=-extr, vmax=+extr), extent=extent,\n",
    "        cmap=cmap\n",
    "    )\n",
    "\n",
    "    plt.colorbar(im, fraction=0.05, pad=0.05)\n",
    "    plt.xlabel(r'[Transformed] Pseudorapidity $(\\eta)$')\n",
    "    plt.ylabel(r'[Transformed] Azimuthal Angle $(\\phi)$')\n",
    "    plt.title(title)\n",
    "\n",
    "    if output_fname:\n",
    "        plt.savefig(output_fname)\n"
   ]
  },
  {
   "cell_type": "code",
   "execution_count": 34,
   "metadata": {},
   "outputs": [
    {
     "data": {
      "image/png": "iVBORw0KGgoAAAANSUhEUgAAAdsAAAF7CAYAAACaZiHaAAAABHNCSVQICAgIfAhkiAAAAAlwSFlz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\n",
      "text/plain": [
       "<matplotlib.figure.Figure at 0x7fba19b943d0>"
      ]
     },
     "metadata": {},
     "output_type": "display_data"
    }
   ],
   "source": [
    "# visualize a jet image\n",
    "plot_jet_image(images[0])"
   ]
  },
  {
   "cell_type": "code",
   "execution_count": 35,
   "metadata": {
    "scrolled": false
   },
   "outputs": [
    {
     "data": {
      "image/png": "iVBORw0KGgoAAAANSUhEUgAAAdsAAAF7CAYAAACaZiHaAAAABHNCSVQICAgIfAhkiAAAAAlwSFlz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\nrkJggg==\n",
      "text/plain": [
       "<matplotlib.figure.Figure at 0x7fba1987ef10>"
      ]
     },
     "metadata": {},
     "output_type": "display_data"
    }
   ],
   "source": [
    "# visualize the average jet image\n",
    "plot_jet_image(images.mean(axis=0))"
   ]
  },
  {
   "cell_type": "code",
   "execution_count": 36,
   "metadata": {},
   "outputs": [
    {
     "data": {
      "image/png": "iVBORw0KGgoAAAANSUhEUgAAAaoAAAFuCAYAAADQ9lxUAAAABHNCSVQICAgIfAhkiAAAAAlwSFlz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\nmdXa/wf7ZFxR5BcrcQAAAABJRU5ErkJggg==\n",
      "text/plain": [
       "<matplotlib.figure.Figure at 0x7fba4c10bc90>"
      ]
     },
     "metadata": {},
     "output_type": "display_data"
    }
   ],
   "source": [
    "# visualize the difference between the average signal and the average background image\n",
    "plot_diff_jet_image(\n",
    "    images[labels == 1].mean(axis=0) - images[labels == 0].mean(axis=0)\n",
    ")"
   ]
  },
  {
   "cell_type": "markdown",
   "metadata": {},
   "source": [
    "## Looking at Physics features"
   ]
  },
  {
   "cell_type": "code",
   "execution_count": 15,
   "metadata": {},
   "outputs": [],
   "source": [
    "def plot_physics_feature(feature_name, feature, labels, bins=None, output_fname=None):\n",
    "\n",
    "    # if bins are not defined when function is called, define them here\n",
    "    if not bins:\n",
    "        bins = np.linspace(feature.min(), feature.max(), 50)\n",
    "\n",
    "    fig, ax = plt.subplots(figsize=(6, 6))\n",
    "\n",
    "    _ = plt.hist(feature[labels == 1], bins=bins, histtype='step',\n",
    "                 label=r\"Signal ($W' \\rightarrow WZ$)\",\n",
    "                 normed=True, color='red')\n",
    "\n",
    "    _ = plt.hist(feature[labels == 0], bins=bins, histtype='step',\n",
    "                 label=r'Background (QCD dijets)', normed=True, color='blue')\n",
    "\n",
    "    plt.xlabel(r'Discretized {} of Jet Image'.format(feature_name))\n",
    "    plt.ylabel(r'Units normalized to unit area')\n",
    "    plt.legend()\n",
    "\n",
    "    if output_fname:\n",
    "        plt.savefig(output_fname)\n"
   ]
  },
  {
   "cell_type": "code",
   "execution_count": 16,
   "metadata": {},
   "outputs": [
    {
     "data": {
      "image/png": "iVBORw0KGgoAAAANSUhEUgAAAYsAAAF8CAYAAAA+d5cqAAAABHNCSVQICAgIfAhkiAAAAAlwSFlz\nAAALEgAACxIB0t1+/AAAADl0RVh0U29mdHdhcmUAbWF0cGxvdGxpYiB2ZXJzaW9uIDIuMS4wLCBo\ndHRwOi8vbWF0cGxvdGxpYi5vcmcvpW3flQAAIABJREFUeJzt3Xl8VPW9//HXp+wKCgLtraBJVESB\nQISoKEqtWIq3ZbHVite9trhxtYv22mtbt9qrtVVr1VKsC25Xq15bal36s2gVaymJ4sKmFINArQIK\nghrZPr8/zkmcDDNzziQ5mUnm/Xw85pGZ73znzGeGYT7zXc73a+6OiIhILp8qdAAiIlL8lCxERCSS\nkoWIiERSshARkUhKFiIiEknJQkREIiWaLMxsgpktNbNlZnZRhvu7mdn94f3zzKw8LO9iZrPM7BUz\nW2xm308yThERyS2xZGFmnYCbgKOBIcAJZjYkrdoZwHvuvg9wHXB1WH4c0M3dK4FRwJkNiURERNpe\nki2Lg4Bl7r7c3TcD9wGT0+pMBmaF1x8ExpmZAQ7sbGadgR7AZuD9BGMVEZEckkwWA4CVKbdXhWUZ\n67j7VmAD0JcgcXwAvAW8CfzM3d9NMFYREcmhWAe4DwK2AbsDFcB3zWyv9EpmNs3MasLLtLYOUkSk\nVHRO8NirgT1Sbg8MyzLVWRV2Oe0KrAP+A3jc3bcA75jZc0A1sDz1we4+E5gJ0K9fP6+urv51Ei9E\nRKSjqq2tXevu/aPqJZks5gODzKyCIClMJUgCqWYDpwLPA8cCc9zdzexN4EjgLjPbGRgNXJ/rycrL\ny6mpqWnllyAi0rGZ2Yo49RLrhgrHIKYDTwCLgd+6+0Izu9zMJoXVbgX6mtky4DtAw/Tam4CeZraQ\nIOnc7u4vJxWriIjkZh1lifLq6mpXy0JEJD9mVuvu1VH1inWAW0REikiSYxYiksGWLVtYtWoV9fX1\nhQ5FSkj37t0ZOHAgXbp0adbjlSxE2tiqVavo1asX5eXlBOegiiTL3Vm3bh2rVq2ioqKiWcdQN5RI\nG6uvr6dv375KFNJmzIy+ffu2qDWrZCFSAEoU0tZa+plTshARkUhKFiLSLj388MOFDqGkKFmIlKgr\nr7ySoUOHMnz4cKqqqpg3bx4Ahx56aKs/V8+ePTOWf/TRR3zuc59j27ZtbN++nd69ezfet2DBAsyM\n1157DYBNmzYxYMAANm7cyLJly/jTn/6Udxz5PMfpp59OVVVV4+Xf/u3f2G233di8eTNjx45l69at\neT9/e6bZUCKFVl4OK2KtuBBPWRnU1eWs8vzzz/PII4/wwgsv0K1bN9auXcvmzZsB+Otf/9p6sUS4\n7bbb+MpXvkKnTp12uO/Xv/41u+++O++/H+xOcO+99zJx4kR69erFXXfdxXnnnZf3833qU01/H+d6\njttvv72x3htvvMHhhx/OzJkz6dq1K+PGjeP+++/nxBNPzDuG9kotC5FCW7EC3FvvEiPxvPXWW/Tr\n149u3boB0K9fP3bffXegaSvgiiuuYPDgwRx22GGccMIJ/OxnP6Ouro7999+fb37zmwwdOpTx48fz\n0UcfATBlyhRGjRrF0KFDmTlzZmQc99xzD5Mnf7LNzc4778wHH3zApk2bePbZZznmmGPYuHEjALfc\ncgtnnXUWEHzp77///jmP/fLLL7N8+fIdyuM+R4O1a9cyYcIEfvjDHzJp0qTG13nPPfdEvr6ORMlC\npASNHz+elStXsu+++3LOOefwl7/8ZYc68+fP56GHHuKll17isccea7JQ5+uvv865557LwoUL6d27\nNw899BAQtBRqa2upqanhhhtuYN26dVlj2Lx5M8uXL6e8vLyxbJdddmHjxo3ce++9HH/88fTp04f3\n33+fF198kc6dO1NVVQWwwxd6JvX19UyZMmWHhBH3OQA+/PBDJk6cyNe+9jXOPPPMxvJhw4Yxf/78\nyBg6EiULkZYoLwez/C6rVhU6anr27EltbS0zZ86kf//+HH/88dxxxx1N6jz33HNMnjyZ7t2706tX\nLyZOnNh4X0VFReOX6qhRo6gLu71uuOEGRowYwejRo1m5ciWvv/561hjWrl3bZPwAPvkiv+222/jG\nN75Br1692LhxI7/+9a+bfFmnu/vuuxk2bFiTy9e//nVWr17N1KlTm/Uc27ZtY+rUqey3335cccUV\nTY7RqVMnunbt2tgiKQUasxBpiYYupHw8/ngyseSpU6dOHHHEERxxxBFUVlYya9YsTjvttFiPbei+\najjORx99xNNPP82TTz7J888/z0477cQRRxyR8ySwHj167HD/Lrvswpw5cxg4cCCf/exn6dWrF2+9\n9RaPP/441113XdZjnXTSSZx00klNyt58800mTZq0w+PiPsc555zDli1buOWWWzI+58cff0z37t2z\nxtTRqGUhUoKWLl3a5Ff/ggULKCsra1JnzJgx/OEPf6C+vp5NmzbxyCOP5Dzmhg0b6NOnDzvttBNL\nlizhb3/7W876ffr0Ydu2bU0Sxi677MK1117b2M3Uq1cvfvOb3zBlyhR69OiR92u8+eabGTNmTJPy\nOM9x2WWXUVtbywMPPEDnzjv+pl63bh39+vVr9jpL7ZFaFiIlaNOmTfznf/4n69evp3Pnzuyzzz47\nDEgfeOCBTJo0ieHDh/OZz3yGyspKdt1116zHnDBhAjNmzGD//fdn8ODBjB49OjKO8ePHM3fuXI46\n6igg+CJ3d8aNGwcEX+SvvfYav//97/N+jV/4whcylkc9R11dHZdeeinl5eUcdthhjY8bPHgw999/\nPwBPPfUUX/rSl/KOqV1z9w5xGTVqlIu0Ocj7IYsee6xpQVlZa86FCo7XSjZu3Oju7h988IGPGjXK\na2trW+3Y7u61tbV+0kknteox28IxxxzjS5cuLXQYeVu0aNEOZUCNx/iOVctCpNAizokopGnTprFo\n0SLq6+s59dRTGTlyZKsef+TIkXz+859n27ZtGc+1KEabN29mypQp7LvvvoUOpU0pWYhIVvfee2/i\nz/H1r3898edoTV27duWUU04pdBhtTgPcIiISSclCREQiKVmIiEgkJQsREYmkZCEiIpGULEREJJKS\nhUhb69QJamp2vLz8chuG0ImqqipGjBjByJEjm72HxWmnncaDDz7YytG1jjgbLgEsXLiQI488ksGD\nB7P33ntzySWXsH379sb6jz32GNXV1QwZMoQDDjiA7373uwBceumlDBgwgKqqKgYNGsRXvvIVFi1a\nFBlXXV0dw4YNA6CmpqZxX47Zs2dz1VVX5Xzs008/Hflv9corr8Re4ysvcc7caw8XncEtBdGcM7jT\nzqItxAncO++8c+P1xx9/3MeOHZv363B3P/XUU/2BBx5o1mO3bNnSrMfFlfoaU914441+/fXXu7v7\nhx9+6HvttZc/8cQT7h6cqT5hwgS/9tpr3d39lVde8b322ssXL17s7u5bt271m2++2d3dL7nkEr/m\nmmsaj3vffff5Zz7zGX/nnXdyxvXGG2/40KFDm/Wa0p8zm3HjxvmKFSt2KG/JGdxqWYgUWOPeR/Nr\nWiVd5Lvp3vvvv0+fPn2AYM2ocePGMXLkSCorK5usyXTnnXcyfPhwRowYwcknn7zDcX74wx9y2mmn\nsW3bNh599FH2228/Ro0axXnnnceXv/xlIPg1fvLJJzNmzBhOPvlk6uvrOf3006msrOSAAw7gqaee\nAuCOO+5g+vTpjcf+8pe/zNNPPw0ELYaLL764cSn0t99+Gwh2szvkkEOorKzkBz/4QdbXm7rh0r33\n3suYMWMYP348ADvttBM33ngj11xzDQA//elPufjii9lvv/2AoEV29tlnZzzu8ccfz/jx4zOeyFhb\nW8uIESMYMWIEN910U2P5008/3fjepL7mNWvW8NWvfpUDDzyQAw88kOeee466ujpmzJjBddddR1VV\nFc8++ywPPPAAw4YNY8SIEYwdO7bxuBMnTuS+++7L+h40h87gFilBH330EVVVVdTX1/PWW28xZ84c\nALp3787DDz/MLrvswtq1axk9ejSTJk1i0aJF/PjHP+avf/0r/fr14913321yvAsvvJCNGzdy++23\n8/HHH3PmmWfyzDPPUFFRwQknnNCk7qJFi5g7dy49evTg5z//OWbGK6+8wpIlSxg/fnzjftjZfPDB\nB4wePZorr7yS733ve9xyyy384Ac/4Pzzz+fss8/mlFNOafKFnCp9w6WFCxcyatSoJnX23ntvPvro\nI9avX8+rr77a2O0Ux8iRI1myZMkO5aeffjo33ngjY8eO5cILL4w8zvnnn8+3v/1tDjvsMN58802+\n+MUvsnjxYs466yx69uzJBRdcAEBlZSVPPPEEAwYMYP369Y2Pr66u5qqrruJ73/te7NijqGUhUoJ6\n9OjBggULWLJkCY8//jinnHJKY3fDf//3fzN8+HCOOuooVq9ezdtvv82cOXM47rjj6NevHwC77bZb\n47GuuOIKNmzYwIwZMzAzlixZwl577UVFRQXADsli0qRJjUuBz507t3Efiv3224+ysrLIZNG1a9fG\nX+OpGy8999xzjc+VqeUDmTdcak1Br05T69evZ/369Y2//LPFlurJJ59k+vTpVFVVMWnSJN5//302\nbdq0Q70xY8Zw2mmnccsttzSOwQB8+tOf5p///GcLXsmO1LIQiaO8PHP/TtoeEO3RIYccwtq1a1mz\nZg2PPvooa9asoba2li5dulBeXp5zAyMIljKvra3l3XffbZJEstl5550j63Tu3LnJIHNqDF26dMHM\ngKBbaOvWrY33NZRnk77h0pAhQ3jmmWea1Fm+fDl9+/ald+/eDB06tLELKY4XX3yR6urqWHVz2b59\nO3/7298iN1eaMWMG8+bN449//COjRo2itraWvn37Ul9fn/f+H1HUshCJo3FgIe1SxCvGxrVkyRK2\nbdtG37592bBhA5/+9Kfp0qULTz31FCvCBHnkkUfywAMPNO6pndoNNWHCBC666CK+9KUvsXHjRgYP\nHszy5csbf/E37AGRyeGHH84999wDwGuvvcabb77J4MGDKS8vZ8GCBWzfvp2VK1fy97//PfJ1jBkz\nprGfvuGY6dI3XDrxxBOZO3cuTz75JBB0z5133nlcdtllQNC99pOf/KSxtbN9+3ZmzJiR8dgPPfQQ\nf/rTn3ZoSfXu3ZvevXszd+7cnLGlGj9+PL/85S8bby9YsACgcQvYBv/4xz84+OCDufzyy+nfvz8r\nV64EgveyYcZVa1GyEClBDWMWVVVVHH/88cyaNYtOnTpx4oknUlNTQ2VlJXfeeWfjwO7QoUO5+OKL\n+dznPseIESP4zne+0+R4xx13HN/85jeZNGkSADfffDMTJkxg1KhR9OrVK+umSeeccw7bt2+nsrKy\ncR/wbt26MWbMGCoqKhgyZAjnnXderKXRf/GLX3DTTTdRWVnJ6tWrs9Zr2HAJgpbG7NmzufLKK9l3\n333p168fY8aM4cQTTwRg+PDhXH/99Zxwwgnsv//+DBs2jOXLlzceq2GwedCgQdx9993MmTOH/v37\n7/Cct99+O+eeey5VVVUZu6oaNLSMbrjhBmpqahg+fDhDhgxpTFATJ07k4YcfbhzgvvDCC6msrGTY\nsGEceuihjS2gRDZnijNlqrkXYAKwFFgGXJTh/m7A/eH984DysPxEYEHKZTtQleu5NHVWEtWMKbLZ\nFMPU2aQ1bJq0fft2P/vssxunohaDXBsuPfzww15RUeF1dXVtHJX7z372M//Rj37U4uPU19f7wQcf\nnHFqclFOnTWzTsBNwNHAEOAEMxuSVu0M4D133we4Drg6TGD3uHuVu1cBJwNvuPuCpGIVKaS6utad\nOlsMPWO33HILVVVVDB06lA0bNnDmmWcWOqRGqRsupZsyZQrLly/fYT/ypM2YMYM77rijcbC/Jd58\n802uuuqqjHuHt4R5jiZRiw5sdghwqbt/Mbz9fQB3/5+UOk+EdZ43s87Av4D+nhKUmf0keJhfnOv5\nqqurvaamJoFXIgKYBd/ErWDx4sXsv//+O95RUwOtMDgqkk2mz56Z1bp75AcvyTGLAcDKlNurwrKM\nddx9K7AB6JtW53jgfxOKUUREYijqAW4zOxj40N1fzXL/NDOrMbOaNWvWtHF0Is2XVIteJJuWfuaS\nTBargT1Sbg8MyzLWCbuhdgXWpdw/lRytCnef6e7V7l6daQaCSDHq3r0769atU8KQNuPurFu3LvK8\njVySPClvPjDIzCoIksJU4D/S6swGTgWeB44F5jSMV5jZp4CvAYcnGKNImxs4cCCrVq1ih9bw2rWw\neHFhgpIOr3v37gwcOLDZj08sWbj7VjObDjwBdAJuc/eFZnY5wVSt2cCtwF1mtgx4lyChNBgLrHT3\n5enHFmnPunTp0rgURhNHH539LPFimOIkJS2x2VBtTbOhJFGtOBuqXT23dHjFMBtKREQ6CCULERGJ\npGQhIiKRlCxERCSSkoWIiERSshARkUhKFiIiEknJQkREIilZiIhIJCULERGJpGQhIiKRlCxERCSS\nkoWIiERSshARkUhKFiKpysuDJcHTL2VlhY5MpKCS3ClPpP1ZsUJ7R4hkoJaFiIhEUrIQEZFIShYi\nIhJJyUJERCIpWYiISCQlCxERiaRkISIikZQsREQkkpKFiIhEUrIQEZFIShYiIhJJyUJERCIpWYiI\nSCQlCxERiaRkISIikZQsRIpdWVnmDZnKywsdmZSQRJOFmU0ws6VmtszMLspwfzczuz+8f56Zlafc\nN9zMnjezhWb2ipl1TzJWkaJVVxdsyJR+WbGi0JFJCUksWZhZJ+Am4GhgCHCCmQ1Jq3YG8J677wNc\nB1wdPrYzcDdwlrsPBY4AtiQVq4iI5JZky+IgYJm7L3f3zcB9wOS0OpOBWeH1B4FxZmbAeOBld38J\nwN3Xufu2BGMVEZEckkwWA4CVKbdXhWUZ67j7VmAD0BfYF3Aze8LMXjCz7yUYp5Si8vLM4wBlZYWO\nTKQodS50AFl0Bg4DDgQ+BP5sZrXu/ufUSmY2DZgGsOeee7Z5kNKOrVgR9PuLSCxJtixWA3uk3B4Y\nlmWsE45T7AqsI2iFPOPua939Q+BRYGT6E7j7THevdvfq/v37J/ASREQEkk0W84FBZlZhZl2BqcDs\ntDqzgVPD68cCc9zdgSeASjPbKUwinwMWJRiriIjkkFg3lLtvNbPpBF/8nYDb3H2hmV0O1Lj7bOBW\n4C4zWwa8S5BQcPf3zOxagoTjwKPu/sekYhURkdzMO0i/bXV1tdfU1BQ6DGkvzNr/mEVHeA1ScOF4\ncHVUPZ3BLSIikZQsREQkkpKFiIhEUrIQEZFIShYiIhJJyUJERCJFnmdhZoOA/yFYObZxmXB33yvB\nuEREpIjEaVncDvwK2Ap8HriTYPlwEREpEXGSRY9wAT9z9xXufinwpWTDEhGRYhJnuY+PzexTwOvh\n8h2rgZ7JhiUiIsUkTsvifGAn4DxgFHASnyz+JyIiJSCyZeHu8wHMbLu7n558SCIiUmwiWxZmdoiZ\nLQKWhLdHmNnNiUcmIiJFI0431PXAFwk2JSLcF3tskkGJiEhxiXVSnruvTCvalkAsIiJSpOLMhlpp\nZocCbmZdCAa8FycbloiIFJM4LYuzgHOBAQTTZqvC2yIiUiJytizMrBNwsruf2EbxiIhIEcrZsnD3\nbcB/tFEsIiJSpOKMWcw1sxuB+4EPGgrd/YXEohIRkaISJ1lUhX8vTylz4MjWD0dERIpRnDO4P98W\ngYiISPGK07LAzL4EDKXpfhaXZ3+EiIh0JHGW+5gBHA/8J2DAcUBZwnGJSJSyMjDLfCkvL3R00sHE\nOc/iUHc/BXjP3S8DDgH2TTYsEYlUVwfumS8rVhQ6Oulg4iSLj8K/H5rZ7sAW4LPJhSQiIsUmzpjF\nI2bWG7gGeIFgJtQtiUYlIiJFJc5sqCvCqw+Z2SNAd3ffkGxYIiJSTGLNhmrg7h8DHycUi4iIFKlY\nS5SLiEhpU7IQEZFIcc6z+HOcMhER6biyJgsz625muwH9zKyPme0WXsoJ9raIZGYTzGypmS0zs4sy\n3N/NzO4P758XHhszKzezj8xsQXiZ0ZwXJ0J5eeaT1sp0XqlIPnINcJ8JfAvYnWDKbIP3gRujDhzu\nhXET8AVgFTDfzGa7+6KUamcQnOy3j5lNBa4mOFsc4B/uXoVIS6xYEZykJiItkrVl4e6/cPcK4AJ3\nr0i5jHD3yGQBHAQsc/fl7r4ZuA+YnFZnMjArvP4gMM7MrBmvQ0REEpS1ZWFmR7r7HGC1mX0l/X53\n/7+IYw8AVqbcXgUcnK2Ou281sw1A3/C+CjN7kaAl8wN3fzbi+UREJCG5uqE+B8wBJma4z4GoZNES\nbwF7uvs6MxsF/M7Mhrr7+6mVzGwaMA1gzz33TDAcEZHSljVZuPsl4d/Tm3ns1cAeKbcHhmWZ6qwy\ns87ArsA6d3fCk//cvdbM/kGweGFNWowzgZkA1dXV6pgWEUlI5BncZtYN+CpQnlo/xn4W84FBZlZB\nkBSmsuN+3rOBU4HngWOBOe7uZtYfeNfdt5nZXsAgYHmsVyQiIq0uznIfvwc2ALXksdRHOAYxHXgC\n6ATc5u4LzexyoMbdZwO3AneZ2TLgXYKEAjAWuNzMtgDbgbPc/d24zy0iIq3LPGJaoZm96u7D2iie\nZquurvaamproilJazEpz6mypvm7Jm5nVunt1VL04y3381cwqWyEmERFpp+J0Qx0GnGZmbxB0Qxng\n7j480chERKRoxEkWRycehYiIFLU4yUIdnyIiJS5OsvgjQcIwoDtQASwFhiYYl4iIFJE426o2Gdw2\ns5HAOYlFJCIiRSfvzY/c/QV2XONJREQ6sDhncH8n5eangJHAPxOLSEREik6clkWvlEs3gjGM9KXG\nRQon2wZH2uRIpNXEGbO4rC0CEWk2bXAkkri8xyxERKT0KFmIiEgkJQsREYkUmSzMbKCZPWxma8zs\nHTN7yMwGtkVwIiJSHOK0LG4n2KTos8DuwB/CMhERKRFxkkV/d7/d3beGlzuA/gnHJSIiRSROslhn\nZieZWafwchKwLunARESkeMRJFl8Hvgb8C3iLYK/s0xKMSUREikycVWcHuvuk1AIzGwOsTCYkEREp\nNnFaFr+MWSYiIh1U1paFmR0CHAr0T1tMcBegU9KBiYhI8cjVDdUV6BnW6ZVS/j7BuIWIiJSIrMnC\n3f8C/MXM7nD3FW0Yk4i0VFlZsOpupvK6ujYPR9q/OKvOKlGItDfZEkKmBCISg9aGEhGRSEoWIiIS\nKddsqF8CWXeUcffzEolIRESKTq6WRQ1QC3Qn2Hf79fBSRTBTSkRESkSu2VCzAMzsbOAwd98a3p4B\nPNs24YmISDGIM2bRh+BEvAY9wzIRESkRcdaGugp40cyeAgwYC1yaZFAiIlJc4pxncbuZPQYcHBb9\nl7v/K9mwRESkmMTZVtWAo4AR7v57oKuZHRTn4GY2wcyWmtkyM7sow/3dzOz+8P55Zlaedv+eZrbJ\nzC6I9WqkYysvD04qS7+UlRU6MpEOL86Yxc3AIcAJ4e2NwE1RDzKzTmG9o4EhwAlmNiSt2hnAe+6+\nD3AdcHXa/dcCj8WIUUrBihXgvuNFy1eIJC5OsjjY3c8F6gHc/T3iTZ09CFjm7svdfTNwHzA5rc5k\nYFZ4/UFgXNiSwcymAG8AC2M8l4iIJChOstgSthIcwMz6A9tjPG4ATTdIWhWWZawTTs3dAPQ1s57A\nfwGX5XoCM5tmZjVmVrNmzZoYIYmISHPESRY3AA8DnzazK4G5wE8SjSqYbXWdu2/KVcndZ7p7tbtX\n9+/fP+GQRERKV5zZUPeYWS0wjmDq7BR3Xxzj2KuBPVJuDwzLMtVZZWadgV2BdQQzr441s58CvYHt\nZlbv7jfGeF4REWllcWZD3Qp0d/eb3P1Gd19sZpfGOPZ8YJCZVZhZV2AqMDutzmzg1PD6scAcDxzu\n7uXuXg5cD/xEiUJEpHDidEN9EZhlZqeklE2KelA4BjEdeAJYDPzW3Rea2eVm1vD4WwnGKJYB3wF2\nmF4rIiKFF+cM7neAzwN3m9nBwPkE3VGR3P1R4NG0sh+lXK8Hjos4xqVxnktERJITp2Vh7r7B3ScC\na4CnCcYWRESkRMRJFo3jDOGv/KuBuoTiERGRIhSZLNz9krTbf3D3I5MLSUREik2unfLmuvthZraR\npjvmGeDuvkuWh4qISAeTa/Ojw8K/vdouHBERKUa5Wha75Xqgu7/b+uGIiEgxyjV1tpag+ynTNFkH\n9kokIhERKTq5uqEq2jIQEREpXnFOysPM+gCDgO4NZe7+TFJBiYhIcYlMFmb2DYKztgcCC4DRwPOA\nps+KiJSIOCflnQ8cCKxw988DBwDrE41KRESKSpxkUR+u4YSZdXP3JcDgZMMSEZFiEmfMYpWZ9QZ+\nB/w/M3sPWJFsWCIiUkzibH50THj1UjN7imARwccTjUpERIpKnG4ozKyPmQ0HNhLspT0s0ajasfJy\nMNvxUl5e6MhERJovzmyoK4DTgOXA9rDY0WyojFasAPcdyy3WDiAiIsUpzpjF14C93X1z0sGIiEhx\nitMN9SrQO+lARESkeMVpWfwP8KKZvQp83FDo7pH7cIs0S3l50J+XrqyszUMRkUCcZDGLYHe8V/hk\nzKLk6fssQdkGfkSkYOIkiw/d/YbEIylSuZKCvs+k3SkryzzboqwM6uraPBxpP+Iki2fN7H8I9uJO\n7YZ6IbGoCkBJQUpCtoSg6XoSIU6yOCD8OzqlrMNNnU265yPbD7qG+/L5UZcrsenHoYgkIWeyMLNP\nAb9y99+2UTwdVq4v8Xx/1GVLbA0nBKZTEhGRlso5ddbdtwPfa6NYpIXq6oIkkn7J1AoREclHnPMs\nnjSzC8xsDzPbreGSeGQlpKGLSkuEiEixijNmcXz499yUMu3B3Yo05igixS7OqrPai7uda83BdREp\nTXEWEuwCnA2MDYueBn7t7lsSjEvIPSU+H605uC4ipSlON9SvgC7AzeHtk8OybyQVlAT0i19EikWc\nZHGgu49IuT3HzF5KKiBpWzqhV0TiiDMbapuZ7d1ww8z2ArbFObiZTTCzpWa2zMwuynB/NzO7P7x/\nnpmVh+UHmdmC8PKSmR2T/lhoiLr1AAAVDklEQVRpHZpuKyJxxGlZXAg8ZWbLAQPKgNOjHmRmnYCb\ngC8Q7K4338xmu/uilGpnAO+5+z5mNpVgwcLjCZZFr3b3rWb2WeAlM/uDu2/N58VJ86nFISKp4syG\n+rOZDQIGh0VL3f3jXI8JHQQsc/flAGZ2HzAZSE0Wk4FLw+sPAjeambn7hyl1uhNM1ZU2lC0h6Cxx\nkdIUp2UBMAooD+tXmRnufmfEYwYAK1NurwIOzlYnbEVsAPoCa83sYOA2gpbMyWpVFAedEyJSmuJM\nnb0L2BtYwCdjFQ5EJYsWcfd5wFAz2x+YZWaPuXt9WmzTgGkAe+65Z5LhiIiUtDgti2pgiHvea7Ku\nBvZIuT0wLMtUZ5WZdQZ2BdalVnD3xWa2CRgG1KTdNxOYCVBdXa2uqgLSiX8iHVvcPbj/rRnHng8M\nMrMKM+sKTCXYEyPVbODU8PqxwBx39/AxnQHMrAzYD6hrRgzSRrLNqtLMKpGOIU7Loh+wyMz+Th57\ncIdjENOBJ4BOwG3uvtDMLgdq3H02cCtwl5ktA94lSCgAhwEXmdkWgq1cz3H3tXm+NilyWffl4A39\nMhApMhbVu2Rmn8tU7u5/SSSiZqqurvaamproilmYaUe8pGR7b/Mt16ZPCdJ/gJJlZrXuXh1VL87U\n2aJKCtL+tNYaV9k2fdJMLJHkxZ06K9Js+f7qL6OO8GT+puV5JhcRaT1xBrhF2lQdFRkHyrMlnWyb\nR2kDqTxoBy6JkFfLwsz6AHu4+8sJxSOlJNcgRB60BHsr0NmWEiHOSXlPA5PCurXAO2b2nLt/J+HY\npKPLNgghIkUnTjfUru7+PvAV4E53Pxg4KtmwRESkmMRJFp3DlV+/BjyScDwiIlKE4iSLywhOrFvm\n7vPD/SxeTzYskdahcVuR1hFngPstdx/ecMPdl5vZtQnGJNJqNG4r0jritCx+GbNMREQ6qKwtCzM7\nBDgU6G9mqTOfdiFY60mk3dJOgCL5ydUN1RXoGdbplVL+PsEKsSLtlrqnRPKTNVmEa0L9xczucHct\nMi0iUsJydUNd7+7fItgXe4czp6KWKBcRkY4jVzfUXeHfn7VFICIiUrxydUPVhn+1RLm0TCutAVWM\nsr000GC5dCxx1oYaA1wKlIX1DXB33yvZ0KTDaEdrQOXaSzxb/WwvTYPl0pHEOSnvVuDbBIsIbks2\nHJHCUktAJLM4J+VtcPfH3P0dd1/XcEk8MpF2rrWWGikv15IlUnhxWhZPmdk1wP8BHzcUuvsLiUUl\n0gG01rkc2k5WikGcZHFw+Dd1Q28Hjmz9cERKV77zAHKNr2hwXVpbZLJw98+3RSAipSLXUiP5zAPQ\nDoHSlnKdlJe+E54Da4G57v5GolGJdGD6xS/tUa4B7l5pl10IuqIeM7OpbRCbiDRTtsH1bBcNlkuU\nXCflXZap3Mx2A54E7ksqKBFpmXxbL+q2kihxps424e7vEpyYJ/KJbPM7zTrEmdoipS7ObKgmzOzz\nwHsJxCLtWTs6S1tE8pdrgPsVgkHtVLsB/wROSTIoEREpLrlaFl9Ou+3AOnf/IMF4RESkCOUa4NaG\nRyIiAjRjgFtEREqPkoWIZF/0EJ1/K4FEk4WZTTCzpWa2zMwuynB/NzO7P7x/npmVh+VfMLNaM3sl\n/Kt1qEQSVFcXTGZLv6ygvNChSZFILFmYWSfgJuBoYAhwgpkNSat2BvCeu+8DXAdcHZavBSa6eyVw\nKp9s8SoibaiMOp31LUCyLYuDgGXuvtzdNxOc8T05rc5kYFZ4/UFgnJmZu7/o7v8MyxcCPcysW4Kx\nikgGdVRkbHG4Z99OVjqmJJPFAGBlyu1VYVnGOu6+FdgA9E2r81XgBXf/GBFpW7kWmcpTa27ipA2h\n2l7eZ3C3JTMbStA1NT7L/dOAaQB77rlnG0YmUiJyroOe36FacxMnbQjV9pJsWawG9ki5PTAsy1jH\nzDoDuwLrwtsDgYeBU9z9H5mewN1nunu1u1f379+/lcMXkebI9qs/3yXCtNxYcUkyWcwHBplZhZl1\nBaYCs9PqzCYYwAY4Fpjj7m5mvYE/Ahe5+3MJxij5aq1vAmn3sg1+Q+YxjnxXwm1oPbTGsaTlEuuG\ncvetZjYdeALoBNzm7gvN7HKgxt1nA7cCd5nZMuBdgoQCMB3YB/iRmf0oLBvv7u8kFa/EpAUDJVRH\nhT4LJcS8g/xjV1dXe01NTbMfb6bPfSx6o6RBK30Wsh2mOYfXxzN/Zlbr7tVR9XQGt4gUVLYJV23R\ns6lZVfEV9WwoEen4Cjn+oFlV8allISIdnuZltJxaFiLSYTR0aWUq11hGy6hlIZnpp5i0Q9kWRMy3\nqyvXieulOp6hloVkpimyUsJynrheouMZalmIiEgkJQsRkTxk3SiqvNCRJUvdUCIiecjWRdXRu6fU\nshARSVBHOfFPyUJEpBVk656CzDO0oH0lEXVDiUjz5DqpoQSXhc33Jbe37iwlCxFpnvb2bSctom4o\nEZEiUqwnBCpZiIgUkWxnoRd6nEPdUKWuvDw4WzudlvUQKTqF7PlTsih1WtZDRGJQN5SIiERSshAR\nkUhKFiIiEknJohRkW29A+1OISEwa4C4FGsQWkRZSy0JERCIpWYiISCQlCxERiaRkISIikZQsRKR1\nleq+ox2cZkOJSOvS0uUdkloWIiISScmiI8l28p1OvBORFlI3VEeik+9EJCFqWYiISKREk4WZTTCz\npWa2zMwuynB/NzO7P7x/npmVh+V9zewpM9tkZjcmGWNRy9atpFklItLGEksWZtYJuAk4GhgCnGBm\nQ9KqnQG85+77ANcBV4fl9cAPgQuSiq9daOhWiru3osYmRCQhSbYsDgKWuftyd98M3AdMTqszGZgV\nXn8QGGdm5u4fuPtcgqQh6bJt0pttyqKISAslmSwGACtTbq8KyzLWcfetwAagb4IxiUih6GS9dq1d\nD3Cb2TQzqzGzmjVr1hQ6nObTlFcpBdlaxCtWFDoyiSHJZLEa2CPl9sCwLGMdM+sM7Aqsi/sE7j7T\n3avdvbp///4tDLeAso1NqFtJRIpEksliPjDIzCrMrCswFZidVmc2cGp4/VhgjrtOFBARKTaJnZTn\n7lvNbDrwBNAJuM3dF5rZ5UCNu88GbgXuMrNlwLsECQUAM6sDdgG6mtkUYLy7L0oqXhERyS7RM7jd\n/VHg0bSyH6VcrweOy/LY8iRjExGR+Nr1AHe7km0QWwPZItIOKFk0V75nV2cbxNZAtoi0A1pIsLmy\nLdqnNftFpANSy6K1ZTvxSF1NIpnpZL12QS2L1qYuJZH8aGe9dkEtCxERiaRkISIikZQsREQkkpKF\niIhEUrIQkeKUbZaUZkoVhGZDiUhxyjWzUDOl2pxaFlG014SIiFoWTWT6tVJWlvlMbRGREqJkkUpJ\nQaR9aBjPyFSuE2MToWQhIu2PzvpucxqzEJGOQ+tMJUbJQkQ6jrq6zNsAgJJIC6kbSkQ6PnVbtZha\nFiJSutRtFZtaFiJSutTiiE0tCxGRYpLtROACt3iULERE0jVnXapsX/L51ofMg/TuwXbOBaJuKBGR\ndLlO7Gv4kk+XbbWHbF1aK1a0qxOBlSxERPJRyDPEs525TvJJR8lCRCRJuZYmyVfWAfn8D5UvJQsR\nkSR1kLWqNMAtIiKRlCxERCSSkoWIiERSshARkUhKFiIiEknJQkREIiWaLMxsgpktNbNlZnZRhvu7\nmdn94f3zzKw85b7vh+VLzeyLScYpIiK5JZYszKwTcBNwNDAEOMHMhqRVOwN4z933Aa4Drg4fOwSY\nCgwFJgA3h8cTEZECSLJlcRCwzN2Xu/tm4D5gclqdycCs8PqDwDgzs7D8Pnf/2N3fAJaFxxMRkQJI\nMlkMAFam3F4VlmWs4+5bgQ1A35iPFRGRNtKul/sws2nAtPDmJjNb2oLD9TNjbSuE1dr6geLKg+LK\nj+LKT9HG1YLvr1iLVCWZLFYDe6TcHhiWZaqzysw6A7sC62I+FnefCcxsjWDNrMbdq1vjWK1JceVH\nceVHceWnlONKshtqPjDIzCrMrCvBgPXstDqzgVPD68cCc9zdw/Kp4WypCmAQ8PcEYxURkRwSa1m4\n+1Yzmw48AXQCbnP3hWZ2OVDj7rOBW4G7zGwZ8C5BQiGs91tgEbAVONfdtyUVq4iI5JbomIW7Pwo8\nmlb2o5Tr9cBxWR57JXBlkvGlaZXurAQorvworvworvyUbFzm7WhbPxERKQwt9yEiIpFKMlmYWW8z\ne9DMlpjZYjM7xMx2M7P/Z2avh3/7FElcl5rZajNbEF7+vY1jGpzy3AvM7H0z+1ah368ccRX0/Qpj\n+7aZLTSzV83sf82sezjRY164hM394aSPYojrDjN7I+X9qipAXOeHMS00s2+FZcXw/zFTXAX5fJnZ\nbWb2jpm9mlKW8T2ywA3hZ+1lMxvZKkG4e8ldCM4a/0Z4vSvQG/gpcFFYdhFwdZHEdSlwQaHfszCm\nTsC/COZlF/z9yhJXQd8vgpNH3wB6hLd/C5wW/p0als0Azi6SuO4Aji3g+zUMeBXYiWAM9Ulgn0J/\nvnLEVZDPFzAWGAm8mlKW8T0C/h14jGBn7tHAvNaIoeRaFma2K8EbfyuAu2929/U0XXpkFjClSOIq\nJuOAf7j7Cgr8fqVJjasYdAZ6hOcO7QS8BRxJsKQNFO79So/rnwWIId3+BF9mH3qwisNfgK9Q+M9X\ntrgKwt2fIZgxmirbezQZuNMDfwN6m9lnWxpDySULoAJYA9xuZi+a2W/MbGfgM+7+VljnX8BniiQu\ngOlhc/K2QjTHU0wF/je8Xuj3K1VqXFDA98vdVwM/A94kSBIbgFpgffilAwVYviZTXO7+p/DuK8P3\n6zoz69aWcRH8ej/czPqa2U4Ev4r3oPCfr2xxQfH8f8z2HiWyXFIpJovOBM25X7n7AcAHBE24Rh60\n5dp6mli2uH4F7A1UEfwn/3kbxwVA2Mc+CXgg/b4CvV9AxrgK+n6FXx6TCZL/7sDOBCsnF1SmuMzs\nJOD7wH7AgcBuwH+1ZVzuvphgtek/AY8DC4BtaXXa/POVI66i+P+Yri3eo1JMFquAVe4+L7z9IMGX\n9NsNTbXw7zvFEJe7v+3u29x9O3ALhVt992jgBXd/O7xd6PcrY1xF8H4dBbzh7mvcfQvwf8AYgq6A\nhvOaMi5fU4C4DnX3t8Luio+B2ynA58vdb3X3Ue4+FngPeI0i+HxliqsIPl+psr1HsZZLylfJJQt3\n/xew0swGh0XjCM4UT1165FTg98UQV1pf4zEEzeNCOIGmXT0Ffb9SNImrCN6vN4HRZraTmRmffL6e\nIljSBgrzfmWKa3HKl40R9Hm3+efLzD4d/t2TYFzgXorg85UpriL4fKXK9h7NBk4JZ0WNJuhyfCvT\nAfLS1qP6xXAhaELWAC8DvwP6ECyN/mfgdYKZD7sVSVx3Aa+EZbOBzxYgrp0JFnjcNaWsGN6vTHEV\nw/t1GbCE4IvkLqAbsBfB+mbLCLrMuhVJXHPC9+tV4G6gZwHiepYgob4EjCuiz1emuAry+SL4QfQW\nsIWgF+KMbO8RwSyom4B/hLFWt0YMOoNbREQilVw3lIiI5E/JQkREIilZiIhIJCULERGJpGQhIiKR\nlCxERCSSkoWIiERSspDEmdm2cO3/hWb2kpl918w+Fd731wSft7eZnZNW1uLnC/c0uKClx4nxPOdZ\nsK/JPWnlmyIet8PrzlAn5zFE0ilZSFv4yN2r3H0o8AWC9ZwuAXD3Q1ty4HBJg2yf495Aky/Nlj5f\nGzsH+IK7n5jn43Z43SItpWQhbcrd3wGmESzzbA2/cM1sZzP7Y9jyeNXMjg/LTwmXg37JzO4Ky8rN\nbKmZ3UmwTMUeZnaSmf09bMH82sw6AVcBe4dl14SPbXi+s+yT3c7eMLOnwvJMx8HMLjaz18xsLjCY\nLMzsATO70czmmtkKMzvMzO4KH3trhvrfCV/vqxbuxhaWzyBYIuQxM/t2jueL9bqzPLbcgl0Z7wjj\nu8fMjjKz5yzYfe2glLq/M7PasHU4LaX8h+G/xVwLdt+7IOW+jO+ltFNtvd6KLqV3ATZlKFtPsP7+\npvD2V4FbUu7fFRhKsAJpv7CsYe2bcmA7MDq8vT/wB6BLePtm4JSw3qu5YgG6EKwBNDHHcUYRrLGz\nE7ALwfpOGXdLI1h76Tvh9f8GlgKfJViC/l+krAmVctydgZ7AQuCAlPvrGl57pteQz+vOdIyw3lag\nkuCHYy1wG8HaQpOB36XUb3jvexAk6L4Ey5ovALoDvQjWKLogV2yF/izq0vxLw5LJIoX2CvBzM7sa\neMTdnzWzU4AH3H0tgLun7hS2woNdwCBYQXUUMD9YPJUeBMs1PxPjeX8BzHH3P5jZ9CzH2Q142N0/\nBDCz2ZkOZGbdCbqArg+LHLjVwxU/zWwbsDnlIYeFx/0gvP//gMOBF2PEDS173Q3ecPdXwudfCPzZ\n3d3MXiFIJg3OM7Njwut7AIMItuz8vbvXA/Vm9ocYsUk7pWQhbc7M9iLYSKbxy8PdX7NgY/l/B35s\nZn8m2EMgmw9SDwnMcvfvpz1PeUQcpxHs2z094jjfIp6hBHtrbA9vjyDYLAczGwj8091bc+XOZr3u\nNB+nXN+ecns74feDmR1BsB/GIe7+oZk9TdCayDs2ab80ZiFtysz6AzOAG1O/OM1sd+BDd78buIZg\nQ6o5wHFm1jess1uWw/4ZONY+2X9gNzMrAzYSdI9kimMUcAFwUsqXe7bjPANMMbMeZtaLoMsqk0qC\n5awbDCdYyhqCxPFyWv1nw+PuZMEWuseEZXHl/bqbaVfgvTBR7EfQogB4DphoZt3NrCfw5RixSTul\nloW0hR5mtoBgfGArwZ4A16bVqQSuMbPtBGv2n+3uC83sSuAvYRfOi8Bp6Qd390Vm9gPgTxbMjNoC\nnOvufwsHa18FHnP3C1MeNp2ge+mpsJukxt2/keM49xMkgneA+VleZyXBnhUNXVI93L2hdZSaOBri\nfsHM7mh4DPAbd8/ZBWXBbnsft+B1N8fjwFlmtphgDOZv4fPPD7vkXgbeJuhK3JArNmBFC2ORAtF+\nFiLtiJmNIJgIUMjtPBuZWU9332RmOxG0wKa5+wuFjktan1oWIu2EmZ0FnAfEHUNpCzPNbAjBGMYs\nJYqOSy0LERGJpAFuERGJpGQhIiKRlCxERCSSkoWIiERSshARkUhKFiIiEknJQkREIilZiIhIpP8P\nWaZLpSWIywkAAAAASUVORK5CYII=\n",
      "text/plain": [
       "<matplotlib.figure.Figure at 0x7fba3c739250>"
      ]
     },
     "metadata": {},
     "output_type": "display_data"
    }
   ],
   "source": [
    "plot_physics_feature(r'$m$', mass, labels)"
   ]
  },
  {
   "cell_type": "code",
   "execution_count": 17,
   "metadata": {},
   "outputs": [
    {
     "data": {
      "image/png": "iVBORw0KGgoAAAANSUhEUgAAAXwAAAF7CAYAAADR4jByAAAABHNCSVQICAgIfAhkiAAAAAlwSFlz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\nTkSuQmCC\n",
      "text/plain": [
       "<matplotlib.figure.Figure at 0x7fba3c6dbed0>"
      ]
     },
     "metadata": {},
     "output_type": "display_data"
    }
   ],
   "source": [
    "plot_physics_feature(r'$\\Delta R$', delta_R, labels)"
   ]
  },
  {
   "cell_type": "code",
   "execution_count": 18,
   "metadata": {},
   "outputs": [
    {
     "data": {
      "image/png": "iVBORw0KGgoAAAANSUhEUgAAAYUAAAF8CAYAAAAgvqeZAAAABHNCSVQICAgIfAhkiAAAAAlwSFlz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\nAAAASUVORK5CYII=\n",
      "text/plain": [
       "<matplotlib.figure.Figure at 0x7fba3c68a390>"
      ]
     },
     "metadata": {},
     "output_type": "display_data"
    }
   ],
   "source": [
    "plot_physics_feature(r'$\\tau_{2,1}$', tau_21, labels)"
   ]
  },
  {
   "cell_type": "markdown",
   "metadata": {},
   "source": [
    "## Simple physics-based classifier"
   ]
  },
  {
   "cell_type": "markdown",
   "metadata": {},
   "source": [
    "#### Data processing"
   ]
  },
  {
   "cell_type": "code",
   "execution_count": 19,
   "metadata": {},
   "outputs": [],
   "source": [
    "features = np.stack((mass, tau_21, delta_R)).T"
   ]
  },
  {
   "cell_type": "code",
   "execution_count": 20,
   "metadata": {},
   "outputs": [
    {
     "data": {
      "text/plain": [
       "array([[ 95.23803711,   0.51994395,   0.58262563],\n",
       "       [ 78.29444885,   0.29938018,   0.49578127],\n",
       "       [ 78.15759277,   0.21816424,   0.60363209],\n",
       "       ..., \n",
       "       [ 76.59591675,   0.20300402,   0.56302619],\n",
       "       [ 63.83880234,   0.30044636,   0.50084668],\n",
       "       [ 69.8734436 ,   0.22793399,   0.51778704]], dtype=float32)"
      ]
     },
     "execution_count": 20,
     "metadata": {},
     "output_type": "execute_result"
    }
   ],
   "source": [
    "features"
   ]
  },
  {
   "cell_type": "code",
   "execution_count": 21,
   "metadata": {},
   "outputs": [],
   "source": [
    "from sklearn.model_selection import train_test_split"
   ]
  },
  {
   "cell_type": "code",
   "execution_count": 22,
   "metadata": {},
   "outputs": [],
   "source": [
    "# 80% train+validate, 20% test\n",
    "images_train, images_test, \\\n",
    "    labels_train, labels_test, \\\n",
    "    features_train, features_test \\\n",
    "    = train_test_split(images, labels, features,\n",
    "                       test_size=0.2)\n",
    "\n",
    "# 64% train, 16% validate\n",
    "images_train, images_val, \\\n",
    "    labels_train, labels_val, \\\n",
    "    features_train, features_val \\\n",
    "    = train_test_split(images_train, labels_train, features_train,\n",
    "                       test_size=0.2)"
   ]
  },
  {
   "cell_type": "code",
   "execution_count": 23,
   "metadata": {},
   "outputs": [
    {
     "name": "stdout",
     "output_type": "stream",
     "text": [
      "64000 training samples\n",
      "16000 validation samples\n",
      "20000 testing samples\n"
     ]
    }
   ],
   "source": [
    "print ('{} training samples\\n{} validation samples\\n{} testing samples'\n",
    "       .format(images_train.shape[0], images_val.shape[0], images_test.shape[0]))"
   ]
  },
  {
   "cell_type": "code",
   "execution_count": 24,
   "metadata": {},
   "outputs": [],
   "source": [
    "from sklearn.preprocessing import StandardScaler"
   ]
  },
  {
   "cell_type": "code",
   "execution_count": 25,
   "metadata": {},
   "outputs": [],
   "source": [
    "scaler = StandardScaler()\n",
    "features_train = scaler.fit_transform(features_train)\n",
    "features_val = scaler.transform(features_val)\n",
    "features_test = scaler.transform(features_test)"
   ]
  },
  {
   "cell_type": "markdown",
   "metadata": {},
   "source": [
    "#### Model"
   ]
  },
  {
   "cell_type": "code",
   "execution_count": 26,
   "metadata": {},
   "outputs": [],
   "source": [
    "from keras.layers import Input, Dense, Dropout\n",
    "from keras.models import Model\n",
    "from keras.callbacks import EarlyStopping, ModelCheckpoint"
   ]
  },
  {
   "cell_type": "code",
   "execution_count": 27,
   "metadata": {},
   "outputs": [],
   "source": [
    "x = Input(shape=(features_train.shape[1], ))\n",
    "h = Dense(64, activation='relu')(x)\n",
    "# h = Dropout(0.1)(h)\n",
    "h = Dense(64, activation='relu')(h)\n",
    "# h = Dropout(0.1)(h)\n",
    "h = Dense(64, activation='relu')(h)\n",
    "# h = Dropout(0.1)(h)\n",
    "y = Dense(1, activation='sigmoid')(h)"
   ]
  },
  {
   "cell_type": "code",
   "execution_count": 28,
   "metadata": {},
   "outputs": [],
   "source": [
    "baseline_model = Model(x, y)\n",
    "baseline_model.compile('adam', 'binary_crossentropy', metrics=['acc'])"
   ]
  },
  {
   "cell_type": "code",
   "execution_count": 29,
   "metadata": {
    "scrolled": false
   },
   "outputs": [
    {
     "name": "stdout",
     "output_type": "stream",
     "text": [
      "Train on 64000 samples, validate on 16000 samples\n",
      "Epoch 1/200\n",
      "57856/64000 [==========================>...] - ETA: 0s - loss: 0.4981 - acc: 0.7672Epoch 00001: val_loss improved from inf to 0.46004, saving model to ./models/baseline-model.h5\n",
      "64000/64000 [==============================] - 1s 20us/step - loss: 0.4943 - acc: 0.7690 - val_loss: 0.4600 - val_acc: 0.7876\n",
      "Epoch 2/200\n",
      "63488/64000 [============================>.] - ETA: 0s - loss: 0.4511 - acc: 0.7923Epoch 00002: val_loss improved from 0.46004 to 0.45913, saving model to ./models/baseline-model.h5\n",
      "64000/64000 [==============================] - 1s 10us/step - loss: 0.4508 - acc: 0.7926 - val_loss: 0.4591 - val_acc: 0.7867\n",
      "Epoch 3/200\n",
      "59392/64000 [==========================>...] - ETA: 0s - loss: 0.4500 - acc: 0.7938Epoch 00003: val_loss improved from 0.45913 to 0.45794, saving model to ./models/baseline-model.h5\n",
      "64000/64000 [==============================] - 1s 9us/step - loss: 0.4499 - acc: 0.7934 - val_loss: 0.4579 - val_acc: 0.7871\n",
      "Epoch 4/200\n",
      "60928/64000 [===========================>..] - ETA: 0s - loss: 0.4489 - acc: 0.7935Epoch 00004: val_loss did not improve\n",
      "64000/64000 [==============================] - 1s 9us/step - loss: 0.4491 - acc: 0.7935 - val_loss: 0.4580 - val_acc: 0.7866\n",
      "Epoch 5/200\n",
      "55808/64000 [=========================>....] - ETA: 0s - loss: 0.4486 - acc: 0.7943Epoch 00005: val_loss did not improve\n",
      "64000/64000 [==============================] - 0s 7us/step - loss: 0.4486 - acc: 0.7942 - val_loss: 0.4584 - val_acc: 0.7850\n",
      "Epoch 6/200\n",
      "58880/64000 [==========================>...] - ETA: 0s - loss: 0.4486 - acc: 0.7928Epoch 00006: val_loss did not improve\n",
      "64000/64000 [==============================] - 1s 9us/step - loss: 0.4482 - acc: 0.7934 - val_loss: 0.4582 - val_acc: 0.7880\n",
      "Epoch 7/200\n",
      "61440/64000 [===========================>..] - ETA: 0s - loss: 0.4475 - acc: 0.7940Epoch 00007: val_loss improved from 0.45794 to 0.45762, saving model to ./models/baseline-model.h5\n",
      "64000/64000 [==============================] - 1s 11us/step - loss: 0.4480 - acc: 0.7938 - val_loss: 0.4576 - val_acc: 0.7861\n",
      "Epoch 8/200\n",
      "63488/64000 [============================>.] - ETA: 0s - loss: 0.4476 - acc: 0.7939Epoch 00008: val_loss did not improve\n",
      "64000/64000 [==============================] - 1s 10us/step - loss: 0.4477 - acc: 0.7939 - val_loss: 0.4597 - val_acc: 0.7873\n",
      "Epoch 9/200\n",
      "62464/64000 [============================>.] - ETA: 0s - loss: 0.4478 - acc: 0.7949Epoch 00009: val_loss did not improve\n",
      "64000/64000 [==============================] - 1s 9us/step - loss: 0.4479 - acc: 0.7949 - val_loss: 0.4587 - val_acc: 0.7893\n",
      "Epoch 10/200\n",
      "57344/64000 [=========================>....] - ETA: 0s - loss: 0.4488 - acc: 0.7939Epoch 00010: val_loss did not improve\n",
      "64000/64000 [==============================] - 1s 10us/step - loss: 0.4479 - acc: 0.7942 - val_loss: 0.4581 - val_acc: 0.7885\n",
      "Epoch 11/200\n",
      "63488/64000 [============================>.] - ETA: 0s - loss: 0.4476 - acc: 0.7945Epoch 00011: val_loss did not improve\n",
      "64000/64000 [==============================] - 1s 9us/step - loss: 0.4475 - acc: 0.7946 - val_loss: 0.4585 - val_acc: 0.7898\n",
      "Epoch 12/200\n",
      "57344/64000 [=========================>....] - ETA: 0s - loss: 0.4484 - acc: 0.7948Epoch 00012: val_loss did not improve\n",
      "64000/64000 [==============================] - 1s 9us/step - loss: 0.4473 - acc: 0.7951 - val_loss: 0.4584 - val_acc: 0.7869\n",
      "Epoch 13/200\n",
      "61952/64000 [============================>.] - ETA: 0s - loss: 0.4474 - acc: 0.7947Epoch 00013: val_loss improved from 0.45762 to 0.45709, saving model to ./models/baseline-model.h5\n",
      "64000/64000 [==============================] - 1s 9us/step - loss: 0.4473 - acc: 0.7946 - val_loss: 0.4571 - val_acc: 0.7885\n",
      "Epoch 14/200\n",
      "60416/64000 [===========================>..] - ETA: 0s - loss: 0.4476 - acc: 0.7939Epoch 00014: val_loss improved from 0.45709 to 0.45656, saving model to ./models/baseline-model.h5\n",
      "64000/64000 [==============================] - 1s 10us/step - loss: 0.4476 - acc: 0.7943 - val_loss: 0.4566 - val_acc: 0.7891\n",
      "Epoch 15/200\n",
      "58880/64000 [==========================>...] - ETA: 0s - loss: 0.4469 - acc: 0.7956Epoch 00015: val_loss did not improve\n",
      "64000/64000 [==============================] - 1s 10us/step - loss: 0.4471 - acc: 0.7950 - val_loss: 0.4569 - val_acc: 0.7886\n",
      "Epoch 16/200\n",
      "57856/64000 [==========================>...] - ETA: 0s - loss: 0.4481 - acc: 0.7943Epoch 00016: val_loss did not improve\n",
      "64000/64000 [==============================] - 1s 9us/step - loss: 0.4471 - acc: 0.7946 - val_loss: 0.4578 - val_acc: 0.7864\n",
      "Epoch 17/200\n",
      "60416/64000 [===========================>..] - ETA: 0s - loss: 0.4468 - acc: 0.7945Epoch 00017: val_loss did not improve\n",
      "64000/64000 [==============================] - 1s 10us/step - loss: 0.4467 - acc: 0.7946 - val_loss: 0.4568 - val_acc: 0.7899\n",
      "Epoch 18/200\n",
      "61952/64000 [============================>.] - ETA: 0s - loss: 0.4476 - acc: 0.7944Epoch 00018: val_loss did not improve\n",
      "64000/64000 [==============================] - 1s 9us/step - loss: 0.4470 - acc: 0.7946 - val_loss: 0.4567 - val_acc: 0.7889\n",
      "Epoch 19/200\n",
      "62976/64000 [============================>.] - ETA: 0s - loss: 0.4468 - acc: 0.7946Epoch 00019: val_loss did not improve\n",
      "64000/64000 [==============================] - 1s 9us/step - loss: 0.4466 - acc: 0.7947 - val_loss: 0.4574 - val_acc: 0.7867\n",
      "Epoch 20/200\n",
      "61952/64000 [============================>.] - ETA: 0s - loss: 0.4471 - acc: 0.7956Epoch 00020: val_loss did not improve\n",
      "64000/64000 [==============================] - 1s 10us/step - loss: 0.4468 - acc: 0.7955 - val_loss: 0.4580 - val_acc: 0.7901\n",
      "Epoch 21/200\n",
      "59392/64000 [==========================>...] - ETA: 0s - loss: 0.4476 - acc: 0.7949Epoch 00021: val_loss did not improve\n",
      "64000/64000 [==============================] - 1s 10us/step - loss: 0.4467 - acc: 0.7952 - val_loss: 0.4582 - val_acc: 0.7871\n",
      "Epoch 22/200\n",
      "60928/64000 [===========================>..] - ETA: 0s - loss: 0.4472 - acc: 0.7955- ETA: 0s - loss: 0.4481 - accEpoch 00022: val_loss did not improve\n",
      "64000/64000 [==============================] - 1s 9us/step - loss: 0.4467 - acc: 0.7959 - val_loss: 0.4576 - val_acc: 0.7887\n",
      "Epoch 23/200\n",
      "62976/64000 [============================>.] - ETA: 0s - loss: 0.4468 - acc: 0.7952Epoch 00023: val_loss did not improve\n",
      "64000/64000 [==============================] - 1s 10us/step - loss: 0.4468 - acc: 0.7953 - val_loss: 0.4578 - val_acc: 0.7863\n",
      "Epoch 24/200\n",
      "58880/64000 [==========================>...] - ETA: 0s - loss: 0.4473 - acc: 0.7941Epoch 00024: val_loss did not improve\n",
      "64000/64000 [==============================] - 1s 9us/step - loss: 0.4466 - acc: 0.7946 - val_loss: 0.4569 - val_acc: 0.7893\n",
      "Epoch 25/200\n",
      "57856/64000 [==========================>...] - ETA: 0s - loss: 0.4461 - acc: 0.7948Epoch 00025: val_loss did not improve\n",
      "64000/64000 [==============================] - 1s 8us/step - loss: 0.4464 - acc: 0.7949 - val_loss: 0.4577 - val_acc: 0.7883\n",
      "Epoch 26/200\n",
      "55808/64000 [=========================>....] - ETA: 0s - loss: 0.4455 - acc: 0.7957Epoch 00026: val_loss did not improve\n",
      "64000/64000 [==============================] - 0s 7us/step - loss: 0.4464 - acc: 0.7953 - val_loss: 0.4569 - val_acc: 0.7895\n",
      "Epoch 27/200\n",
      "62464/64000 [============================>.] - ETA: 0s - loss: 0.4471 - acc: 0.7942Epoch 00027: val_loss did not improve\n",
      "64000/64000 [==============================] - 1s 9us/step - loss: 0.4466 - acc: 0.7946 - val_loss: 0.4582 - val_acc: 0.7875\n",
      "Epoch 28/200\n",
      "59904/64000 [===========================>..] - ETA: 0s - loss: 0.4465 - acc: 0.7951Epoch 00028: val_loss improved from 0.45656 to 0.45651, saving model to ./models/baseline-model.h5\n",
      "64000/64000 [==============================] - 1s 10us/step - loss: 0.4465 - acc: 0.7952 - val_loss: 0.4565 - val_acc: 0.7883\n",
      "Epoch 29/200\n",
      "59904/64000 [===========================>..] - ETA: 0s - loss: 0.4468 - acc: 0.7951Epoch 00029: val_loss did not improve\n",
      "64000/64000 [==============================] - 1s 10us/step - loss: 0.4463 - acc: 0.7952 - val_loss: 0.4570 - val_acc: 0.7879\n",
      "Epoch 30/200\n",
      "59392/64000 [==========================>...] - ETA: 0s - loss: 0.4458 - acc: 0.7956Epoch 00030: val_loss did not improve\n",
      "64000/64000 [==============================] - 1s 10us/step - loss: 0.4461 - acc: 0.7951 - val_loss: 0.4571 - val_acc: 0.7882\n"
     ]
    },
    {
     "name": "stdout",
     "output_type": "stream",
     "text": [
      "Epoch 31/200\n",
      "62464/64000 [============================>.] - ETA: 0s - loss: 0.4462 - acc: 0.7943Epoch 00031: val_loss did not improve\n",
      "64000/64000 [==============================] - 1s 9us/step - loss: 0.4462 - acc: 0.7945 - val_loss: 0.4565 - val_acc: 0.7886\n",
      "Epoch 32/200\n",
      "59904/64000 [===========================>..] - ETA: 0s - loss: 0.4463 - acc: 0.7954Epoch 00032: val_loss improved from 0.45651 to 0.45639, saving model to ./models/baseline-model.h5\n",
      "64000/64000 [==============================] - 1s 9us/step - loss: 0.4460 - acc: 0.7953 - val_loss: 0.4564 - val_acc: 0.7900\n",
      "Epoch 33/200\n",
      "62976/64000 [============================>.] - ETA: 0s - loss: 0.4466 - acc: 0.7943Epoch 00033: val_loss did not improve\n",
      "64000/64000 [==============================] - 1s 10us/step - loss: 0.4464 - acc: 0.7943 - val_loss: 0.4572 - val_acc: 0.7883\n",
      "Epoch 34/200\n",
      "58368/64000 [==========================>...] - ETA: 0s - loss: 0.4453 - acc: 0.7960Epoch 00034: val_loss improved from 0.45639 to 0.45591, saving model to ./models/baseline-model.h5\n",
      "64000/64000 [==============================] - 1s 11us/step - loss: 0.4462 - acc: 0.7954 - val_loss: 0.4559 - val_acc: 0.7891\n",
      "Epoch 35/200\n",
      "58880/64000 [==========================>...] - ETA: 0s - loss: 0.4461 - acc: 0.7952Epoch 00035: val_loss did not improve\n",
      "64000/64000 [==============================] - 1s 9us/step - loss: 0.4463 - acc: 0.7950 - val_loss: 0.4566 - val_acc: 0.7899\n",
      "Epoch 36/200\n",
      "58368/64000 [==========================>...] - ETA: 0s - loss: 0.4450 - acc: 0.7953Epoch 00036: val_loss did not improve\n",
      "64000/64000 [==============================] - 1s 10us/step - loss: 0.4462 - acc: 0.7948 - val_loss: 0.4566 - val_acc: 0.7884\n",
      "Epoch 37/200\n",
      "63488/64000 [============================>.] - ETA: 0s - loss: 0.4462 - acc: 0.7959Epoch 00037: val_loss did not improve\n",
      "64000/64000 [==============================] - 1s 8us/step - loss: 0.4463 - acc: 0.7959 - val_loss: 0.4565 - val_acc: 0.7890\n",
      "Epoch 38/200\n",
      "61952/64000 [============================>.] - ETA: 0s - loss: 0.4464 - acc: 0.7951Epoch 00038: val_loss did not improve\n",
      "64000/64000 [==============================] - 1s 10us/step - loss: 0.4457 - acc: 0.7952 - val_loss: 0.4579 - val_acc: 0.7884\n",
      "Epoch 39/200\n",
      "56832/64000 [=========================>....] - ETA: 0s - loss: 0.4452 - acc: 0.7953Epoch 00039: val_loss did not improve\n",
      "64000/64000 [==============================] - 0s 7us/step - loss: 0.4460 - acc: 0.7954 - val_loss: 0.4566 - val_acc: 0.7886\n",
      "Epoch 40/200\n",
      "63488/64000 [============================>.] - ETA: 0s - loss: 0.4468 - acc: 0.7946Epoch 00040: val_loss did not improve\n",
      "64000/64000 [==============================] - 1s 8us/step - loss: 0.4466 - acc: 0.7947 - val_loss: 0.4565 - val_acc: 0.7897\n",
      "Epoch 41/200\n",
      "59904/64000 [===========================>..] - ETA: 0s - loss: 0.4448 - acc: 0.7961Epoch 00041: val_loss did not improve\n",
      "64000/64000 [==============================] - 0s 8us/step - loss: 0.4456 - acc: 0.7957 - val_loss: 0.4568 - val_acc: 0.7891\n",
      "Epoch 42/200\n",
      "59392/64000 [==========================>...] - ETA: 0s - loss: 0.4454 - acc: 0.7954Epoch 00042: val_loss did not improve\n",
      "64000/64000 [==============================] - 1s 9us/step - loss: 0.4460 - acc: 0.7951 - val_loss: 0.4571 - val_acc: 0.7878\n",
      "Epoch 43/200\n",
      "63488/64000 [============================>.] - ETA: 0s - loss: 0.4460 - acc: 0.7956Epoch 00043: val_loss did not improve\n",
      "64000/64000 [==============================] - 1s 10us/step - loss: 0.4459 - acc: 0.7955 - val_loss: 0.4581 - val_acc: 0.7883\n",
      "Epoch 44/200\n",
      "59392/64000 [==========================>...] - ETA: 0s - loss: 0.4451 - acc: 0.7963Epoch 00044: val_loss did not improve\n",
      "64000/64000 [==============================] - 1s 10us/step - loss: 0.4459 - acc: 0.7957 - val_loss: 0.4569 - val_acc: 0.7883\n",
      "Epoch 45/200\n",
      "59904/64000 [===========================>..] - ETA: 0s - loss: 0.4454 - acc: 0.7955Epoch 00045: val_loss did not improve\n",
      "64000/64000 [==============================] - 1s 9us/step - loss: 0.4457 - acc: 0.7953 - val_loss: 0.4564 - val_acc: 0.7888\n",
      "Epoch 46/200\n",
      "61440/64000 [===========================>..] - ETA: 0s - loss: 0.4458 - acc: 0.7956Epoch 00046: val_loss did not improve\n",
      "64000/64000 [==============================] - 1s 10us/step - loss: 0.4458 - acc: 0.7958 - val_loss: 0.4579 - val_acc: 0.7884\n",
      "Epoch 47/200\n",
      "60928/64000 [===========================>..] - ETA: 0s - loss: 0.4456 - acc: 0.7948Epoch 00047: val_loss did not improve\n",
      "64000/64000 [==============================] - 1s 10us/step - loss: 0.4458 - acc: 0.7951 - val_loss: 0.4564 - val_acc: 0.7893\n",
      "Epoch 48/200\n",
      "57856/64000 [==========================>...] - ETA: 0s - loss: 0.4466 - acc: 0.7946Epoch 00048: val_loss did not improve\n",
      "64000/64000 [==============================] - 1s 10us/step - loss: 0.4458 - acc: 0.7952 - val_loss: 0.4575 - val_acc: 0.7889\n",
      "Epoch 49/200\n",
      "59904/64000 [===========================>..] - ETA: 0s - loss: 0.4449 - acc: 0.7954Epoch 00049: val_loss did not improve\n",
      "64000/64000 [==============================] - 1s 8us/step - loss: 0.4456 - acc: 0.7949 - val_loss: 0.4572 - val_acc: 0.7895\n",
      "Epoch 00049: early stopping\n"
     ]
    },
    {
     "data": {
      "text/plain": [
       "<keras.callbacks.History at 0x7fba4c0b4090>"
      ]
     },
     "execution_count": 29,
     "metadata": {},
     "output_type": "execute_result"
    }
   ],
   "source": [
    "baseline_model.fit(\n",
    "    features_train, labels_train,\n",
    "    epochs=200,\n",
    "    batch_size=128,\n",
    "    validation_data=(features_val, labels_val),\n",
    "    callbacks=[\n",
    "        EarlyStopping(verbose=True, patience=15, monitor='val_loss'),\n",
    "        ModelCheckpoint('./models/baseline-model.h5', monitor='val_loss',\n",
    "                        verbose=True, save_best_only=True)\n",
    "    ]\n",
    ")"
   ]
  },
  {
   "cell_type": "markdown",
   "metadata": {},
   "source": [
    "Keras saves the entire training history, keeping track of whatever metric you specify (here accuracy and loss)."
   ]
  },
  {
   "cell_type": "code",
   "execution_count": 39,
   "metadata": {},
   "outputs": [
    {
     "data": {
      "text/plain": [
       "['acc', 'loss', 'val_acc', 'val_loss']"
      ]
     },
     "execution_count": 39,
     "metadata": {},
     "output_type": "execute_result"
    }
   ],
   "source": [
    "history = baseline_model.history.history\n",
    "history.keys()"
   ]
  },
  {
   "cell_type": "code",
   "execution_count": 40,
   "metadata": {},
   "outputs": [
    {
     "data": {
      "image/png": "iVBORw0KGgoAAAANSUhEUgAAAYwAAAEKCAYAAAAB0GKPAAAABHNCSVQICAgIfAhkiAAAAAlwSFlz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\nTkSuQmCC\n",
      "text/plain": [
       "<matplotlib.figure.Figure at 0x7f656a7a9c10>"
      ]
     },
     "metadata": {},
     "output_type": "display_data"
    }
   ],
   "source": [
    "# accuracy plot\n",
    "plt.plot(100 * np.array(history['acc']), label='training')\n",
    "plt.plot(100 * np.array(history['val_acc']), label='validation')\n",
    "plt.xlim(0)\n",
    "plt.xlabel('epoch')\n",
    "plt.ylabel('accuracy %')\n",
    "plt.legend(loc='lower right', fontsize=20)\n",
    "plt.show()"
   ]
  },
  {
   "cell_type": "code",
   "execution_count": 41,
   "metadata": {},
   "outputs": [
    {
     "data": {
      "image/png": "iVBORw0KGgoAAAANSUhEUgAAAYIAAAEKCAYAAAAfGVI8AAAABHNCSVQICAgIfAhkiAAAAAlwSFlz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\nd522UdIAAAAASUVORK5CYII=\n",
      "text/plain": [
       "<matplotlib.figure.Figure at 0x7f656a7a93d0>"
      ]
     },
     "metadata": {},
     "output_type": "display_data"
    }
   ],
   "source": [
    "# loss plot\n",
    "plt.plot(100 * np.array(history['loss']), label='training')\n",
    "plt.plot(100 * np.array(history['val_loss']), label='validation')\n",
    "plt.xlim(0)\n",
    "plt.xlabel('epoch')\n",
    "plt.ylabel('loss')\n",
    "plt.legend(loc='upper right', fontsize=20)\n",
    "# the line indicate the epoch corresponding to the best performance on the validation set\n",
    "plt.vlines(np.argmin(history['val_loss']), 45, 56, linestyle='dashed', linewidth=0.5)\n",
    "plt.show()"
   ]
  },
  {
   "cell_type": "code",
   "execution_count": 42,
   "metadata": {},
   "outputs": [
    {
     "name": "stdout",
     "output_type": "stream",
     "text": [
      "Loss estimate on unseen examples (from validation set) = 0.448\n"
     ]
    }
   ],
   "source": [
    "print 'Loss estimate on unseen examples (from validation set) = {0:.3f}'.format(np.min(history['val_loss']))"
   ]
  },
  {
   "cell_type": "markdown",
   "metadata": {},
   "source": [
    "#### Evaluate on test set"
   ]
  },
  {
   "cell_type": "code",
   "execution_count": 43,
   "metadata": {},
   "outputs": [],
   "source": [
    "baseline_model.load_weights('./models/baseline-model.h5')"
   ]
  },
  {
   "cell_type": "code",
   "execution_count": 44,
   "metadata": {},
   "outputs": [],
   "source": [
    "yhat_baseline = baseline_model.predict(features_test, batch_size=512)"
   ]
  },
  {
   "cell_type": "code",
   "execution_count": 45,
   "metadata": {},
   "outputs": [
    {
     "data": {
      "text/plain": [
       "<matplotlib.legend.Legend at 0x7f656a616bd0>"
      ]
     },
     "execution_count": 45,
     "metadata": {},
     "output_type": "execute_result"
    },
    {
     "data": {
      "image/png": "iVBORw0KGgoAAAANSUhEUgAAAYcAAAD8CAYAAACcjGjIAAAABHNCSVQICAgIfAhkiAAAAAlwSFlz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\niIiEKDmIiEiIkoOIiIT8fyC59x18d7wXAAAAAElFTkSuQmCC\n",
      "text/plain": [
       "<matplotlib.figure.Figure at 0x7f656a7858d0>"
      ]
     },
     "metadata": {},
     "output_type": "display_data"
    }
   ],
   "source": [
    "bins = np.linspace(0, 1, 20)\n",
    "_ = plt.hist(yhat_baseline[labels_test==1],\n",
    "         histtype='stepfilled', alpha=0.5, color='red', label=r\"Signal ($W' \\rightarrow WZ$)\", bins=bins)\n",
    "_ = plt.hist(yhat_baseline[labels_test==0],\n",
    "         histtype='stepfilled', alpha=0.5, color='blue', label=r'Background (QCD dijets)', bins=bins)\n",
    "plt.legend(loc='upper center')"
   ]
  },
  {
   "cell_type": "markdown",
   "metadata": {},
   "source": [
    "## Small Convolutional Neural Network"
   ]
  },
  {
   "cell_type": "code",
   "execution_count": 46,
   "metadata": {},
   "outputs": [],
   "source": [
    "from keras.layers import Conv2D, Flatten"
   ]
  },
  {
   "cell_type": "code",
   "execution_count": 47,
   "metadata": {},
   "outputs": [],
   "source": [
    "# add channel dimension (1 for grayscale)\n",
    "images_train = np.expand_dims(images_train, -1)\n",
    "images_test = np.expand_dims(images_test, -1)\n",
    "images_val = np.expand_dims(images_val, -1)"
   ]
  },
  {
   "cell_type": "code",
   "execution_count": 48,
   "metadata": {
    "scrolled": false
   },
   "outputs": [],
   "source": [
    "x = Input(shape=(images_train.shape[1:]))\n",
    "h = Conv2D(32, kernel_size=11, strides=1, activation='relu')(x)\n",
    "h = Dropout(0.2)(h)\n",
    "\n",
    "h = Conv2D(64, kernel_size=7, strides=1, activation='relu')(h)\n",
    "h = Dropout(0.2)(h)\n",
    "\n",
    "h = Conv2D(128, kernel_size=5, strides=1, activation='relu')(h)\n",
    "h = Dropout(0.2)(h)\n",
    "\n",
    "h = Conv2D(256, kernel_size=5, strides=1, activation='relu')(h)\n",
    "h = Flatten()(h)\n",
    "h = Dropout(0.2)(h)\n",
    "y = Dense(1, activation='sigmoid')(h)"
   ]
  },
  {
   "cell_type": "code",
   "execution_count": 49,
   "metadata": {},
   "outputs": [],
   "source": [
    "cnn_model = Model(x, y)\n",
    "cnn_model.compile('adam', 'binary_crossentropy', metrics=['acc'])"
   ]
  },
  {
   "cell_type": "code",
   "execution_count": 50,
   "metadata": {},
   "outputs": [
    {
     "name": "stdout",
     "output_type": "stream",
     "text": [
      "_________________________________________________________________\n",
      "Layer (type)                 Output Shape              Param #   \n",
      "=================================================================\n",
      "input_3 (InputLayer)         (None, 25, 25, 1)         0         \n",
      "_________________________________________________________________\n",
      "conv2d_1 (Conv2D)            (None, 15, 15, 32)        3904      \n",
      "_________________________________________________________________\n",
      "dropout_4 (Dropout)          (None, 15, 15, 32)        0         \n",
      "_________________________________________________________________\n",
      "conv2d_2 (Conv2D)            (None, 9, 9, 64)          100416    \n",
      "_________________________________________________________________\n",
      "dropout_5 (Dropout)          (None, 9, 9, 64)          0         \n",
      "_________________________________________________________________\n",
      "conv2d_3 (Conv2D)            (None, 5, 5, 128)         204928    \n",
      "_________________________________________________________________\n",
      "dropout_6 (Dropout)          (None, 5, 5, 128)         0         \n",
      "_________________________________________________________________\n",
      "conv2d_4 (Conv2D)            (None, 1, 1, 256)         819456    \n",
      "_________________________________________________________________\n",
      "flatten_1 (Flatten)          (None, 256)               0         \n",
      "_________________________________________________________________\n",
      "dropout_7 (Dropout)          (None, 256)               0         \n",
      "_________________________________________________________________\n",
      "dense_9 (Dense)              (None, 1)                 257       \n",
      "=================================================================\n",
      "Total params: 1,128,961\n",
      "Trainable params: 1,128,961\n",
      "Non-trainable params: 0\n",
      "_________________________________________________________________\n"
     ]
    }
   ],
   "source": [
    "cnn_model.summary()"
   ]
  },
  {
   "cell_type": "code",
   "execution_count": 51,
   "metadata": {
    "scrolled": false
   },
   "outputs": [
    {
     "name": "stdout",
     "output_type": "stream",
     "text": [
      "Train on 512000 samples, validate on 128000 samples\n",
      "Epoch 1/100\n",
      "511488/512000 [============================>.] - ETA: 0s - loss: 0.4777 - acc: 0.7770Epoch 00001: val_loss improved from inf to 0.42644, saving model to ./models/cnn-model.h5\n",
      "512000/512000 [==============================] - 18s 35us/step - loss: 0.4777 - acc: 0.7770 - val_loss: 0.4264 - val_acc: 0.8063\n",
      "Epoch 2/100\n",
      "509952/512000 [============================>.] - ETA: 0s - loss: 0.4253 - acc: 0.8081Epoch 00002: val_loss improved from 0.42644 to 0.40942, saving model to ./models/cnn-model.h5\n",
      "512000/512000 [==============================] - 17s 34us/step - loss: 0.4252 - acc: 0.8081 - val_loss: 0.4094 - val_acc: 0.8164\n",
      "Epoch 3/100\n",
      "509952/512000 [============================>.] - ETA: 0s - loss: 0.4170 - acc: 0.8131Epoch 00003: val_loss improved from 0.40942 to 0.40568, saving model to ./models/cnn-model.h5\n",
      "512000/512000 [==============================] - 17s 34us/step - loss: 0.4170 - acc: 0.8132 - val_loss: 0.4057 - val_acc: 0.8188\n",
      "Epoch 4/100\n",
      "510464/512000 [============================>.] - ETA: 0s - loss: 0.4136 - acc: 0.8151Epoch 00004: val_loss improved from 0.40568 to 0.40229, saving model to ./models/cnn-model.h5\n",
      "512000/512000 [==============================] - 18s 34us/step - loss: 0.4135 - acc: 0.8151 - val_loss: 0.4023 - val_acc: 0.8195\n",
      "Epoch 5/100\n",
      "509952/512000 [============================>.] - ETA: 0s - loss: 0.4107 - acc: 0.8164Epoch 00005: val_loss did not improve\n",
      "512000/512000 [==============================] - 18s 34us/step - loss: 0.4107 - acc: 0.8164 - val_loss: 0.4038 - val_acc: 0.8195\n",
      "Epoch 6/100\n",
      "509952/512000 [============================>.] - ETA: 0s - loss: 0.4088 - acc: 0.8179Epoch 00006: val_loss improved from 0.40229 to 0.39886, saving model to ./models/cnn-model.h5\n",
      "512000/512000 [==============================] - 18s 35us/step - loss: 0.4088 - acc: 0.8179 - val_loss: 0.3989 - val_acc: 0.8221\n",
      "Epoch 7/100\n",
      "511488/512000 [============================>.] - ETA: 0s - loss: 0.4070 - acc: 0.8186Epoch 00007: val_loss did not improve\n",
      "512000/512000 [==============================] - 18s 35us/step - loss: 0.4070 - acc: 0.8186 - val_loss: 0.4017 - val_acc: 0.8212\n",
      "Epoch 8/100\n",
      "509952/512000 [============================>.] - ETA: 0s - loss: 0.4059 - acc: 0.8192Epoch 00008: val_loss did not improve\n",
      "512000/512000 [==============================] - 18s 35us/step - loss: 0.4059 - acc: 0.8193 - val_loss: 0.3989 - val_acc: 0.8231\n",
      "Epoch 9/100\n",
      "509952/512000 [============================>.] - ETA: 0s - loss: 0.4045 - acc: 0.8203Epoch 00009: val_loss did not improve\n",
      "512000/512000 [==============================] - 18s 35us/step - loss: 0.4045 - acc: 0.8203 - val_loss: 0.3990 - val_acc: 0.8219\n",
      "Epoch 10/100\n",
      "510976/512000 [============================>.] - ETA: 0s - loss: 0.4028 - acc: 0.8212Epoch 00010: val_loss did not improve\n",
      "512000/512000 [==============================] - 18s 35us/step - loss: 0.4029 - acc: 0.8211 - val_loss: 0.4059 - val_acc: 0.8194\n",
      "Epoch 11/100\n",
      " 83456/512000 [===>..........................] - ETA: 14s - loss: 0.3989 - acc: 0.8233"
     ]
    },
    {
     "ename": "KeyboardInterrupt",
     "evalue": "",
     "output_type": "error",
     "traceback": [
      "\u001b[0;31m---------------------------------------------------------------------------\u001b[0m",
      "\u001b[0;31mKeyboardInterrupt\u001b[0m                         Traceback (most recent call last)",
      "\u001b[0;32m<ipython-input-51-c7fbf1996fad>\u001b[0m in \u001b[0;36m<module>\u001b[0;34m()\u001b[0m\n\u001b[1;32m      7\u001b[0m         \u001b[0mEarlyStopping\u001b[0m\u001b[0;34m(\u001b[0m\u001b[0mverbose\u001b[0m\u001b[0;34m=\u001b[0m\u001b[0mTrue\u001b[0m\u001b[0;34m,\u001b[0m \u001b[0mpatience\u001b[0m\u001b[0;34m=\u001b[0m\u001b[0;36m30\u001b[0m\u001b[0;34m,\u001b[0m \u001b[0mmonitor\u001b[0m\u001b[0;34m=\u001b[0m\u001b[0;34m'val_loss'\u001b[0m\u001b[0;34m)\u001b[0m\u001b[0;34m,\u001b[0m\u001b[0;34m\u001b[0m\u001b[0m\n\u001b[1;32m      8\u001b[0m         ModelCheckpoint('./models/cnn-model.h5', monitor='val_loss',\n\u001b[0;32m----> 9\u001b[0;31m                         verbose=True, save_best_only=True)\n\u001b[0m\u001b[1;32m     10\u001b[0m     ]\n\u001b[1;32m     11\u001b[0m )\n",
      "\u001b[0;32m/home/lukedeo/.venvwrp/micky-nb/local/lib/python2.7/site-packages/keras/engine/training.pyc\u001b[0m in \u001b[0;36mfit\u001b[0;34m(self, x, y, batch_size, epochs, verbose, callbacks, validation_split, validation_data, shuffle, class_weight, sample_weight, initial_epoch, steps_per_epoch, validation_steps, **kwargs)\u001b[0m\n\u001b[1;32m   1629\u001b[0m                               \u001b[0minitial_epoch\u001b[0m\u001b[0;34m=\u001b[0m\u001b[0minitial_epoch\u001b[0m\u001b[0;34m,\u001b[0m\u001b[0;34m\u001b[0m\u001b[0m\n\u001b[1;32m   1630\u001b[0m                               \u001b[0msteps_per_epoch\u001b[0m\u001b[0;34m=\u001b[0m\u001b[0msteps_per_epoch\u001b[0m\u001b[0;34m,\u001b[0m\u001b[0;34m\u001b[0m\u001b[0m\n\u001b[0;32m-> 1631\u001b[0;31m                               validation_steps=validation_steps)\n\u001b[0m\u001b[1;32m   1632\u001b[0m \u001b[0;34m\u001b[0m\u001b[0m\n\u001b[1;32m   1633\u001b[0m     def evaluate(self, x=None, y=None,\n",
      "\u001b[0;32m/home/lukedeo/.venvwrp/micky-nb/local/lib/python2.7/site-packages/keras/engine/training.pyc\u001b[0m in \u001b[0;36m_fit_loop\u001b[0;34m(self, f, ins, out_labels, batch_size, epochs, verbose, callbacks, val_f, val_ins, shuffle, callback_metrics, initial_epoch, steps_per_epoch, validation_steps)\u001b[0m\n\u001b[1;32m   1211\u001b[0m                     \u001b[0mbatch_logs\u001b[0m\u001b[0;34m[\u001b[0m\u001b[0;34m'size'\u001b[0m\u001b[0;34m]\u001b[0m \u001b[0;34m=\u001b[0m \u001b[0mlen\u001b[0m\u001b[0;34m(\u001b[0m\u001b[0mbatch_ids\u001b[0m\u001b[0;34m)\u001b[0m\u001b[0;34m\u001b[0m\u001b[0m\n\u001b[1;32m   1212\u001b[0m                     \u001b[0mcallbacks\u001b[0m\u001b[0;34m.\u001b[0m\u001b[0mon_batch_begin\u001b[0m\u001b[0;34m(\u001b[0m\u001b[0mbatch_index\u001b[0m\u001b[0;34m,\u001b[0m \u001b[0mbatch_logs\u001b[0m\u001b[0;34m)\u001b[0m\u001b[0;34m\u001b[0m\u001b[0m\n\u001b[0;32m-> 1213\u001b[0;31m                     \u001b[0mouts\u001b[0m \u001b[0;34m=\u001b[0m \u001b[0mf\u001b[0m\u001b[0;34m(\u001b[0m\u001b[0mins_batch\u001b[0m\u001b[0;34m)\u001b[0m\u001b[0;34m\u001b[0m\u001b[0m\n\u001b[0m\u001b[1;32m   1214\u001b[0m                     \u001b[0;32mif\u001b[0m \u001b[0;32mnot\u001b[0m \u001b[0misinstance\u001b[0m\u001b[0;34m(\u001b[0m\u001b[0mouts\u001b[0m\u001b[0;34m,\u001b[0m \u001b[0mlist\u001b[0m\u001b[0;34m)\u001b[0m\u001b[0;34m:\u001b[0m\u001b[0;34m\u001b[0m\u001b[0m\n\u001b[1;32m   1215\u001b[0m                         \u001b[0mouts\u001b[0m \u001b[0;34m=\u001b[0m \u001b[0;34m[\u001b[0m\u001b[0mouts\u001b[0m\u001b[0;34m]\u001b[0m\u001b[0;34m\u001b[0m\u001b[0m\n",
      "\u001b[0;32m/home/lukedeo/.venvwrp/micky-nb/local/lib/python2.7/site-packages/keras/backend/tensorflow_backend.pyc\u001b[0m in \u001b[0;36m__call__\u001b[0;34m(self, inputs)\u001b[0m\n\u001b[1;32m   2330\u001b[0m         updated = session.run(self.outputs + [self.updates_op],\n\u001b[1;32m   2331\u001b[0m                               \u001b[0mfeed_dict\u001b[0m\u001b[0;34m=\u001b[0m\u001b[0mfeed_dict\u001b[0m\u001b[0;34m,\u001b[0m\u001b[0;34m\u001b[0m\u001b[0m\n\u001b[0;32m-> 2332\u001b[0;31m                               **self.session_kwargs)\n\u001b[0m\u001b[1;32m   2333\u001b[0m         \u001b[0;32mreturn\u001b[0m \u001b[0mupdated\u001b[0m\u001b[0;34m[\u001b[0m\u001b[0;34m:\u001b[0m\u001b[0mlen\u001b[0m\u001b[0;34m(\u001b[0m\u001b[0mself\u001b[0m\u001b[0;34m.\u001b[0m\u001b[0moutputs\u001b[0m\u001b[0;34m)\u001b[0m\u001b[0;34m]\u001b[0m\u001b[0;34m\u001b[0m\u001b[0m\n\u001b[1;32m   2334\u001b[0m \u001b[0;34m\u001b[0m\u001b[0m\n",
      "\u001b[0;32m/home/lukedeo/.venvwrp/micky-nb/local/lib/python2.7/site-packages/tensorflow/python/client/session.pyc\u001b[0m in \u001b[0;36mrun\u001b[0;34m(self, fetches, feed_dict, options, run_metadata)\u001b[0m\n\u001b[1;32m    887\u001b[0m     \u001b[0;32mtry\u001b[0m\u001b[0;34m:\u001b[0m\u001b[0;34m\u001b[0m\u001b[0m\n\u001b[1;32m    888\u001b[0m       result = self._run(None, fetches, feed_dict, options_ptr,\n\u001b[0;32m--> 889\u001b[0;31m                          run_metadata_ptr)\n\u001b[0m\u001b[1;32m    890\u001b[0m       \u001b[0;32mif\u001b[0m \u001b[0mrun_metadata\u001b[0m\u001b[0;34m:\u001b[0m\u001b[0;34m\u001b[0m\u001b[0m\n\u001b[1;32m    891\u001b[0m         \u001b[0mproto_data\u001b[0m \u001b[0;34m=\u001b[0m \u001b[0mtf_session\u001b[0m\u001b[0;34m.\u001b[0m\u001b[0mTF_GetBuffer\u001b[0m\u001b[0;34m(\u001b[0m\u001b[0mrun_metadata_ptr\u001b[0m\u001b[0;34m)\u001b[0m\u001b[0;34m\u001b[0m\u001b[0m\n",
      "\u001b[0;32m/home/lukedeo/.venvwrp/micky-nb/local/lib/python2.7/site-packages/tensorflow/python/client/session.pyc\u001b[0m in \u001b[0;36m_run\u001b[0;34m(self, handle, fetches, feed_dict, options, run_metadata)\u001b[0m\n\u001b[1;32m   1118\u001b[0m     \u001b[0;32mif\u001b[0m \u001b[0mfinal_fetches\u001b[0m \u001b[0;32mor\u001b[0m \u001b[0mfinal_targets\u001b[0m \u001b[0;32mor\u001b[0m \u001b[0;34m(\u001b[0m\u001b[0mhandle\u001b[0m \u001b[0;32mand\u001b[0m \u001b[0mfeed_dict_tensor\u001b[0m\u001b[0;34m)\u001b[0m\u001b[0;34m:\u001b[0m\u001b[0;34m\u001b[0m\u001b[0m\n\u001b[1;32m   1119\u001b[0m       results = self._do_run(handle, final_targets, final_fetches,\n\u001b[0;32m-> 1120\u001b[0;31m                              feed_dict_tensor, options, run_metadata)\n\u001b[0m\u001b[1;32m   1121\u001b[0m     \u001b[0;32melse\u001b[0m\u001b[0;34m:\u001b[0m\u001b[0;34m\u001b[0m\u001b[0m\n\u001b[1;32m   1122\u001b[0m       \u001b[0mresults\u001b[0m \u001b[0;34m=\u001b[0m \u001b[0;34m[\u001b[0m\u001b[0;34m]\u001b[0m\u001b[0;34m\u001b[0m\u001b[0m\n",
      "\u001b[0;32m/home/lukedeo/.venvwrp/micky-nb/local/lib/python2.7/site-packages/tensorflow/python/client/session.pyc\u001b[0m in \u001b[0;36m_do_run\u001b[0;34m(self, handle, target_list, fetch_list, feed_dict, options, run_metadata)\u001b[0m\n\u001b[1;32m   1315\u001b[0m     \u001b[0;32mif\u001b[0m \u001b[0mhandle\u001b[0m \u001b[0;32mis\u001b[0m \u001b[0mNone\u001b[0m\u001b[0;34m:\u001b[0m\u001b[0;34m\u001b[0m\u001b[0m\n\u001b[1;32m   1316\u001b[0m       return self._do_call(_run_fn, self._session, feeds, fetches, targets,\n\u001b[0;32m-> 1317\u001b[0;31m                            options, run_metadata)\n\u001b[0m\u001b[1;32m   1318\u001b[0m     \u001b[0;32melse\u001b[0m\u001b[0;34m:\u001b[0m\u001b[0;34m\u001b[0m\u001b[0m\n\u001b[1;32m   1319\u001b[0m       \u001b[0;32mreturn\u001b[0m \u001b[0mself\u001b[0m\u001b[0;34m.\u001b[0m\u001b[0m_do_call\u001b[0m\u001b[0;34m(\u001b[0m\u001b[0m_prun_fn\u001b[0m\u001b[0;34m,\u001b[0m \u001b[0mself\u001b[0m\u001b[0;34m.\u001b[0m\u001b[0m_session\u001b[0m\u001b[0;34m,\u001b[0m \u001b[0mhandle\u001b[0m\u001b[0;34m,\u001b[0m \u001b[0mfeeds\u001b[0m\u001b[0;34m,\u001b[0m \u001b[0mfetches\u001b[0m\u001b[0;34m)\u001b[0m\u001b[0;34m\u001b[0m\u001b[0m\n",
      "\u001b[0;32m/home/lukedeo/.venvwrp/micky-nb/local/lib/python2.7/site-packages/tensorflow/python/client/session.pyc\u001b[0m in \u001b[0;36m_do_call\u001b[0;34m(self, fn, *args)\u001b[0m\n\u001b[1;32m   1321\u001b[0m   \u001b[0;32mdef\u001b[0m \u001b[0m_do_call\u001b[0m\u001b[0;34m(\u001b[0m\u001b[0mself\u001b[0m\u001b[0;34m,\u001b[0m \u001b[0mfn\u001b[0m\u001b[0;34m,\u001b[0m \u001b[0;34m*\u001b[0m\u001b[0margs\u001b[0m\u001b[0;34m)\u001b[0m\u001b[0;34m:\u001b[0m\u001b[0;34m\u001b[0m\u001b[0m\n\u001b[1;32m   1322\u001b[0m     \u001b[0;32mtry\u001b[0m\u001b[0;34m:\u001b[0m\u001b[0;34m\u001b[0m\u001b[0m\n\u001b[0;32m-> 1323\u001b[0;31m       \u001b[0;32mreturn\u001b[0m \u001b[0mfn\u001b[0m\u001b[0;34m(\u001b[0m\u001b[0;34m*\u001b[0m\u001b[0margs\u001b[0m\u001b[0;34m)\u001b[0m\u001b[0;34m\u001b[0m\u001b[0m\n\u001b[0m\u001b[1;32m   1324\u001b[0m     \u001b[0;32mexcept\u001b[0m \u001b[0merrors\u001b[0m\u001b[0;34m.\u001b[0m\u001b[0mOpError\u001b[0m \u001b[0;32mas\u001b[0m \u001b[0me\u001b[0m\u001b[0;34m:\u001b[0m\u001b[0;34m\u001b[0m\u001b[0m\n\u001b[1;32m   1325\u001b[0m       \u001b[0mmessage\u001b[0m \u001b[0;34m=\u001b[0m \u001b[0mcompat\u001b[0m\u001b[0;34m.\u001b[0m\u001b[0mas_text\u001b[0m\u001b[0;34m(\u001b[0m\u001b[0me\u001b[0m\u001b[0;34m.\u001b[0m\u001b[0mmessage\u001b[0m\u001b[0;34m)\u001b[0m\u001b[0;34m\u001b[0m\u001b[0m\n",
      "\u001b[0;32m/home/lukedeo/.venvwrp/micky-nb/local/lib/python2.7/site-packages/tensorflow/python/client/session.pyc\u001b[0m in \u001b[0;36m_run_fn\u001b[0;34m(session, feed_dict, fetch_list, target_list, options, run_metadata)\u001b[0m\n\u001b[1;32m   1300\u001b[0m           return tf_session.TF_Run(session, options,\n\u001b[1;32m   1301\u001b[0m                                    \u001b[0mfeed_dict\u001b[0m\u001b[0;34m,\u001b[0m \u001b[0mfetch_list\u001b[0m\u001b[0;34m,\u001b[0m \u001b[0mtarget_list\u001b[0m\u001b[0;34m,\u001b[0m\u001b[0;34m\u001b[0m\u001b[0m\n\u001b[0;32m-> 1302\u001b[0;31m                                    status, run_metadata)\n\u001b[0m\u001b[1;32m   1303\u001b[0m \u001b[0;34m\u001b[0m\u001b[0m\n\u001b[1;32m   1304\u001b[0m     \u001b[0;32mdef\u001b[0m \u001b[0m_prun_fn\u001b[0m\u001b[0;34m(\u001b[0m\u001b[0msession\u001b[0m\u001b[0;34m,\u001b[0m \u001b[0mhandle\u001b[0m\u001b[0;34m,\u001b[0m \u001b[0mfeed_dict\u001b[0m\u001b[0;34m,\u001b[0m \u001b[0mfetch_list\u001b[0m\u001b[0;34m)\u001b[0m\u001b[0;34m:\u001b[0m\u001b[0;34m\u001b[0m\u001b[0m\n",
      "\u001b[0;31mKeyboardInterrupt\u001b[0m: "
     ]
    }
   ],
   "source": [
    "cnn_model.fit(\n",
    "    images_train, labels_train,\n",
    "    epochs=100,\n",
    "    batch_size=512,\n",
    "    validation_data=(images_val, labels_val),\n",
    "    callbacks=[\n",
    "        EarlyStopping(verbose=True, patience=30, monitor='val_loss'),\n",
    "        ModelCheckpoint('./models/cnn-model.h5', monitor='val_loss',\n",
    "                        verbose=True, save_best_only=True)\n",
    "    ]\n",
    ")"
   ]
  },
  {
   "cell_type": "code",
   "execution_count": 52,
   "metadata": {},
   "outputs": [],
   "source": [
    "cnn_history = cnn_model.history.history"
   ]
  },
  {
   "cell_type": "code",
   "execution_count": 53,
   "metadata": {},
   "outputs": [
    {
     "data": {
      "image/png": "iVBORw0KGgoAAAANSUhEUgAAAYIAAAEKCAYAAAAfGVI8AAAABHNCSVQICAgIfAhkiAAAAAlwSFlz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\n",
      "text/plain": [
       "<matplotlib.figure.Figure at 0x7f6569feef90>"
      ]
     },
     "metadata": {},
     "output_type": "display_data"
    }
   ],
   "source": [
    "# accuracy plot\n",
    "plt.plot(100 * np.array(cnn_history['acc']), label='training')\n",
    "plt.plot(100 * np.array(cnn_history['val_acc']), label='validation')\n",
    "plt.xlim(0)\n",
    "plt.xlabel('epoch')\n",
    "plt.ylabel('accuracy %')\n",
    "plt.legend(loc='lower right', fontsize=20)\n",
    "plt.show()"
   ]
  },
  {
   "cell_type": "code",
   "execution_count": 54,
   "metadata": {},
   "outputs": [
    {
     "data": {
      "image/png": "iVBORw0KGgoAAAANSUhEUgAAAYIAAAEKCAYAAAAfGVI8AAAABHNCSVQICAgIfAhkiAAAAAlwSFlz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\nAAAASUVORK5CYII=\n",
      "text/plain": [
       "<matplotlib.figure.Figure at 0x7f6569f89f90>"
      ]
     },
     "metadata": {},
     "output_type": "display_data"
    }
   ],
   "source": [
    "# loss plot\n",
    "plt.plot(100 * np.array(cnn_history['loss']), label='training')\n",
    "plt.plot(100 * np.array(cnn_history['val_loss']), label='validation')\n",
    "plt.xlim(0)\n",
    "plt.xlabel('epoch')\n",
    "plt.ylabel('loss')\n",
    "plt.legend(loc='upper right', fontsize=20)\n",
    "# the line indicate the epoch corresponding to the best performance on the validation set\n",
    "plt.vlines(np.argmin(cnn_history['val_loss']), 43, 56, linestyle='dashed', linewidth=0.5)\n",
    "plt.show()"
   ]
  },
  {
   "cell_type": "code",
   "execution_count": 55,
   "metadata": {},
   "outputs": [
    {
     "name": "stdout",
     "output_type": "stream",
     "text": [
      "Loss estimate on unseen examples (from validation set) = 0.399\n"
     ]
    }
   ],
   "source": [
    "print 'Loss estimate on unseen examples (from validation set) = {0:.3f}'.format(np.min(cnn_history['val_loss']))"
   ]
  },
  {
   "cell_type": "code",
   "execution_count": 56,
   "metadata": {},
   "outputs": [],
   "source": [
    "cnn_model.load_weights('models/cnn-model.h5')\n",
    "yhat_cnn = cnn_model.predict(images_test, batch_size=512)"
   ]
  },
  {
   "cell_type": "markdown",
   "metadata": {},
   "source": [
    "## Small Locally-Connected Neural Network"
   ]
  },
  {
   "cell_type": "code",
   "execution_count": 57,
   "metadata": {},
   "outputs": [],
   "source": [
    "from keras.layers import LocallyConnected2D , MaxPool2D, Flatten"
   ]
  },
  {
   "cell_type": "code",
   "execution_count": 73,
   "metadata": {},
   "outputs": [],
   "source": [
    "x = Input(shape=(images_train.shape[1:]))\n",
    "h = LocallyConnected2D(32, kernel_size=9, strides=2, activation='relu')(x)\n",
    "h = Dropout(0.2)(h)\n",
    "h = LocallyConnected2D(32, kernel_size=5, strides=1, activation='relu')(h)\n",
    "h = Dropout(0.2)(h)\n",
    "h = LocallyConnected2D(64, kernel_size=3, strides=1, activation='relu')(h)\n",
    "h = Dropout(0.2)(h)\n",
    "h = LocallyConnected2D(256, kernel_size=3, strides=1, activation='relu')(h)\n",
    "h = Flatten()(h)\n",
    "h = Dropout(0.2)(h)\n",
    "y = Dense(1, activation='sigmoid')(h)"
   ]
  },
  {
   "cell_type": "code",
   "execution_count": 74,
   "metadata": {},
   "outputs": [],
   "source": [
    "lcn_model = Model(x, y)\n",
    "lcn_model.compile('adam', 'binary_crossentropy', metrics=['acc'])"
   ]
  },
  {
   "cell_type": "code",
   "execution_count": 75,
   "metadata": {},
   "outputs": [
    {
     "name": "stdout",
     "output_type": "stream",
     "text": [
      "_________________________________________________________________\n",
      "Layer (type)                 Output Shape              Param #   \n",
      "=================================================================\n",
      "input_9 (InputLayer)         (None, 25, 25, 1)         0         \n",
      "_________________________________________________________________\n",
      "locally_connected2d_16 (Loca (None, 9, 9, 32)          212544    \n",
      "_________________________________________________________________\n",
      "dropout_23 (Dropout)         (None, 9, 9, 32)          0         \n",
      "_________________________________________________________________\n",
      "locally_connected2d_17 (Loca (None, 5, 5, 32)          640800    \n",
      "_________________________________________________________________\n",
      "dropout_24 (Dropout)         (None, 5, 5, 32)          0         \n",
      "_________________________________________________________________\n",
      "locally_connected2d_18 (Loca (None, 3, 3, 64)          166464    \n",
      "_________________________________________________________________\n",
      "dropout_25 (Dropout)         (None, 3, 3, 64)          0         \n",
      "_________________________________________________________________\n",
      "locally_connected2d_19 (Loca (None, 1, 1, 256)         147712    \n",
      "_________________________________________________________________\n",
      "flatten_7 (Flatten)          (None, 256)               0         \n",
      "_________________________________________________________________\n",
      "dropout_26 (Dropout)         (None, 256)               0         \n",
      "_________________________________________________________________\n",
      "dense_15 (Dense)             (None, 1)                 257       \n",
      "=================================================================\n",
      "Total params: 1,167,777\n",
      "Trainable params: 1,167,777\n",
      "Non-trainable params: 0\n",
      "_________________________________________________________________\n"
     ]
    }
   ],
   "source": [
    "lcn_model.summary()"
   ]
  },
  {
   "cell_type": "code",
   "execution_count": 76,
   "metadata": {
    "scrolled": true
   },
   "outputs": [
    {
     "name": "stdout",
     "output_type": "stream",
     "text": [
      "Train on 512000 samples, validate on 128000 samples\n",
      "Epoch 1/100\n",
      "510464/512000 [============================>.] - ETA: 0s - loss: 0.4366 - acc: 0.8019Epoch 00001: val_loss improved from inf to 0.41196, saving model to ./models/lcn-model.h5\n",
      "512000/512000 [==============================] - 15s 29us/step - loss: 0.4366 - acc: 0.8019 - val_loss: 0.4120 - val_acc: 0.8177\n",
      "Epoch 2/100\n",
      "510976/512000 [============================>.] - ETA: 0s - loss: 0.4142 - acc: 0.8152Epoch 00002: val_loss improved from 0.41196 to 0.40751, saving model to ./models/lcn-model.h5\n",
      "512000/512000 [==============================] - 14s 26us/step - loss: 0.4142 - acc: 0.8152 - val_loss: 0.4075 - val_acc: 0.8202\n",
      "Epoch 3/100\n",
      "509952/512000 [============================>.] - ETA: 0s - loss: 0.4079 - acc: 0.8185Epoch 00003: val_loss improved from 0.40751 to 0.40072, saving model to ./models/lcn-model.h5\n",
      "512000/512000 [==============================] - 13s 26us/step - loss: 0.4079 - acc: 0.8185 - val_loss: 0.4007 - val_acc: 0.8220\n",
      "Epoch 4/100\n",
      "510976/512000 [============================>.] - ETA: 0s - loss: 0.4039 - acc: 0.8207Epoch 00004: val_loss did not improve\n",
      "512000/512000 [==============================] - 13s 26us/step - loss: 0.4039 - acc: 0.8206 - val_loss: 0.4015 - val_acc: 0.8227\n",
      "Epoch 5/100\n",
      "511488/512000 [============================>.] - ETA: 0s - loss: 0.4005 - acc: 0.8228Epoch 00005: val_loss improved from 0.40072 to 0.39580, saving model to ./models/lcn-model.h5\n",
      "512000/512000 [==============================] - 14s 27us/step - loss: 0.4005 - acc: 0.8228 - val_loss: 0.3958 - val_acc: 0.8251\n",
      "Epoch 6/100\n",
      "510464/512000 [============================>.] - ETA: 0s - loss: 0.3979 - acc: 0.8241Epoch 00006: val_loss did not improve\n",
      "512000/512000 [==============================] - 13s 26us/step - loss: 0.3979 - acc: 0.8241 - val_loss: 0.3962 - val_acc: 0.8259\n",
      "Epoch 7/100\n",
      "509952/512000 [============================>.] - ETA: 0s - loss: 0.3952 - acc: 0.8250Epoch 00007: val_loss improved from 0.39580 to 0.39414, saving model to ./models/lcn-model.h5\n",
      "512000/512000 [==============================] - 14s 27us/step - loss: 0.3952 - acc: 0.8250 - val_loss: 0.3941 - val_acc: 0.8269\n",
      "Epoch 8/100\n",
      "510464/512000 [============================>.] - ETA: 0s - loss: 0.3928 - acc: 0.8267Epoch 00008: val_loss did not improve\n",
      "512000/512000 [==============================] - 14s 27us/step - loss: 0.3927 - acc: 0.8267 - val_loss: 0.3950 - val_acc: 0.8257\n",
      "Epoch 9/100\n",
      "510464/512000 [============================>.] - ETA: 0s - loss: 0.3908 - acc: 0.8279Epoch 00009: val_loss improved from 0.39414 to 0.39389, saving model to ./models/lcn-model.h5\n",
      "512000/512000 [==============================] - 14s 26us/step - loss: 0.3909 - acc: 0.8278 - val_loss: 0.3939 - val_acc: 0.8265\n",
      "Epoch 10/100\n",
      "509440/512000 [============================>.] - ETA: 0s - loss: 0.3883 - acc: 0.8291Epoch 00010: val_loss did not improve\n",
      "512000/512000 [==============================] - 14s 27us/step - loss: 0.3883 - acc: 0.8291 - val_loss: 0.3957 - val_acc: 0.8260\n",
      "Epoch 11/100\n",
      "509952/512000 [============================>.] - ETA: 0s - loss: 0.3861 - acc: 0.8300Epoch 00011: val_loss did not improve\n",
      "512000/512000 [==============================] - 13s 26us/step - loss: 0.3862 - acc: 0.8300 - val_loss: 0.3962 - val_acc: 0.8274\n",
      "Epoch 12/100\n",
      "510464/512000 [============================>.] - ETA: 0s - loss: 0.3844 - acc: 0.8309Epoch 00012: val_loss did not improve\n",
      "512000/512000 [==============================] - 14s 26us/step - loss: 0.3845 - acc: 0.8308 - val_loss: 0.3940 - val_acc: 0.8268\n",
      "Epoch 13/100\n",
      "509440/512000 [============================>.] - ETA: 0s - loss: 0.3821 - acc: 0.8319Epoch 00013: val_loss did not improve\n",
      "512000/512000 [==============================] - 13s 26us/step - loss: 0.3821 - acc: 0.8319 - val_loss: 0.3955 - val_acc: 0.8269\n",
      "Epoch 14/100\n",
      "509952/512000 [============================>.] - ETA: 0s - loss: 0.3796 - acc: 0.8331Epoch 00014: val_loss did not improve\n",
      "512000/512000 [==============================] - 14s 26us/step - loss: 0.3796 - acc: 0.8331 - val_loss: 0.3991 - val_acc: 0.8264\n",
      "Epoch 15/100\n",
      "510976/512000 [============================>.] - ETA: 0s - loss: 0.3781 - acc: 0.8341Epoch 00015: val_loss did not improve\n",
      "512000/512000 [==============================] - 14s 27us/step - loss: 0.3781 - acc: 0.8341 - val_loss: 0.3972 - val_acc: 0.8271\n",
      "Epoch 16/100\n",
      "510976/512000 [============================>.] - ETA: 0s - loss: 0.3759 - acc: 0.8353Epoch 00016: val_loss did not improve\n",
      "512000/512000 [==============================] - 13s 26us/step - loss: 0.3759 - acc: 0.8353 - val_loss: 0.3980 - val_acc: 0.8255\n",
      "Epoch 17/100\n",
      "509952/512000 [============================>.] - ETA: 0s - loss: 0.3740 - acc: 0.8362Epoch 00017: val_loss did not improve\n",
      "512000/512000 [==============================] - 14s 27us/step - loss: 0.3740 - acc: 0.8361 - val_loss: 0.3964 - val_acc: 0.8269\n",
      "Epoch 18/100\n",
      "510976/512000 [============================>.] - ETA: 0s - loss: 0.3724 - acc: 0.8369Epoch 00018: val_loss did not improve\n",
      "512000/512000 [==============================] - 14s 27us/step - loss: 0.3725 - acc: 0.8369 - val_loss: 0.3992 - val_acc: 0.8264\n",
      "Epoch 19/100\n",
      "509952/512000 [============================>.] - ETA: 0s - loss: 0.3701 - acc: 0.8377Epoch 00019: val_loss did not improve\n",
      "512000/512000 [==============================] - 14s 27us/step - loss: 0.3702 - acc: 0.8376 - val_loss: 0.3986 - val_acc: 0.8268\n",
      "Epoch 20/100\n",
      "510976/512000 [============================>.] - ETA: 0s - loss: 0.3684 - acc: 0.8387Epoch 00020: val_loss did not improve\n",
      "512000/512000 [==============================] - 14s 26us/step - loss: 0.3684 - acc: 0.8387 - val_loss: 0.3989 - val_acc: 0.8271\n",
      "Epoch 21/100\n",
      "509440/512000 [============================>.] - ETA: 0s - loss: 0.3662 - acc: 0.8397Epoch 00021: val_loss did not improve\n",
      "512000/512000 [==============================] - 14s 27us/step - loss: 0.3662 - acc: 0.8398 - val_loss: 0.4053 - val_acc: 0.8261\n",
      "Epoch 22/100\n",
      " 18432/512000 [>.............................] - ETA: 11s - loss: 0.3584 - acc: 0.8420"
     ]
    },
    {
     "ename": "KeyboardInterrupt",
     "evalue": "",
     "output_type": "error",
     "traceback": [
      "\u001b[0;31m---------------------------------------------------------------------------\u001b[0m",
      "\u001b[0;31mKeyboardInterrupt\u001b[0m                         Traceback (most recent call last)",
      "\u001b[0;32m<ipython-input-76-f73e28996a1d>\u001b[0m in \u001b[0;36m<module>\u001b[0;34m()\u001b[0m\n\u001b[1;32m      7\u001b[0m         \u001b[0mEarlyStopping\u001b[0m\u001b[0;34m(\u001b[0m\u001b[0mverbose\u001b[0m\u001b[0;34m=\u001b[0m\u001b[0mTrue\u001b[0m\u001b[0;34m,\u001b[0m \u001b[0mpatience\u001b[0m\u001b[0;34m=\u001b[0m\u001b[0;36m30\u001b[0m\u001b[0;34m,\u001b[0m \u001b[0mmonitor\u001b[0m\u001b[0;34m=\u001b[0m\u001b[0;34m'val_loss'\u001b[0m\u001b[0;34m)\u001b[0m\u001b[0;34m,\u001b[0m\u001b[0;34m\u001b[0m\u001b[0m\n\u001b[1;32m      8\u001b[0m         ModelCheckpoint('./models/lcn-model.h5', monitor='val_loss',\n\u001b[0;32m----> 9\u001b[0;31m                         verbose=True, save_best_only=True)\n\u001b[0m\u001b[1;32m     10\u001b[0m     ]\n\u001b[1;32m     11\u001b[0m )\n",
      "\u001b[0;32m/home/lukedeo/.venvwrp/micky-nb/local/lib/python2.7/site-packages/keras/engine/training.pyc\u001b[0m in \u001b[0;36mfit\u001b[0;34m(self, x, y, batch_size, epochs, verbose, callbacks, validation_split, validation_data, shuffle, class_weight, sample_weight, initial_epoch, steps_per_epoch, validation_steps, **kwargs)\u001b[0m\n\u001b[1;32m   1629\u001b[0m                               \u001b[0minitial_epoch\u001b[0m\u001b[0;34m=\u001b[0m\u001b[0minitial_epoch\u001b[0m\u001b[0;34m,\u001b[0m\u001b[0;34m\u001b[0m\u001b[0m\n\u001b[1;32m   1630\u001b[0m                               \u001b[0msteps_per_epoch\u001b[0m\u001b[0;34m=\u001b[0m\u001b[0msteps_per_epoch\u001b[0m\u001b[0;34m,\u001b[0m\u001b[0;34m\u001b[0m\u001b[0m\n\u001b[0;32m-> 1631\u001b[0;31m                               validation_steps=validation_steps)\n\u001b[0m\u001b[1;32m   1632\u001b[0m \u001b[0;34m\u001b[0m\u001b[0m\n\u001b[1;32m   1633\u001b[0m     def evaluate(self, x=None, y=None,\n",
      "\u001b[0;32m/home/lukedeo/.venvwrp/micky-nb/local/lib/python2.7/site-packages/keras/engine/training.pyc\u001b[0m in \u001b[0;36m_fit_loop\u001b[0;34m(self, f, ins, out_labels, batch_size, epochs, verbose, callbacks, val_f, val_ins, shuffle, callback_metrics, initial_epoch, steps_per_epoch, validation_steps)\u001b[0m\n\u001b[1;32m   1211\u001b[0m                     \u001b[0mbatch_logs\u001b[0m\u001b[0;34m[\u001b[0m\u001b[0;34m'size'\u001b[0m\u001b[0;34m]\u001b[0m \u001b[0;34m=\u001b[0m \u001b[0mlen\u001b[0m\u001b[0;34m(\u001b[0m\u001b[0mbatch_ids\u001b[0m\u001b[0;34m)\u001b[0m\u001b[0;34m\u001b[0m\u001b[0m\n\u001b[1;32m   1212\u001b[0m                     \u001b[0mcallbacks\u001b[0m\u001b[0;34m.\u001b[0m\u001b[0mon_batch_begin\u001b[0m\u001b[0;34m(\u001b[0m\u001b[0mbatch_index\u001b[0m\u001b[0;34m,\u001b[0m \u001b[0mbatch_logs\u001b[0m\u001b[0;34m)\u001b[0m\u001b[0;34m\u001b[0m\u001b[0m\n\u001b[0;32m-> 1213\u001b[0;31m                     \u001b[0mouts\u001b[0m \u001b[0;34m=\u001b[0m \u001b[0mf\u001b[0m\u001b[0;34m(\u001b[0m\u001b[0mins_batch\u001b[0m\u001b[0;34m)\u001b[0m\u001b[0;34m\u001b[0m\u001b[0m\n\u001b[0m\u001b[1;32m   1214\u001b[0m                     \u001b[0;32mif\u001b[0m \u001b[0;32mnot\u001b[0m \u001b[0misinstance\u001b[0m\u001b[0;34m(\u001b[0m\u001b[0mouts\u001b[0m\u001b[0;34m,\u001b[0m \u001b[0mlist\u001b[0m\u001b[0;34m)\u001b[0m\u001b[0;34m:\u001b[0m\u001b[0;34m\u001b[0m\u001b[0m\n\u001b[1;32m   1215\u001b[0m                         \u001b[0mouts\u001b[0m \u001b[0;34m=\u001b[0m \u001b[0;34m[\u001b[0m\u001b[0mouts\u001b[0m\u001b[0;34m]\u001b[0m\u001b[0;34m\u001b[0m\u001b[0m\n",
      "\u001b[0;32m/home/lukedeo/.venvwrp/micky-nb/local/lib/python2.7/site-packages/keras/backend/tensorflow_backend.pyc\u001b[0m in \u001b[0;36m__call__\u001b[0;34m(self, inputs)\u001b[0m\n\u001b[1;32m   2330\u001b[0m         updated = session.run(self.outputs + [self.updates_op],\n\u001b[1;32m   2331\u001b[0m                               \u001b[0mfeed_dict\u001b[0m\u001b[0;34m=\u001b[0m\u001b[0mfeed_dict\u001b[0m\u001b[0;34m,\u001b[0m\u001b[0;34m\u001b[0m\u001b[0m\n\u001b[0;32m-> 2332\u001b[0;31m                               **self.session_kwargs)\n\u001b[0m\u001b[1;32m   2333\u001b[0m         \u001b[0;32mreturn\u001b[0m \u001b[0mupdated\u001b[0m\u001b[0;34m[\u001b[0m\u001b[0;34m:\u001b[0m\u001b[0mlen\u001b[0m\u001b[0;34m(\u001b[0m\u001b[0mself\u001b[0m\u001b[0;34m.\u001b[0m\u001b[0moutputs\u001b[0m\u001b[0;34m)\u001b[0m\u001b[0;34m]\u001b[0m\u001b[0;34m\u001b[0m\u001b[0m\n\u001b[1;32m   2334\u001b[0m \u001b[0;34m\u001b[0m\u001b[0m\n",
      "\u001b[0;32m/home/lukedeo/.venvwrp/micky-nb/local/lib/python2.7/site-packages/tensorflow/python/client/session.pyc\u001b[0m in \u001b[0;36mrun\u001b[0;34m(self, fetches, feed_dict, options, run_metadata)\u001b[0m\n\u001b[1;32m    887\u001b[0m     \u001b[0;32mtry\u001b[0m\u001b[0;34m:\u001b[0m\u001b[0;34m\u001b[0m\u001b[0m\n\u001b[1;32m    888\u001b[0m       result = self._run(None, fetches, feed_dict, options_ptr,\n\u001b[0;32m--> 889\u001b[0;31m                          run_metadata_ptr)\n\u001b[0m\u001b[1;32m    890\u001b[0m       \u001b[0;32mif\u001b[0m \u001b[0mrun_metadata\u001b[0m\u001b[0;34m:\u001b[0m\u001b[0;34m\u001b[0m\u001b[0m\n\u001b[1;32m    891\u001b[0m         \u001b[0mproto_data\u001b[0m \u001b[0;34m=\u001b[0m \u001b[0mtf_session\u001b[0m\u001b[0;34m.\u001b[0m\u001b[0mTF_GetBuffer\u001b[0m\u001b[0;34m(\u001b[0m\u001b[0mrun_metadata_ptr\u001b[0m\u001b[0;34m)\u001b[0m\u001b[0;34m\u001b[0m\u001b[0m\n",
      "\u001b[0;32m/home/lukedeo/.venvwrp/micky-nb/local/lib/python2.7/site-packages/tensorflow/python/client/session.pyc\u001b[0m in \u001b[0;36m_run\u001b[0;34m(self, handle, fetches, feed_dict, options, run_metadata)\u001b[0m\n\u001b[1;32m   1118\u001b[0m     \u001b[0;32mif\u001b[0m \u001b[0mfinal_fetches\u001b[0m \u001b[0;32mor\u001b[0m \u001b[0mfinal_targets\u001b[0m \u001b[0;32mor\u001b[0m \u001b[0;34m(\u001b[0m\u001b[0mhandle\u001b[0m \u001b[0;32mand\u001b[0m \u001b[0mfeed_dict_tensor\u001b[0m\u001b[0;34m)\u001b[0m\u001b[0;34m:\u001b[0m\u001b[0;34m\u001b[0m\u001b[0m\n\u001b[1;32m   1119\u001b[0m       results = self._do_run(handle, final_targets, final_fetches,\n\u001b[0;32m-> 1120\u001b[0;31m                              feed_dict_tensor, options, run_metadata)\n\u001b[0m\u001b[1;32m   1121\u001b[0m     \u001b[0;32melse\u001b[0m\u001b[0;34m:\u001b[0m\u001b[0;34m\u001b[0m\u001b[0m\n\u001b[1;32m   1122\u001b[0m       \u001b[0mresults\u001b[0m \u001b[0;34m=\u001b[0m \u001b[0;34m[\u001b[0m\u001b[0;34m]\u001b[0m\u001b[0;34m\u001b[0m\u001b[0m\n",
      "\u001b[0;32m/home/lukedeo/.venvwrp/micky-nb/local/lib/python2.7/site-packages/tensorflow/python/client/session.pyc\u001b[0m in \u001b[0;36m_do_run\u001b[0;34m(self, handle, target_list, fetch_list, feed_dict, options, run_metadata)\u001b[0m\n\u001b[1;32m   1315\u001b[0m     \u001b[0;32mif\u001b[0m \u001b[0mhandle\u001b[0m \u001b[0;32mis\u001b[0m \u001b[0mNone\u001b[0m\u001b[0;34m:\u001b[0m\u001b[0;34m\u001b[0m\u001b[0m\n\u001b[1;32m   1316\u001b[0m       return self._do_call(_run_fn, self._session, feeds, fetches, targets,\n\u001b[0;32m-> 1317\u001b[0;31m                            options, run_metadata)\n\u001b[0m\u001b[1;32m   1318\u001b[0m     \u001b[0;32melse\u001b[0m\u001b[0;34m:\u001b[0m\u001b[0;34m\u001b[0m\u001b[0m\n\u001b[1;32m   1319\u001b[0m       \u001b[0;32mreturn\u001b[0m \u001b[0mself\u001b[0m\u001b[0;34m.\u001b[0m\u001b[0m_do_call\u001b[0m\u001b[0;34m(\u001b[0m\u001b[0m_prun_fn\u001b[0m\u001b[0;34m,\u001b[0m \u001b[0mself\u001b[0m\u001b[0;34m.\u001b[0m\u001b[0m_session\u001b[0m\u001b[0;34m,\u001b[0m \u001b[0mhandle\u001b[0m\u001b[0;34m,\u001b[0m \u001b[0mfeeds\u001b[0m\u001b[0;34m,\u001b[0m \u001b[0mfetches\u001b[0m\u001b[0;34m)\u001b[0m\u001b[0;34m\u001b[0m\u001b[0m\n",
      "\u001b[0;32m/home/lukedeo/.venvwrp/micky-nb/local/lib/python2.7/site-packages/tensorflow/python/client/session.pyc\u001b[0m in \u001b[0;36m_do_call\u001b[0;34m(self, fn, *args)\u001b[0m\n\u001b[1;32m   1321\u001b[0m   \u001b[0;32mdef\u001b[0m \u001b[0m_do_call\u001b[0m\u001b[0;34m(\u001b[0m\u001b[0mself\u001b[0m\u001b[0;34m,\u001b[0m \u001b[0mfn\u001b[0m\u001b[0;34m,\u001b[0m \u001b[0;34m*\u001b[0m\u001b[0margs\u001b[0m\u001b[0;34m)\u001b[0m\u001b[0;34m:\u001b[0m\u001b[0;34m\u001b[0m\u001b[0m\n\u001b[1;32m   1322\u001b[0m     \u001b[0;32mtry\u001b[0m\u001b[0;34m:\u001b[0m\u001b[0;34m\u001b[0m\u001b[0m\n\u001b[0;32m-> 1323\u001b[0;31m       \u001b[0;32mreturn\u001b[0m \u001b[0mfn\u001b[0m\u001b[0;34m(\u001b[0m\u001b[0;34m*\u001b[0m\u001b[0margs\u001b[0m\u001b[0;34m)\u001b[0m\u001b[0;34m\u001b[0m\u001b[0m\n\u001b[0m\u001b[1;32m   1324\u001b[0m     \u001b[0;32mexcept\u001b[0m \u001b[0merrors\u001b[0m\u001b[0;34m.\u001b[0m\u001b[0mOpError\u001b[0m \u001b[0;32mas\u001b[0m \u001b[0me\u001b[0m\u001b[0;34m:\u001b[0m\u001b[0;34m\u001b[0m\u001b[0m\n\u001b[1;32m   1325\u001b[0m       \u001b[0mmessage\u001b[0m \u001b[0;34m=\u001b[0m \u001b[0mcompat\u001b[0m\u001b[0;34m.\u001b[0m\u001b[0mas_text\u001b[0m\u001b[0;34m(\u001b[0m\u001b[0me\u001b[0m\u001b[0;34m.\u001b[0m\u001b[0mmessage\u001b[0m\u001b[0;34m)\u001b[0m\u001b[0;34m\u001b[0m\u001b[0m\n",
      "\u001b[0;32m/home/lukedeo/.venvwrp/micky-nb/local/lib/python2.7/site-packages/tensorflow/python/client/session.pyc\u001b[0m in \u001b[0;36m_run_fn\u001b[0;34m(session, feed_dict, fetch_list, target_list, options, run_metadata)\u001b[0m\n\u001b[1;32m   1300\u001b[0m           return tf_session.TF_Run(session, options,\n\u001b[1;32m   1301\u001b[0m                                    \u001b[0mfeed_dict\u001b[0m\u001b[0;34m,\u001b[0m \u001b[0mfetch_list\u001b[0m\u001b[0;34m,\u001b[0m \u001b[0mtarget_list\u001b[0m\u001b[0;34m,\u001b[0m\u001b[0;34m\u001b[0m\u001b[0m\n\u001b[0;32m-> 1302\u001b[0;31m                                    status, run_metadata)\n\u001b[0m\u001b[1;32m   1303\u001b[0m \u001b[0;34m\u001b[0m\u001b[0m\n\u001b[1;32m   1304\u001b[0m     \u001b[0;32mdef\u001b[0m \u001b[0m_prun_fn\u001b[0m\u001b[0;34m(\u001b[0m\u001b[0msession\u001b[0m\u001b[0;34m,\u001b[0m \u001b[0mhandle\u001b[0m\u001b[0;34m,\u001b[0m \u001b[0mfeed_dict\u001b[0m\u001b[0;34m,\u001b[0m \u001b[0mfetch_list\u001b[0m\u001b[0;34m)\u001b[0m\u001b[0;34m:\u001b[0m\u001b[0;34m\u001b[0m\u001b[0m\n",
      "\u001b[0;31mKeyboardInterrupt\u001b[0m: "
     ]
    }
   ],
   "source": [
    "lcn_model.fit(\n",
    "    images_train, labels_train,\n",
    "    epochs=100,\n",
    "    batch_size=512,\n",
    "    validation_data=(images_val, labels_val),\n",
    "    callbacks=[\n",
    "        EarlyStopping(verbose=True, patience=30, monitor='val_loss'),\n",
    "        ModelCheckpoint('./models/lcn-model.h5', monitor='val_loss',\n",
    "                        verbose=True, save_best_only=True)\n",
    "    ]\n",
    ")"
   ]
  },
  {
   "cell_type": "code",
   "execution_count": 77,
   "metadata": {},
   "outputs": [],
   "source": [
    "lcn_history = lcn_model.history.history"
   ]
  },
  {
   "cell_type": "code",
   "execution_count": 78,
   "metadata": {},
   "outputs": [
    {
     "data": {
      "image/png": "iVBORw0KGgoAAAANSUhEUgAAAYsAAAEKCAYAAADjDHn2AAAABHNCSVQICAgIfAhkiAAAAAlwSFlz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\nBwszMyvlYGFmZqUcLMzMrNS/ypGK2vDrwYYAAAAASUVORK5CYII=\n",
      "text/plain": [
       "<matplotlib.figure.Figure at 0x7f656a06bbd0>"
      ]
     },
     "metadata": {},
     "output_type": "display_data"
    }
   ],
   "source": [
    "# accuracy plot\n",
    "plt.plot(100 * np.array(lcn_history['acc']), label='training')\n",
    "plt.plot(100 * np.array(lcn_history['val_acc']), label='validation')\n",
    "plt.xlim(0)\n",
    "plt.xlabel('epoch')\n",
    "plt.ylabel('accuracy %')\n",
    "plt.legend(loc='lower right', fontsize=20)\n",
    "plt.show()"
   ]
  },
  {
   "cell_type": "code",
   "execution_count": 79,
   "metadata": {},
   "outputs": [
    {
     "data": {
      "image/png": "iVBORw0KGgoAAAANSUhEUgAAAYwAAAEKCAYAAAAB0GKPAAAABHNCSVQICAgIfAhkiAAAAAlwSFlz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\n",
      "text/plain": [
       "<matplotlib.figure.Figure at 0x7f6569f59c90>"
      ]
     },
     "metadata": {},
     "output_type": "display_data"
    }
   ],
   "source": [
    "# loss plot\n",
    "plt.plot(100 * np.array(lcn_history['loss']), label='training')\n",
    "plt.plot(100 * np.array(lcn_history['val_loss']), label='validation')\n",
    "plt.xlim(0)\n",
    "plt.xlabel('epoch')\n",
    "plt.ylabel('loss')\n",
    "plt.legend(loc='upper right', fontsize=20)\n",
    "# the line indicate the epoch corresponding to the best performance on the validation set\n",
    "plt.vlines(np.argmin(lcn_history['val_loss']), 43, 56, linestyle='dashed', linewidth=0.5)\n",
    "plt.show()"
   ]
  },
  {
   "cell_type": "code",
   "execution_count": 80,
   "metadata": {},
   "outputs": [
    {
     "name": "stdout",
     "output_type": "stream",
     "text": [
      "Loss estimate on unseen examples (from validation set) = 0.394\n"
     ]
    }
   ],
   "source": [
    "print 'Loss estimate on unseen examples (from validation set) = {0:.3f}'.format(np.min(lcn_history['val_loss']))"
   ]
  },
  {
   "cell_type": "code",
   "execution_count": 81,
   "metadata": {},
   "outputs": [],
   "source": [
    "lcn_model.load_weights('models/lcn-model.h5')\n",
    "yhat_lcn = lcn_model.predict(images_test, batch_size=512)"
   ]
  },
  {
   "cell_type": "markdown",
   "metadata": {},
   "source": [
    "## Small Maxout network"
   "execution_count": 87,
   "metadata": {},
   "outputs": [],
   "source": [
    "maxout_dim = 5\n",
    "\n",
    "x = Input(shape=(images_train.shape[1:]))\n",
    "h = Flatten()(x)\n",
    "h = Dense(25 ** 2, kernel_initializer='he_uniform', activation='relu')(h)\n",
    "h = Dropout(0.2)(h)\n",
    "h = Dense(25 ** 2, kernel_initializer='he_uniform', activation='relu')(h)\n",
    "h = Dropout(0.2)(h)\n",
    "h = Dense(25 ** 2, kernel_initializer='he_uniform', activation='relu')(h)\n",
    "h = Dropout(0.2)(h)\n",
    "h = Dense(25 ** 2, kernel_initializer='he_uniform', activation='relu')(h)\n",
    "h = Dropout(0.2)(h)\n",
    "h = Dense(256, activation='relu')(h)\n",
    "h = Dropout(0.2)(h)\n",
    "# h = Dense(64, activation='relu')(h)\n",
    "# h = Dropout(0.2)(h)\n",
    "y = Dense(1, activation='sigmoid')(h)"
   ]
  },
  {
   "cell_type": "code",
   "execution_count": 88,
   "metadata": {},
   "outputs": [],
   "source": [
    "dense_model = Model(x, y)\n",
    "dense_model.compile('adam', 'binary_crossentropy', metrics=['acc'])"
   ]
  },
  {
   "cell_type": "code",
   "execution_count": 89,
   "metadata": {
    "scrolled": false
   },
   "outputs": [
    {
     "name": "stdout",
     "output_type": "stream",
     "text": [
      "Train on 512000 samples, validate on 128000 samples\n",
      "Epoch 1/100\n",
      "508928/512000 [============================>.] - ETA: 0s - loss: 0.5263 - acc: 0.7677Epoch 00001: val_loss improved from inf to 0.43789, saving model to ./models/dense-model.h5\n",
      "512000/512000 [==============================] - 10s 19us/step - loss: 0.5259 - acc: 0.7679 - val_loss: 0.4379 - val_acc: 0.8061\n",
      "Epoch 2/100\n",
      "510976/512000 [============================>.] - ETA: 0s - loss: 0.4372 - acc: 0.8038Epoch 00002: val_loss improved from 0.43789 to 0.41880, saving model to ./models/dense-model.h5\n",
      "512000/512000 [==============================] - 9s 17us/step - loss: 0.4372 - acc: 0.8039 - val_loss: 0.4188 - val_acc: 0.8139\n",
      "Epoch 3/100\n",
      "508928/512000 [============================>.] - ETA: 0s - loss: 0.4249 - acc: 0.8110Epoch 00003: val_loss improved from 0.41880 to 0.41534, saving model to ./models/dense-model.h5\n",
      "512000/512000 [==============================] - 8s 16us/step - loss: 0.4247 - acc: 0.8111 - val_loss: 0.4153 - val_acc: 0.8167\n",
      "Epoch 4/100\n",
      "508928/512000 [============================>.] - ETA: 0s - loss: 0.4177 - acc: 0.8148Epoch 00004: val_loss improved from 0.41534 to 0.41102, saving model to ./models/dense-model.h5\n",
      "512000/512000 [==============================] - 8s 16us/step - loss: 0.4177 - acc: 0.8148 - val_loss: 0.4110 - val_acc: 0.8188\n",
      "Epoch 5/100\n",
      "508928/512000 [============================>.] - ETA: 0s - loss: 0.4130 - acc: 0.8168Epoch 00005: val_loss did not improve\n",
      "512000/512000 [==============================] - 8s 16us/step - loss: 0.4130 - acc: 0.8168 - val_loss: 0.4140 - val_acc: 0.8176\n",
      "Epoch 6/100\n",
      "508928/512000 [============================>.] - ETA: 0s - loss: 0.4090 - acc: 0.8184Epoch 00006: val_loss improved from 0.41102 to 0.40554, saving model to ./models/dense-model.h5\n",
      "512000/512000 [==============================] - 8s 16us/step - loss: 0.4090 - acc: 0.8184 - val_loss: 0.4055 - val_acc: 0.8194\n",
      "Epoch 7/100\n",
      "508416/512000 [============================>.] - ETA: 0s - loss: 0.4053 - acc: 0.8199Epoch 00007: val_loss did not improve\n",
      "512000/512000 [==============================] - 8s 17us/step - loss: 0.4052 - acc: 0.8199 - val_loss: 0.4078 - val_acc: 0.8197\n",
      "Epoch 8/100\n",
      "511488/512000 [============================>.] - ETA: 0s - loss: 0.4024 - acc: 0.8215Epoch 00008: val_loss improved from 0.40554 to 0.40451, saving model to ./models/dense-model.h5\n",
      "512000/512000 [==============================] - 9s 17us/step - loss: 0.4024 - acc: 0.8215 - val_loss: 0.4045 - val_acc: 0.8199\n",
      "Epoch 9/100\n",
      "510464/512000 [============================>.] - ETA: 0s - loss: 0.3994 - acc: 0.8230Epoch 00009: val_loss did not improve\n",
      "512000/512000 [==============================] - 8s 16us/step - loss: 0.3994 - acc: 0.8230 - val_loss: 0.4057 - val_acc: 0.8200\n",
      "Epoch 10/100\n",
      "509440/512000 [============================>.] - ETA: 0s - loss: 0.3960 - acc: 0.8247Epoch 00010: val_loss did not improve\n",
      "512000/512000 [==============================] - 8s 16us/step - loss: 0.3960 - acc: 0.8248 - val_loss: 0.4079 - val_acc: 0.8187\n",
      "Epoch 11/100\n",
      "509952/512000 [============================>.] - ETA: 0s - loss: 0.3935 - acc: 0.8253Epoch 00011: val_loss did not improve\n",
      "512000/512000 [==============================] - 9s 17us/step - loss: 0.3936 - acc: 0.8253 - val_loss: 0.4092 - val_acc: 0.8197\n",
      "Epoch 12/100\n",
      "508928/512000 [============================>.] - ETA: 0s - loss: 0.3904 - acc: 0.8270Epoch 00012: val_loss did not improve\n",
      "512000/512000 [==============================] - 8s 16us/step - loss: 0.3903 - acc: 0.8271 - val_loss: 0.4104 - val_acc: 0.8156\n",
      "Epoch 13/100\n",
      "509440/512000 [============================>.] - ETA: 0s - loss: 0.3874 - acc: 0.8281Epoch 00013: val_loss did not improve\n",
      "512000/512000 [==============================] - 8s 16us/step - loss: 0.3874 - acc: 0.8281 - val_loss: 0.4060 - val_acc: 0.8208\n",
      "Epoch 14/100\n",
      "508928/512000 [============================>.] - ETA: 0s - loss: 0.3841 - acc: 0.8300Epoch 00014: val_loss did not improve\n",
      "512000/512000 [==============================] - 8s 17us/step - loss: 0.3841 - acc: 0.8300 - val_loss: 0.4113 - val_acc: 0.8196\n",
      "Epoch 15/100\n",
      "508928/512000 [============================>.] - ETA: 0s - loss: 0.3809 - acc: 0.8310Epoch 00015: val_loss did not improve\n",
      "512000/512000 [==============================] - 9s 17us/step - loss: 0.3811 - acc: 0.8309 - val_loss: 0.4176 - val_acc: 0.8188\n",
      "Epoch 16/100\n",
      "511488/512000 [============================>.] - ETA: 0s - loss: 0.3779 - acc: 0.8330Epoch 00016: val_loss did not improve\n",
      "512000/512000 [==============================] - 9s 17us/step - loss: 0.3780 - acc: 0.8330 - val_loss: 0.4102 - val_acc: 0.8193\n",
      "Epoch 17/100\n",
      "509952/512000 [============================>.] - ETA: 0s - loss: 0.3747 - acc: 0.8348Epoch 00017: val_loss did not improve\n",
      "512000/512000 [==============================] - 9s 17us/step - loss: 0.3747 - acc: 0.8347 - val_loss: 0.4256 - val_acc: 0.8185\n",
      "Epoch 18/100\n",
      "509952/512000 [============================>.] - ETA: 0s - loss: 0.3723 - acc: 0.8352Epoch 00018: val_loss did not improve\n",
      "512000/512000 [==============================] - 8s 16us/step - loss: 0.3723 - acc: 0.8353 - val_loss: 0.4158 - val_acc: 0.8189\n",
      "Epoch 19/100\n",
      "509952/512000 [============================>.] - ETA: 0s - loss: 0.3703 - acc: 0.8368Epoch 00019: val_loss did not improve\n",
      "512000/512000 [==============================] - 8s 16us/step - loss: 0.3702 - acc: 0.8368 - val_loss: 0.4175 - val_acc: 0.8185\n",
      "Epoch 20/100\n",
      "510976/512000 [============================>.] - ETA: 0s - loss: 0.3673 - acc: 0.8383Epoch 00020: val_loss did not improve\n",
      "512000/512000 [==============================] - 8s 16us/step - loss: 0.3673 - acc: 0.8383 - val_loss: 0.4313 - val_acc: 0.8171\n",
      "Epoch 21/100\n",
      "508416/512000 [============================>.] - ETA: 0s - loss: 0.3652 - acc: 0.8393Epoch 00021: val_loss did not improve\n",
      "512000/512000 [==============================] - 8s 16us/step - loss: 0.3652 - acc: 0.8393 - val_loss: 0.4185 - val_acc: 0.8186\n",
      "Epoch 22/100\n",
      "368640/512000 [====================>.........] - ETA: 2s - loss: 0.3623 - acc: 0.8406"
     ]
    },
    {
     "ename": "KeyboardInterrupt",
     "evalue": "",
     "output_type": "error",
     "traceback": [
      "\u001b[0;31m---------------------------------------------------------------------------\u001b[0m",
      "\u001b[0;31mKeyboardInterrupt\u001b[0m                         Traceback (most recent call last)",
      "\u001b[0;32m<ipython-input-89-c74a11945fbd>\u001b[0m in \u001b[0;36m<module>\u001b[0;34m()\u001b[0m\n\u001b[1;32m      7\u001b[0m         \u001b[0mEarlyStopping\u001b[0m\u001b[0;34m(\u001b[0m\u001b[0mverbose\u001b[0m\u001b[0;34m=\u001b[0m\u001b[0mTrue\u001b[0m\u001b[0;34m,\u001b[0m \u001b[0mpatience\u001b[0m\u001b[0;34m=\u001b[0m\u001b[0;36m30\u001b[0m\u001b[0;34m,\u001b[0m \u001b[0mmonitor\u001b[0m\u001b[0;34m=\u001b[0m\u001b[0;34m'val_loss'\u001b[0m\u001b[0;34m)\u001b[0m\u001b[0;34m,\u001b[0m\u001b[0;34m\u001b[0m\u001b[0m\n\u001b[1;32m      8\u001b[0m         ModelCheckpoint('./models/dense-model.h5', monitor='val_loss',\n\u001b[0;32m----> 9\u001b[0;31m                         verbose=True, save_best_only=True)\n\u001b[0m\u001b[1;32m     10\u001b[0m     ]\n\u001b[1;32m     11\u001b[0m )\n",
      "\u001b[0;32m/home/lukedeo/.venvwrp/micky-nb/local/lib/python2.7/site-packages/keras/engine/training.pyc\u001b[0m in \u001b[0;36mfit\u001b[0;34m(self, x, y, batch_size, epochs, verbose, callbacks, validation_split, validation_data, shuffle, class_weight, sample_weight, initial_epoch, steps_per_epoch, validation_steps, **kwargs)\u001b[0m\n\u001b[1;32m   1629\u001b[0m                               \u001b[0minitial_epoch\u001b[0m\u001b[0;34m=\u001b[0m\u001b[0minitial_epoch\u001b[0m\u001b[0;34m,\u001b[0m\u001b[0;34m\u001b[0m\u001b[0m\n\u001b[1;32m   1630\u001b[0m                               \u001b[0msteps_per_epoch\u001b[0m\u001b[0;34m=\u001b[0m\u001b[0msteps_per_epoch\u001b[0m\u001b[0;34m,\u001b[0m\u001b[0;34m\u001b[0m\u001b[0m\n\u001b[0;32m-> 1631\u001b[0;31m                               validation_steps=validation_steps)\n\u001b[0m\u001b[1;32m   1632\u001b[0m \u001b[0;34m\u001b[0m\u001b[0m\n\u001b[1;32m   1633\u001b[0m     def evaluate(self, x=None, y=None,\n",
      "\u001b[0;32m/home/lukedeo/.venvwrp/micky-nb/local/lib/python2.7/site-packages/keras/engine/training.pyc\u001b[0m in \u001b[0;36m_fit_loop\u001b[0;34m(self, f, ins, out_labels, batch_size, epochs, verbose, callbacks, val_f, val_ins, shuffle, callback_metrics, initial_epoch, steps_per_epoch, validation_steps)\u001b[0m\n\u001b[1;32m   1211\u001b[0m                     \u001b[0mbatch_logs\u001b[0m\u001b[0;34m[\u001b[0m\u001b[0;34m'size'\u001b[0m\u001b[0;34m]\u001b[0m \u001b[0;34m=\u001b[0m \u001b[0mlen\u001b[0m\u001b[0;34m(\u001b[0m\u001b[0mbatch_ids\u001b[0m\u001b[0;34m)\u001b[0m\u001b[0;34m\u001b[0m\u001b[0m\n\u001b[1;32m   1212\u001b[0m                     \u001b[0mcallbacks\u001b[0m\u001b[0;34m.\u001b[0m\u001b[0mon_batch_begin\u001b[0m\u001b[0;34m(\u001b[0m\u001b[0mbatch_index\u001b[0m\u001b[0;34m,\u001b[0m \u001b[0mbatch_logs\u001b[0m\u001b[0;34m)\u001b[0m\u001b[0;34m\u001b[0m\u001b[0m\n\u001b[0;32m-> 1213\u001b[0;31m                     \u001b[0mouts\u001b[0m \u001b[0;34m=\u001b[0m \u001b[0mf\u001b[0m\u001b[0;34m(\u001b[0m\u001b[0mins_batch\u001b[0m\u001b[0;34m)\u001b[0m\u001b[0;34m\u001b[0m\u001b[0m\n\u001b[0m\u001b[1;32m   1214\u001b[0m                     \u001b[0;32mif\u001b[0m \u001b[0;32mnot\u001b[0m \u001b[0misinstance\u001b[0m\u001b[0;34m(\u001b[0m\u001b[0mouts\u001b[0m\u001b[0;34m,\u001b[0m \u001b[0mlist\u001b[0m\u001b[0;34m)\u001b[0m\u001b[0;34m:\u001b[0m\u001b[0;34m\u001b[0m\u001b[0m\n\u001b[1;32m   1215\u001b[0m                         \u001b[0mouts\u001b[0m \u001b[0;34m=\u001b[0m \u001b[0;34m[\u001b[0m\u001b[0mouts\u001b[0m\u001b[0;34m]\u001b[0m\u001b[0;34m\u001b[0m\u001b[0m\n",
      "\u001b[0;32m/home/lukedeo/.venvwrp/micky-nb/local/lib/python2.7/site-packages/keras/backend/tensorflow_backend.pyc\u001b[0m in \u001b[0;36m__call__\u001b[0;34m(self, inputs)\u001b[0m\n\u001b[1;32m   2327\u001b[0m                 \u001b[0mvalue\u001b[0m \u001b[0;34m=\u001b[0m \u001b[0;34m(\u001b[0m\u001b[0mindices\u001b[0m\u001b[0;34m,\u001b[0m \u001b[0msparse_coo\u001b[0m\u001b[0;34m.\u001b[0m\u001b[0mdata\u001b[0m\u001b[0;34m,\u001b[0m \u001b[0msparse_coo\u001b[0m\u001b[0;34m.\u001b[0m\u001b[0mshape\u001b[0m\u001b[0;34m)\u001b[0m\u001b[0;34m\u001b[0m\u001b[0m\n\u001b[1;32m   2328\u001b[0m             \u001b[0mfeed_dict\u001b[0m\u001b[0;34m[\u001b[0m\u001b[0mtensor\u001b[0m\u001b[0;34m]\u001b[0m \u001b[0;34m=\u001b[0m \u001b[0mvalue\u001b[0m\u001b[0;34m\u001b[0m\u001b[0m\n\u001b[0;32m-> 2329\u001b[0;31m         \u001b[0msession\u001b[0m \u001b[0;34m=\u001b[0m \u001b[0mget_session\u001b[0m\u001b[0;34m(\u001b[0m\u001b[0;34m)\u001b[0m\u001b[0;34m\u001b[0m\u001b[0m\n\u001b[0m\u001b[1;32m   2330\u001b[0m         updated = session.run(self.outputs + [self.updates_op],\n\u001b[1;32m   2331\u001b[0m                               \u001b[0mfeed_dict\u001b[0m\u001b[0;34m=\u001b[0m\u001b[0mfeed_dict\u001b[0m\u001b[0;34m,\u001b[0m\u001b[0;34m\u001b[0m\u001b[0m\n",
      "\u001b[0;32m/home/lukedeo/.venvwrp/micky-nb/local/lib/python2.7/site-packages/keras/backend/tensorflow_backend.pyc\u001b[0m in \u001b[0;36mget_session\u001b[0;34m()\u001b[0m\n\u001b[1;32m    173\u001b[0m             \u001b[0mcandidate_vars\u001b[0m \u001b[0;34m=\u001b[0m \u001b[0;34m[\u001b[0m\u001b[0;34m]\u001b[0m\u001b[0;34m\u001b[0m\u001b[0m\n\u001b[1;32m    174\u001b[0m             \u001b[0;32mfor\u001b[0m \u001b[0mv\u001b[0m \u001b[0;32min\u001b[0m \u001b[0mvariables\u001b[0m\u001b[0;34m:\u001b[0m\u001b[0;34m\u001b[0m\u001b[0m\n\u001b[0;32m--> 175\u001b[0;31m                 \u001b[0;32mif\u001b[0m \u001b[0;32mnot\u001b[0m \u001b[0mgetattr\u001b[0m\u001b[0;34m(\u001b[0m\u001b[0mv\u001b[0m\u001b[0;34m,\u001b[0m \u001b[0;34m'_keras_initialized'\u001b[0m\u001b[0;34m,\u001b[0m \u001b[0mFalse\u001b[0m\u001b[0;34m)\u001b[0m\u001b[0;34m:\u001b[0m\u001b[0;34m\u001b[0m\u001b[0m\n\u001b[0m\u001b[1;32m    176\u001b[0m                     \u001b[0mcandidate_vars\u001b[0m\u001b[0;34m.\u001b[0m\u001b[0mappend\u001b[0m\u001b[0;34m(\u001b[0m\u001b[0mv\u001b[0m\u001b[0;34m)\u001b[0m\u001b[0;34m\u001b[0m\u001b[0m\n\u001b[1;32m    177\u001b[0m             \u001b[0;31m# This step is expensive, so we only run it on variables\u001b[0m\u001b[0;34m\u001b[0m\u001b[0;34m\u001b[0m\u001b[0m\n",
      "\u001b[0;31mKeyboardInterrupt\u001b[0m: "
     ]
    }
   ],
   "source": [
    "dense_model.fit(\n",
    "    images_train, labels_train,\n",
    "    epochs=100,\n",
    "    batch_size=512,\n",
    "    validation_data=(images_val, labels_val),\n",
    "    callbacks=[\n",
    "        EarlyStopping(verbose=True, patience=30, monitor='val_loss'),\n",
    "        ModelCheckpoint('./models/dense-model.h5', monitor='val_loss',\n",
    "                        verbose=True, save_best_only=True)\n",
    "    ]\n",
    ")"
   ]
  },
  {
   "cell_type": "code",
   "execution_count": 90,
   "metadata": {},
   "outputs": [],
   "source": [
    "dense_history = dense_model.history.history"
   ]
  },
  {
   "cell_type": "code",
   "execution_count": 91,
   "metadata": {},
   "outputs": [
    {
     "data": {
      "image/png": "iVBORw0KGgoAAAANSUhEUgAAAYIAAAEKCAYAAAAfGVI8AAAABHNCSVQICAgIfAhkiAAAAAlwSFlz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\n",
      "text/plain": [
       "<matplotlib.figure.Figure at 0x7f6518965c50>"
      ]
     },
     "metadata": {},
     "output_type": "display_data"
    }
   ],
   "source": [
    "# accuracy plot\n",
    "plt.plot(100 * np.array(dense_history['acc']), label='training')\n",
    "plt.plot(100 * np.array(dense_history['val_acc']), label='validation')\n",
    "plt.xlim(0)\n",
    "plt.xlabel('epoch')\n",
    "plt.ylabel('accuracy %')\n",
    "plt.legend(loc='lower right', fontsize=20)\n",
    "plt.show()"
   ]
  },
  {
   "cell_type": "code",
   "execution_count": 92,
   "metadata": {},
   "outputs": [
    {
     "data": {
      "image/png": "iVBORw0KGgoAAAANSUhEUgAAAYwAAAEKCAYAAAAB0GKPAAAABHNCSVQICAgIfAhkiAAAAAlwSFlz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\n",
      "text/plain": [
       "<matplotlib.figure.Figure at 0x7f6519b98b10>"
      ]
     },
     "metadata": {},
     "output_type": "display_data"
    }
   ],
   "source": [
    "# loss plot\n",
    "plt.plot(100 * np.array(dense_history['loss']), label='training')\n",
    "plt.plot(100 * np.array(dense_history['val_loss']), label='validation')\n",
    "plt.xlim(0)\n",
    "plt.xlabel('epoch')\n",
    "plt.ylabel('loss')\n",
    "plt.legend(loc='upper right', fontsize=20)\n",
    "# the line indicate the epoch corresponding to the best performance on the validation set\n",
    "plt.vlines(np.argmin(dense_history['val_loss']), 43, 56, linestyle='dashed', linewidth=0.5)\n",
    "plt.show()"
   ]
  },
  {
   "cell_type": "code",
   "execution_count": 93,
   "metadata": {},
   "outputs": [
    {
     "name": "stdout",
     "output_type": "stream",
     "text": [
      "Loss estimate on unseen examples (from validation set) = 0.405\n"
     ]
    }
   ],
   "source": [
    "print 'Loss estimate on unseen examples (from validation set) = {0:.3f}'.format(np.min(dense_history['val_loss']))"
   ]
  },
  {
   "cell_type": "code",
   "execution_count": 94,
   "metadata": {},
   "outputs": [],
   "source": [
    "dense_model.load_weights('models/dense-model.h5')\n",
    "yhat_dense = dense_model.predict(images_test, batch_size=512)"
   ]
  },
  {
   "cell_type": "markdown",
   "metadata": {},
   "source": [
    "## Plot ROC Curves"
   ]
  },
  {
   "cell_type": "code",
   "execution_count": 95,
   "metadata": {},
   "outputs": [],
   "source": [
    "from sklearn.metrics import roc_curve"
   ]
  },
  {
   "cell_type": "code",
   "execution_count": 96,
   "metadata": {},
   "outputs": [],
   "source": [
    "fpr_cnn, tpr_cnn, _ = roc_curve(labels_test, yhat_cnn)\n",
    "fpr_lcn, tpr_lcn, _ = roc_curve(labels_test, yhat_lcn)\n",
    "fpr_dense, tpr_dense, _ = roc_curve(labels_test, yhat_dense)\n",
    "fpr_baseline, tpr_baseline, _ = roc_curve(labels_test, yhat_baseline)"
   ]
  },
  {
   "cell_type": "code",
   "execution_count": 103,
   "metadata": {},
   "outputs": [
    {
     "name": "stderr",
     "output_type": "stream",
     "text": [
      "/home/lukedeo/.venvwrp/micky-nb/lib/python2.7/site-packages/ipykernel_launcher.py:2: RuntimeWarning: divide by zero encountered in divide\n",
      "  \n",
      "/home/lukedeo/.venvwrp/micky-nb/lib/python2.7/site-packages/ipykernel_launcher.py:3: RuntimeWarning: divide by zero encountered in divide\n",
      "  This is separate from the ipykernel package so we can avoid doing imports until\n",
      "/home/lukedeo/.venvwrp/micky-nb/lib/python2.7/site-packages/ipykernel_launcher.py:4: RuntimeWarning: divide by zero encountered in divide\n",
      "  after removing the cwd from sys.path.\n",
      "/home/lukedeo/.venvwrp/micky-nb/lib/python2.7/site-packages/ipykernel_launcher.py:5: RuntimeWarning: divide by zero encountered in divide\n",
      "  \"\"\"\n"
     ]
    },
    {
     "data": {
      "text/plain": [
       "(0, 1000)"
      ]
     },
     "execution_count": 103,
     "metadata": {},
     "output_type": "execute_result"
    },
    {
     "data": {
      "image/png": "iVBORw0KGgoAAAANSUhEUgAAAmQAAAJDCAYAAACluAgyAAAABHNCSVQICAgIfAhkiAAAAAlwSFlz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\n",
      "text/plain": [
       "<matplotlib.figure.Figure at 0x7f6518495b50>"
      ]
     },
     "metadata": {},
     "output_type": "display_data"
    }
   ],
   "source": [
    "plt.figure(figsize=(10,10))\n",
    "_ = plt.plot(tpr_cnn, 1./fpr_cnn, label='CNN')\n",
    "_ = plt.plot(tpr_lcn, 1./fpr_lcn, label='LCN')\n",
    "_ = plt.plot(tpr_dense, 1./fpr_dense, label='FCN')\n",
    "_ = plt.plot(tpr_baseline, 1./fpr_baseline, label='Baseline')\n",
    "plt.legend()\n",
    "plt.xlim((0.1, 0.9))\n",
    "plt.ylim((0, 1000))\n",
    "# plt.yscale('log')"
   ]
  },
  {
   "cell_type": "code",
   "execution_count": null,
   "metadata": {},
   "outputs": [],
   "source": []
  },
  {
   "cell_type": "code",
   "execution_count": 121,
   "metadata": {},
   "outputs": [],
   "source": [
    "def get_correlations(images, disc_output):\n",
    "    '''\n",
    "    '''\n",
    "    import pandas as pd\n",
    "    # -- find the total number of pixels per image, here 25 x 25\n",
    "    n_pixels = np.prod(images.shape[1:3])\n",
    "    \n",
    "    # -- add the pixels as columns to a dataframe\n",
    "    df = pd.DataFrame({i : np.squeeze(images).reshape(-1, n_pixels)[:, i] for i in range(n_pixels)})\n",
    "    # -- add a column to the end of the dataframe for the discriminator's output\n",
    "    df['disc_output'] = disc_output\n",
    "    # -- pandas offers an easy solution to calculate correlations \n",
    "    # (even though it's slow because it also calculates the correlation between each pixel and every other pixel)\n",
    "    correlations = df.corr().values[:-1, -1]\n",
    "    return correlations\n",
    "\n",
    "def plot_correlations(correlations, extent, title='', img_dim=(25, 25), cmap=plt.cm.seismic):\n",
    "\n",
    "    max_mag = max(\n",
    "        abs(np.min(correlations[np.isfinite(correlations)])),\n",
    "        abs(np.max(correlations[np.isfinite(correlations)])),\n",
    "    ) # highest correlation value (abs value), to make the plot look nice and on a reasonable scale\n",
    "\n",
    "    f, ax = plt.subplots(figsize=(6, 6))\n",
    "    im = ax.imshow(\n",
    "        correlations.reshape(img_dim),\n",
    "        interpolation='nearest',\n",
    "        norm=Normalize(vmin=-max_mag, vmax=max_mag),\n",
    "        extent=extent,\n",
    "        cmap=cmap\n",
    "    )\n",
    "    \n",
    "    plt.colorbar(im, fraction=0.05, pad=0.05)\n",
    "    plt.xlabel(r'[Transformed] Pseudorapidity $(\\eta)$')\n",
    "    plt.ylabel(r'[Transformed] Azimuthal Angle $(\\phi)$')\n",
    "    plt.title(title)\n",
    "#     plt.savefig(os.path.join('..', outdir, outname))"
   ]
  },
  {
   "cell_type": "code",
   "execution_count": 122,
   "metadata": {},
   "outputs": [
    {
     "data": {
      "image/png": "iVBORw0KGgoAAAANSUhEUgAAAa0AAAF9CAYAAAC3aDcYAAAABHNCSVQICAgIfAhkiAAAAAlwSFlz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\nPzjHYIckfIzQAAAAAElFTkSuQmCC\n",
      "text/plain": [
       "<matplotlib.figure.Figure at 0x7fa8c7875fd0>"
      ]
     },
     "metadata": {},
     "output_type": "display_data"
    }
   ],
   "source": [
    "plot_correlations(\n",
    "    get_correlations(images_test[:10000], yhat_cnn[:10000]),\n",
    "    extent=[-1.25, 1.25, -1.25, 1.25],\n",
    "    title='Correlation between pixels \\n and the CNN prediction'\n",
    ")"
   ]
  },
  {
   "cell_type": "code",
   "execution_count": 123,
   "metadata": {},
   "outputs": [
    {
     "data": {
      "image/png": "iVBORw0KGgoAAAANSUhEUgAAAa0AAAF9CAYAAAC3aDcYAAAABHNCSVQICAgIfAhkiAAAAAlwSFlz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\ns67homVmZl3DRcvMzLqGi5aZmXWN/x9/ZyvpsZQK/gAAAABJRU5ErkJggg==\n",
      "text/plain": [
       "<matplotlib.figure.Figure at 0x7fa8adf29310>"
      ]
     },
     "metadata": {},
     "output_type": "display_data"
    }
   ],
   "source": [
    "plot_correlations(\n",
    "    get_correlations(images_test[:10000], yhat_lcn[:10000]),\n",
    "    extent=[-1.25, 1.25, -1.25, 1.25],\n",
    "    title='Correlation between pixels \\n and the LCN prediction'\n",
    ")"
   ]
  },
  {
   "cell_type": "code",
   "execution_count": 124,
   "metadata": {},
   "outputs": [
    {
     "data": {
      "image/png": "iVBORw0KGgoAAAANSUhEUgAAAa0AAAF9CAYAAAC3aDcYAAAABHNCSVQICAgIfAhkiAAAAAlwSFlz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\nSUVORK5CYII=\n",
      "text/plain": [
       "<matplotlib.figure.Figure at 0x7fa8c6714e10>"
      ]
     },
     "metadata": {},
     "output_type": "display_data"
    }
   ],
   "source": [
    "plot_correlations(\n",
    "    get_correlations(images_test[:10000], yhat_dense[:10000]),\n",
    "    extent=[-1.25, 1.25, -1.25, 1.25],\n",
    "    title='Correlation between pixels \\n and the FCN prediction'\n",
    ")"
   ]
  },
  {
   "cell_type": "code",
   "execution_count": 125,
   "metadata": {},
   "outputs": [
    {
     "data": {
      "image/png": "iVBORw0KGgoAAAANSUhEUgAAAa0AAAF9CAYAAAC3aDcYAAAABHNCSVQICAgIfAhkiAAAAAlwSFlz\nAAALEgAACxIB0t1+/AAAADl0RVh0U29mdHdhcmUAbWF0cGxvdGxpYiB2ZXJzaW9uIDIuMS4wLCBo\ndHRwOi8vbWF0cGxvdGxpYi5vcmcvpW3flQAAIABJREFUeJzt3Xm8HGWV//HPl5ANAgRIWANEBUUU\nZQmLCiMKjsAgMDqMCo6g8GNwGVEHBQcXRJ0BdRxlxCUyCAoqLoBRUEBkEREhAWSRIBGIBIkkkIQE\nEhKS8/ujnoZOc/vefvp23Xu7+vt+vfqVXk5Xnaru2ydPdfV5FBGYmZl1g3WGOwEzM7NWuWiZmVnX\ncNEyM7Ou4aJlZmZdw0XLzMy6houWmZl1DRctGxaSHpR0QJvP3VfSvSXkNFVSSFq308vuBpK+IekT\nHVjOtZKO60ROZo1ctHqUpCMlzZS0TNIjkn4haZ/hzqsvqZBsX7sdEb+JiJcMZ06NqlDwIuKEiPjM\ncOdh1h8XrR4k6cPAl4H/BDYHtgW+BhzWxrKe9yHdzR/cZjayuWj1GEkbAacD74uIiyPiyYhYFRE/\ni4iPpJixkr4s6a/p8mVJY9Nj+0maJ+lkSfOBb/d1X4o9RNLtkhZLulHSK5rktKek36W4RyR9VdKY\n9Nj1KewPaVT41tr66p7/0nRIarGkuyUdWvfYeZLOlnSZpKWSfi/pRQPspnen7X5E0kl1y1pH0imS\n/izpMUk/lLRJeriW5+KU56skzZW0e3ruUWkk9rJ0+1hJl7awXCTtnfbfYkl/kLRf3WPXSvqMpN+m\n7btS0qQm+7n2Ov2HpIXpEO1RDfvqs+n6yWlfrZtuvyft23ED5dSwzu0lXSdpSVrnRQPse7N+uWj1\nnlcB44BL+ok5Fdgb2AV4JbAn8PG6x7cANgG2A47v6z5JuwLnAv8KbAp8E5hRK34NVgMfAial/PYH\n3gsQEX+XYl4ZERMiYq0PPUmjgZ8BVwKbAf8GXCip/vDh24BPAxsDc4DP9bPtAK8DdgD+HjhZz333\n9m/A4cBrga2ARcDZ6bFanhNTnr8DrgP2S/e/Fri/Lu616fF+lytpa+Ay4LMU+/ck4CeSJtfleyTw\nrrT9Y1JMM1tQ7OetgaOB6Q37quYLwNPAxyXtQDEqf0dErGgxp5rPULw2GwNTgP/tJzezgUWELz10\nAY4C5g8Q82fg4LrbbwQeTNf3A1YC4+oe7+u+rwOfaVjuvcBr0/UHgQOarP+DwCV1twPYvmF989L1\nfYH5wDp1j38fOC1dPw84p+6xg4HZTdY7Na1rx7r7Pg/8X7p+D7B/3WNbAquAdeueu27d48cCM+qe\nexzwg3R7LrBbC8s9GfhuQ55XAEen69cCH6977L3AL5ts337AM8D6dff9EPhE3b76bMP+eDzl97G6\n+1vJ6bh0/TvAdGDKcL/3fanGxSOt3vMYMGmA7522ovhQrZmb7qtZEBErGp7TeN92wL+nw0eLJS0G\ntmlYDgCSXizp55LmS3qC4n/1fR7iapLrQxGxpiHfretuz6+7/hQwYYBlPtSwrFrO2wGX1G3PPRSj\nxM2bLOc6YF9JWwKjKArEayRNBTYCbm9hudsBRzTsx30oCls727coIp5ssn1riYgHgWsoitfZdQ+1\nklPNRwEBN6fDi+/uJzezAblo9Z7fURz2ObyfmL9SfDDVbJvuq+lraoDG+x4CPhcRE+su60XE9/t4\n7teB2cAOEbEh8B8UH3St+CuwjaT69/K2wMMtPr8v2zQsq7btDwEHNWzTuIh4mD72SUTMoSgi/wZc\nHxFPUBSY44Eb6gptf8t9iGJUU//Y+hFxRpvbtrGk9Zts31ok/QPF4dqrKQ4X1rScU0TMj4j/FxFb\nURwq/prqzgQ1y+Wi1WMiYgnwSeBsSYdLWk/SaEkHSfp8Cvs+xXcZk9OX+p8ELshc1beAEyTtpcL6\nkv5B0gZ9xG4APAEsk7Qj8J6Gx/8GvLDJen5PURg+mrZjP+BNwA8y8633ibRfXkbxXVHte7RvAJ+T\ntB1A2j+1My4XAGv6yPM64P089/3VtQ23B1ruBcCbJL1R0ihJ49IJFVMGsX2fljRG0r7AIcCPGgPS\n634OxSHNo1MOB+fmJOmIuvsXURT3NY1xZq1y0epBEfHfwIcpTq5YQPE/5/cDl6aQzwIzgTuAO4Fb\n030565gJ/D/gqxQfVnOAY5qEn0RxMsFSimLXeIbZacD56VDUPzesZyVFkToIWEhx6v47I2J2Tr4N\nrkv5Xg18MSKuTPd/BZgBXClpKXATsFfK4ymKEzx+m/Lcu25ZG/Dc2YWNtwda7kMUP0X4D557rT5C\n+3+78ylej78CFwInNNlX04GfRsTlEfEYxfdz50jaNDOnPYDfS1qWtvHEiLi/zdzNUIQngTTrBWkU\nekFEDGaUZjasPNIyM7Ou4aJlZmZdw4cHzcysa3ikZWZmXcNFyzqivm9dGfEjjZ7f//DuZv33RjJJ\nx0i6oe72MknNfl7Q33KOknTlwJFmg+OiZaVr/GAsYfnXSlqRPnCXSLpe0s5lra8vEfGyiLh2KNdZ\nhij6JvZ7Srr6mIYlIi6MiL8vP0PrdS5aVhXvj4gJFA1crwW+O7zpDL0BWnOZVYKLVg+T9BVJD0l6\nQtKs1CGh9thpKqbI+I6KKS/uljSt7vFdJd2aHruIonN8X+t4KUXHh1elkdDiuoc3VpMpQyTtKOkq\nSY9LurfxR8XNRMRqim4YO9Utq7+pTyTpfyQ9mvbDnZJenh4bK+mLkv4i6W8qZvYd32Q7n52JuYV9\nt5Wkn0haIOkBSR9otj3pMOo30r5YqmKaj+3qHg9J75N0H3DfQPtO0qaSZqRtvRl4UcP6np1wU9J4\nSf+tYoqVJZJuSNvf1zQsjYcZXy3plvS8WyS9uu6xlqdTsfZtL8VWg7hI+uVwb0NfXLR62y0U049s\nAnwP+JHSfEnJoRQFYCJFN4OvAqQP/EspRjObULQBektfK4iIe4ATgN+lQ08T6x7uc8oQFb3xrko5\nbZbiviZpJwaQcjuKoqtETdOpTyimH/k74MUUTWz/maKpMMAZ6f5dgO0pmvB+cqAckmb7bh2KqVT+\nkJa3P/BBSW/sZ1lHUUzxMYmiye6FDY8fTtFBY6cW9t3ZwAqK5rbvTpdmvgjsDrya4nX+KEULpr6m\nYXmWirnALgPOopiW5kvAZZI2rQvLmU7F2vAURbPHdi+03rR6SLlo9bCIuCAiHouIZ1Jrp7FA/dxK\nN6Q2PqspCtQr0/17A6OBL0cxgeSPKQpgrksi4uaIeIbig3iXdP8hFFOhfDvldhvwE+CIfpZ1VhrF\nLaVoSfXpuu2cFRE3pWU9SDG312vTw6so2irtSPETkHsi4hFJomhs+6GIeDwillJ0n39bi9vWbN/t\nAUyOiNMjYmX6/uhbAyz3soi4PiKeppjr7FWS6pv6/lfKcTn97DtJoyj+c/HJKCb/vAs4v68VpuL6\nboq2Sw9HxOqIuDHlMJB/AO6LiO+mHL5P0RD5TXUx346IP6Wcf8hzr711iCg+4Nu9jFQ+Bt7DVMzK\neyzF1BQBbMja/7tqnPJiXPreZCvg4Vj7R371U5m0qtmUGtsBezUcSlyX/r+n+kBEnJM+bF9DMeHk\nayPiDkkvpvjf/jRgvbSsWQAR8WtJX6UYgWwn6WKK//WPS7GzivoFFJ8Do9rcttq+2w7YqmHbRgG/\n6WdZz06VEhHLJD1OmpKl8XH633eT0/XGqVf6MoliH/y5n7yaaZzapraewUwXY20YycWnXVXcJmuB\niu+vPkpxOGzjdNhuCa1NCfIIsLXqPs0pprhoJvcX7A8B1zVMfTEhIhq7vz9/RRFrIuI3FIcba2ez\n9Tv1SUScFRG7U3wP9mKK5q8LgeXAy+py2Cid7DEYDwEPNGzbBhFxcD/PeXZUJal2skmzqWL623cL\nKCaBbJx6pS8LKQ4jvqiPxwZ6PRuntqmtZzDTxVimqo60RnJuVq4NKD7AFgDrSvokxUirFb9Lz/2A\niulA3gzs2U/834AptZMfWvBz4MWS/iUtf7SkPVSc1DEgSa+iKEB3p7uaTn2SlruXpNHAkxQf1GvS\nXFffAv5H0mYpdusBvntqxc3AUkknpxMdRkl6uaQ9+nnOwZL2SfvvM8BNqdN6X5ruu3So8mLgNBVT\nr+xEMe3I86TtPxf4UjpxZFQ64WIszadhqbk85XCkpHUlvZXi9fh5/7vGbGAuWr3rCuCXwJ8oDt2s\nYO3DRk2l6UDeTDHVyOPAWyk+DJv5NUUBmS9pYQvLX0oxSnobxf/a5wNnUnzn1sxX05lsyygOhX08\nIn6RHutv6pMN032LKPbDYzw34eHJFCO2m1TMqPwr1v7OL1sqHIdQfIfzAMWI5hyKk0Ca+R7wKYp9\nvTvwjn6WP9C+ez/Fobj5wHnAt/tZ70kUU9PcktZ9JrBOP9Ow1HJ4LG3jv1Psz48Ch0TEgK+9dVYV\nR1ruPWg2gkk6D5gXER8f7lysu0yR4sRBPP+jMCsipg0cObR8IoaZWQXVvtOqGhctM7OKctEysyEV\nEccMdw5mI4mLlplZBfnwYJeaNGlSTJ06dbjT6Glr1uTF554bNKrVn/smzzyTF69WfrlWJzef3P2z\nThU/iWwts2bNWhgRkwe7nCq+VSpftKZOncrMmTOHO42e9tRTefG5RWXDVn9dljz+eF78upl/JRMy\nf368YkVe/Hrr5cVb95HUToeZ5y+nEwsZYapYiM3MrKIqP9IyM+tFOY0yu4mLlplZRVXxUJqLlplZ\nBfnsQTMz6ypVLFpV3CYzM6soj7TMzCqqiqMSFy0zswryd1pmZtZVXLTMzKwriGp2xHDRsmxlt2XK\nVXZbptz8ly3Li1++PC8+V9nbW3bbLbN6LlpmZhXljhhmZtYVfCKGmZl1lSoWrSpuk5mZVZRHWmZm\nFVXFUYmLlplZBfk7LTMz6youWmZm1hWqOtKq4jaZmVlFeaRlZlZRbuNkZmZdwx0xbMRbuTIvfsWK\n/HXk9pobNy4vvp2ccuT2BhxV8l/++PF58UuX5sVvvHFefNm9Ip94otzlg/sbgr/TMjMzG3YeaZmZ\nVVQVRyUjapsknSvpUUl3NXlcks6SNEfSHZJ2G+oczcy6Qe3wYLuXkWqk5XYecGA/jx8E7JAuxwNf\nH4KczMy6kotWySLieqC/Kf0OA74ThZuAiZK2HJrszMy6i4vW8NsaeKju9rx0n5mZ9YBuK1otkXS8\npJmSZi5YsGC40zEzG3Jlf6cl6UBJ96ZzDE7pJ+4tkkLStMFsT023Fa2HgW3qbk9J960lIqZHxLSI\nmDZ58uQhS87MbCTRIC79LlcaBZxNcZ7BTsDbJe3UR9wGwInA7zuwOUD3Fa0ZwDvTWYR7A0si4pHh\nTsrMbKQRRUeMdi8D2BOYExH3R8RK4AcU5xw0+gxwJtCxlgEj6ndakr4P7AdMkjQP+BQwGiAivgFc\nDhwMzAGeAt41PJmamY18gxyVTJI0s+729IiYnq73dX7BXvVPTj9J2iYiLpP0kcGl8pwRVbQi4u0D\nPB7A+4YoHTOzXrYwItr6HkrSOsCXgGM6mhEjrGjZ4I0ZkxffTp+/VavKjc+V27sv19NP58Xn5lN2\nr7/c1zg3n3UzP0WWL8+LBxg9Ov85Vur3PwOdX7AB8HLgWkkAWwAzJB0aEfWjt2wuWmZmFVRyw9xb\ngB0kvYCiWL0NOLL2YEQsASY9m4t0LXDSYAsWdN+JGGZm1qKyTnmPiGeA9wNXAPcAP4yIuyWdLunQ\nEjblWR5pmZlZtoi4nOLkuPr7Ptkkdr9OrddFy8ysgqo6n5aLlplZRblomZlZ1xios0U3ctEyM6ug\nWkeMqqni6NHMzCrKIy0zs4qq4qjERcvMrIJ89qCZmXUVFy0btCeeyIvP7QM3blxe/FDI7d23bFle\nfO425/bKy30NFi7Mi8+Vm3/u/s9dfm5vw6F4j+b+neVu83rr5cUPlyoWrSpuk5mZVZRHWmZmFeTv\ntMzMrKu4aJmZWdeoYkeMKhZiMzOrKI+0zMwqqKptnFy0zMwqqoqH0ly0zMwqyGcPmplZV6li0ari\nNpmZWUV5pGVmVkE+PGgdUXbfu9w+cO3I7WVXdk6LF+fFT5pU7vJXrcqLX706L37ChHLjy369ct/T\nAKMyT4PLfc2mTMmL7xYuWmZm1hU80jIzs65SxaJVxW0yM7OK8kjLzKyiqjgqcdEyM6sgf6eVSFof\nWBERmec8mZnZUKpi0RpwmyStI+lISZdJehSYDTwi6Y+SviBp+/LTNDMza60QXwO8CPgYsEVEbBMR\nmwH7ADcBZ0p6R4k5mplZptrhwXYvI1UrhwcPiIjn/VwyIh4HfgL8RNLojmdmZmaDMpKLT7sGLFr1\nBUvSGGBURCxvFmNmZiODNIi5iyM6l0gHtVyIJZ0IPALMkXSPpPeXl5aZmQ2KVPSNa/cyQg2YmaSv\nALcCJwIvjYhHJU0GPi3pMxHxibKTHEpPPJEXn9tHrey+dLna6TO3bFle/LhxefFLl+bFjx+fF5/7\nmuXmn7t/cnsDLl8+cMxg4keXfLA/d39C/t/BxIl58bm9CnM/0zfcMC/emmtl118D7AZMAm6U9ARw\nB3AncIKkL0XEohJzNDOzdgxmxJT7P+wh0sp3WpcCl0raG/gQxSHCVwCvBDYBfi1pw4h4UamZmplZ\n62qHBysmZ4veB/wQuJ1ilPVS4M6I2C+doGFmZiNFrxetiLhP0l7AGyhGWXcAH02PrSwnPTMza0uv\nFi1JiijOfUzF6bJ06TPGzMysLC2diCHpJ8BPI+IvtTvTIcF9gKMpTtY4r5QMzcwsX6+OtIADgXcD\n35f0AmAxMJ7iN15XAl+OiNvKS9HMzNrSi0UrIlYAXwO+lto1TQKWR0TmLxvMzGzI9PBI61mpXdMj\nJeViZmbWr+qVYTMz80jLzMy6SK8XLRXtgo8CXhgRp0valmJ+rZtLy87MzNrT60WL4mSMNcDrgdOB\npRTzae1RQl5do53mn2XKbSzaTsPc3L+DdtaRI7dB7cKFefG5r3FuQ97c/HP3f24z2NwGvmPH5sXn\n7n/Ib4Cb+5rl7tPcJsTD1jC3x4vWXhGxm6TbACJikds3mZnZUMopWqskjQICIE1PsqaUrMzMbHAq\nengwZzbms4BLgM0kfQ64AfjPTiYj6UBJ90qaI+mUPh4/RtICSbeny3GdXL+ZWWX06iSQNRFxoaRZ\nwP6AgMMj4p5OJZJGcWdTNOSdB9wiaUZE/LEh9KKI8KzJZmb9qehIK/fHxbOB2SXlsicwJyLuB5D0\nA+AwoLFomZnZQEouWpIOBL4CjALOiYgzGh7/MHAc8AywAHh3RMwd7HoHPDwoaamkJ9K/teu125mT\n0/dra+Chutvz0n2N3iLpDkk/lrRNk5yPlzRT0swFCxZ0MEUzM6s7MnYQsBPwdkk7NYTdBkyLiFcA\nPwY+34l1D1i0ImKDiNgw/Vu7Xrs91Cdy/gyYmnbCVcD5fQVFxPSImBYR0yZPnjykCZqZjRjlfaf1\n7JGxNGVV7cjYsyLimoh4Kt28CZjSkU1qNTAN9RotAWZFxO0dyOVhoH7kNCXd96yIeKzu5jl0qHKb\nmVXO4A8PTpI0s+729IiYnq73dWRsr36WdSzwi8EkU5OzRdPS5Wfp9iEUsxefIOlHETHYAnILsEOa\n/uRh4G3AkfUBkraMiFrD3kOBjp0IYmZWKYMvWgsjYtrg09A7KGrHawe7LMgrWlOA3SJiWUrkUxQz\nGP8dMItBjnoi4hlJ7weuoPhi79yIuFvS6cDMiJgBfEDSoRRf7D0OHDOYdZqZWVsGPDIGIOkA4FTg\ntRHxdCdWnFO0NgPqV7oK2DwilkvqSDIRcTlwecN9n6y7/jHgY51Yl5lZpZV79mArR8Z2Bb4JHBgR\nj3ZqxTlbdCHwe0k/pfid1puA70lanxF8WvqaNfDUUwPH1eT2jRtphiL/3F6Cub3vcrdh/vxyl58b\nP3VqXnxu78Hc3oC5+z/3cy43Prc/JkDuScC579EttsiLz92GlSvz4juixKLV4pGxLwATgB8V/db5\nS0QcOth15/y4+DOSfgG8hqKV079GRO1LuqMGm4iZmXVQyb/TauHI2AFlrDfn7MGxwIuB9dPzDpZ0\ncEScXkZiZmY2SD3eEeOnpFPcWfu7LTMzsyGRdfZgRBxYWiZmZtY57j3IjZJ2jog7S8vGzMw6w0WL\nfYBjJD1AcXhQQKSWSmZmNpK4aHFQaVmYmVlnVbRotTwJZETMrb9Q/Br6o+WlZmZmtrasMpx+4Xwk\ncATwAHBxGUmZmVkHVHCkNeAWSXox8PZ0WQhcBCgiXldybmZm1q6KHh5sZYtmA78BDomIOQCSPlRq\nVmZmNjg9XLTeTNEM8RpJv6SY7EulZjWMcl/jkdarMLfP3PLl+et48sm8+Nzeernxs2fnxee+ZgsX\n5sXn9kKcODEvPrf34LhxefG525urnc/R3G3IfY1z/27WXz8vPrcXojU34NsnIi4FLk2NcQ8DPghs\nJunrwCURcWXJOZqZWa4eHmkBEBFPAt+j6Oy+McXJGCcDLlpmZiNNrxetehGxCJieLmZmNhK5aJmZ\nWVeo6Eir5R8Xm5mZDbfqlWEzM6vsSKuVHxcvpZip+HkPUTTM3bDjWZmZ2eD0atGKiA2GIhEzM+ug\nXi1a9dKp7jsAz/7ULyKu73RSZmZmfWm5aEk6DjgRmALcDuwN/A54fTmpmZnZoFRwpJVz9uCJwB7A\n3NQsd1cgs/mJmZkNidrhwXYvI1ROZisiYoUkJI2NiNmSXlJaZh2yejUsXdp6/PjxecvP7SmW20Pt\n6afz4nP72A1F78TcXnbz5uXFz5mTF5/7GixYkBc/dmxefG7fux13zIvPfY0nTcqLz92fQ9GHLzen\nSvJ3WsyTNBG4FLhK0iJgbjlpmZnZoPR60YqIf0xXT5N0DbAR8MtSsjIzM+tDu70Hr+t0ImZm1kG9\nPtKSNBZ4CzC1/nkRcXrn0zIzs0Hp9aIF/BRYAswCMk8PMDOzIdfjRWtKRBxYWiZmZtY5FR1p5fxO\n60ZJO5eWiZmZ2QBaaZh7J0XD3HWBd0m6n+LwYK1h7ivKTdHMzLJVdKTVyhYdUnoWZmbWWb1atCJi\nLoCkMyPi5PrHJJ0JnNznE83MbPhUtGjlfKf1hj7uO6hTiZiZmQ2kle+03gO8F3iRpDtqdwMTgBtL\nzK0jJBg9uvX4sv9jsmxZXnxu37jc+FWr8uLbkdtrLncbcl+z3N6G06blxd90U178Flvkxef2l5w6\nNS++7H6a7cjNKTd+883z4levzotfvjwvvmMqONJqZYu+B/wC+C+KQ4FK9y+NiMfLSszMzAahoocH\nW/lOawmwRNJs4Jj6xyS5I4aZ2UjUq0WrTv2BrXEUZxXe09l0zMysI3q9aEXEf9fflvRF4IqOZ2Rm\nZtbEYMrwesCUTiViZmYd1OsjrbrOGACjgMmAv88yMxuperlosXZnjGeAv0XEEEzWbmZm2Xp9pFXr\njGFmZl2g14uWpGnAqcB26XlumGtmZkMqpwxfCHwEuBNYU046ZmbWEb0+0gIWRMSM0jIxM7POcdHi\nU5LOAa6mmE8LgIi4uONZDaOye/3lyl3+okV58bk91CA/p9zedIsX58Xn9pmbMCEv/vP/Oz4rfreX\n5jWamz8/K5wdd8yLz+13mfs5V3ZvSch/D+Wu47HH8uJz30O58R3T40XrXcCOwGieOzwYQKWKlpmZ\njVw5RWuPiHhJaZmYmVnnVPTwYM58WjdK2qm0TABJB0q6V9IcSaf08fhYSRelx38vaWqZ+ZiZda1a\n0Wr3MuDih+fzOqcM7w3cLukBiu+0OnrKu6RRwNkUk03OA26RNCMi/lgXdiywKCK2l/Q24EzgrZ1Y\nv5lZpZQ40hrOz+ucLTpwsCsbwJ7AnIi4H0DSD4DDgPqdcBhwWrr+Y+CrkhQRgZmZPafcw4PD9nk9\nkjpibA08VHd7HrBXs5iIeEbSEmBTYGF9kKTjgeMBpkzZtqx8zcyqbJKkmXW3p0fE9HS9Y5/XuQYs\nWpJuiIh9JC3luYa58NzhwQ0Hk0AZ0o6dDrDLLtM8CjOznrQm67SF51kYEdM6lUuntDJz8T7p3w1K\nzuVhYJu621PSfX3FzJO0LrARkPkLCzOz6oso9Xekw/Z53XIZlnS1pIMb7pveLL4NtwA7SHqBpDHA\n24DGDhwzgKPT9X8Cfu3vs8zMnq9WtNq9DGDYPq9zvqV7AXCypD0i4tPpvo4NHdMxz/dTzIY8Cjg3\nIu6WdDowM7WQ+j/gu5LmAI9T7CgzM2tQ5khrOD+vc4rWYmB/4CxJPwPe0YkE6kXE5cDlDfd9su76\nCuCITq/XzMzyDNfndU7RUpr08b2SjgFuADbudELdJveM0tz/+eT2dcu1xRb5z7nllrz4snsDbr55\nXvy11+bFv/OIzF6Cv8pb/iGHDBxTL7cPX+57NHf/l91/E2CjjfLiV60qNz53H+X20+yEkr/TGjY5\nb+dv1K5ExHmS7gTe1/mUzMysE3q6aEXENxvuGg/k/RfUzMyGhEdagKRdgSMpjlM+APykjKTMzMz6\n0sqPi18MvD1dFgIXUXy/9bqSczMzszb18khrNvAb4JCImAMg6UOlZmVmZoPSy0XrzRTn118j6ZfA\nDyhaOJmZ2QjVs0UrIi4FLpW0PkXX3g8Cm0n6OnBJRFxZco5mZtaGKhatlts4RcSTEfG9iHgTRZ+p\n24CTS8vMzMysQVuTrUTEIoou6p3sPWhmZh3Ss4cHzcys+7homZlZ1+jZoiVpkxaWsyYihqG71sDW\nWSevV1tun7xRo/Lic3uQ5faN2yBz1rN2eqJNnpwXP3p0/jpyLFqUF/+mN+XFz56dF3/MMXnxU6bk\nxed+EJUdn9u3L/f9A+W/hyZOzIsvbxb7zunZogX8NV36O819FOB57c3MrFStFK17ImLX/gIk3dah\nfMzMrEN6daT1qg7FmJnZEOnlw4PvlZofGYyIL6XJvszMbITo5aJV+2r/JcAewIx0+03AzWUkZWZm\n1pdW2jh9GkDS9cBuEbE03T4NuKzU7MzMrC29PNKq2RxYWXd7ZbrPzMxGGBct+A5ws6RL0u3DgfM7\nn5KZmXVCTxetiPicpF8A+6ada705AAAV+0lEQVS73hURPtXdzGwEqupIq+Uu7ypOIdwJ2CgivgI8\nJmnP0jIzMzNrkHN48GvAGuD1wOnAUuAnFGcUmpnZCFLVkVZO0dorInardb+IiEWSxpSUV2Xl9jjL\n7Q04YUJefG6vRYAttsiLX7YsLz63F19uH7jcXoI5vSsBHnwwL3777fPi118/Lz63b9+kSXnxufs/\nt19nO3Jzyo3PLQZjx+bFd4KLFqySNAoIAEmTKUZeZmY2wrhowVnAJcBmkj4H/BPw8VKyMjOzQen5\nohURF0qaBexP0fH98Ii4p7TMzMzMGmQdyY2I2UDmNwJmZjYcenqkJWkacCqwXXqegIiIV5SUm5mZ\ntannDw8CFwIfAe7EJ2CYmY1oLlqwICJmDBxmZmZWjpyi9SlJ5wBXA0/X7oyIizuelZmZDYpHWvAu\nYEdgNM8dHgzARcvMbIRx0YI9IuIlpWViZmYd1etF60ZJO0XEH0vLxszMOsIjLdgbuF3SAxTfaVXy\nlPfcPnm5vf6efLLc5ef2Esztqwf5fwi5/RZzbZ45FWlub73c3oAzZ+bF5/YS3GabvPjc16vs+Nw+\nfwBPPz1wTL3c91zuNrTzd2Od0dLbJ01L8q/A3HLTMTOzTujpkVZEhKSzI2LnshMyM7PB6+mildwq\naY+IuKW0bMzMrCNctGAv4ChJc4Enqeh3WmZmNnLlFK03lpaFmZl1XE+PtCJirqRXAvumu34TEX8o\nJy0zMxuMqh4eXKfVQEknUjTN3SxdLpD0b2UlZmZm7asVrXYvI1XO4cFjgb0i4kkASWcCvwP+t4zE\nzMysfT0/0qI48WJ13e3V6T4zM7MhkTPS+jbwe0mXpNuHA//X+ZTMzGywqjrSyjkR40uSrgX2SXe9\nKyJuKyUrMzMbtJ4sWpK+GxH/IunEiPgKcOsQ5NUxUl6vs7Fj85af24Mst+9abi/EXO28qZcvz4vP\n7Z+YK7eX4F6//VJW/M1v+fes+HfvsENW/J9+/qes+EWLssKz36O5/Stz30O5f2MA48fnxZfd73LU\nqLz40aPLyaM/VR1ptfKd1u6StgLeLWljSZvUX8pO0MzM8g3n2YOpPlwl6b7078Z9xOwi6XeS7pZ0\nh6S3trLsVorWNyhmK94RmNVwyexnbWZmPeAU4OqI2IGifpzSR8xTwDsj4mXAgcCXJQ04Rh7wYFVE\nnAWcJenrEfGevLxbk0ZsFwFTgQeBf46I5x0EkbQauDPd/EtEHFpGPmZm3W6YDw8eBuyXrp8PXAuc\nXB8QEX+qu/5XSY8Ck4HF/S0455T3X0vaAEDSxyVdLGnXjOf3p5WqDLA8InZJFxcsM7MmOnB4cJKk\nmXWX4zNWv3lEPJKuzwf6nfVO0p7AGODPAy0457SAT0TEjyTtAxwAfIHi0OFeGctoZsCqbGZmrevA\nSGthRExr9qCkXwFb9PHQqWvnESEp+lnOlsB3gaMjYs1ASeUUrdoPi/8BmB4Rl0n6bMbz+9NqVR4n\naSbwDHBGRFzaV1D6H8HxANtuu22HUjQzs5qIOKDZY5L+JmnLiHgkFaVHm8RtCFwGnBoRN7Wy3pyi\n9bCkbwJ/D5wpaSx5vQs7UZW3i4iHJb2Q4nDlnRHxvOFkREwHpgPsvvu0phXezKzKhvE7rRnA0cAZ\n6d+fNgZIGgNcAnwnIn7c6oJzitY/U5zh8cWIWCxpC+AjrT65E1U5Ih5O/96ffui8Ky0cAzUz6zXD\nfCLGGcAPJR0LzKWoH0iaBpwQEcel+/4O2FTSMel5x0TE7f0tOPfw4DjgCEn1z7syYxnNtFKVNwae\nioinJU0CXgN8vgPrNjOrnOEsWhHxGLB/H/fPBI5L1y8ALshddk7R+inFqYi3Ak/nrmgArVTllwLf\nlLSG4rDkGRHxxw7nYWZWCVXtiJFTtKZExIFlJNFiVb4R2LmM9ZuZWXfIKVo3Sto5Iu4cOHTkkGDM\nmNbjN9ggb/lLl+bF5/ZdG2m9CiF/H+XK7ZU3ZUrmCs47Lyv88szFT7rvvqz43O3N7WNXdn/M3Pjc\n3oZQfr/L9dfPi8/thTgcIx6PtIru7sdIeoDi8KAoTvZ7RSmZmZnZoPR60TqotCzMzKyjen6kFRFz\n0xl8O1CcRVgzt+NZmZnZoPR80ZJ0HHAiMAW4Hdgb+B3w+nJSMzMzW1tOw9wTgT2AuRHxOoof9vbb\njdfMzIbHcM6nVaac77RWRMQKSUgaGxGzJb2ktMzMzKxtPX94EJiXJui6FLhK0iL8fZaZ2YjVs0VL\nkoAPRMRi4DRJ1wAbAb8sMzkzM7N6LRWt1Hn9clJHioi4rtSszMxsUHx4EG6VtEdE3FJaNmZm1hEu\nWsUMxUdJmgs8iTtimJmNWC5a8MbSshhBcl/k3B5kuX3acnsb5vaZa0fuPsrth5gbf3u/s+88324/\n/3lW/Gn77JO3gszehr9/ZOCYwVi1Ki8+9z2dq533aNn9E3P7Oeb+DeTm0wk9W7QkrRsRz0SEzxQ0\nM7Nh1Ur9vxnYrexEzMyss3pypEXx3ZWZmXWRnj08CEyW9OFmD0bElzqYj5mZdUjEmuFOoeNaKVqj\ngAl4xGVm1kUCWD3cSXRcK0VrfkScXnomZmZmA2ilaEXpWZiZWQmqN9JqZWqSUQMFSLq1A7mYmVnH\n1A4PtnsZmVoZae0g6Y5+HhdF81wzMxtRevNEjJe2EDNyy7KZmVXGgEXLnTDMzLpR7549aGZmXcdF\nqydsuGFe/MqVefGLFuXF5zbyzG12unhxXjzAggV58bnbsGJFXvzs2XnxVy3YNit+13P+khV/0w1Z\n4UyalBe//fZ58VOm5MXnyu26MHFi/jpyG86W3WA3V+7nSue4aJmZWVeo5kirlVPezczMRgSPtMzM\nKqs3T3k3M7OuU83Dgy5aZmaV5KJlZmZdpXpFyydimJlZ1/BIy8ysknx40MzMuorPHjQzs65QzZGW\nv9MyM7Ou4ZHWIOX2ycvtDZjb12358rz4dnqubbBBXnzuPsrthzh/fl78zJl58ddemxe/ZEle/Ctf\nmRef21dvo8zZ7nJf39xegmPH5sVDfv/K3H2U+3fWPao30nLRMjOrpGoeHnTRMjOrJBctMzPrKtU7\ne9AnYpiZWdfwSMvMrJJ8eNDMzLqKi5aZmXUFj7TMzKyrVK9o+UQMMzPrGh5pmZlVUuBT3s3MrIus\nHsSlfZI2kXSVpPvSvxv3E7uhpHmSvtrKsj3SGqQNN8yLf+qpvPjc3oBD0XNt1Ki8+KefzoufNy8v\nPncbcuNz+96Vvfzc1zi3l2Duey43Prf/Zjtyc8p9zXL/7ofHsJ6IcQpwdUScIemUdPvkJrGfAa5v\ndcEeaZmZWacdBpyfrp8PHN5XkKTdgc2BK1td8IgoWpKOkHS3pDWSpvUTd6CkeyXNSdXbzMz6VBtp\ntX14cJKkmXWX4zNWvnlEPJKuz6coTGuRtA7w38BJOVs1Ug4P3gW8GfhmswBJo4CzgTcA84BbJM2I\niD8OTYpmZt1mUCdiLIyI/gYRvwK26OOhU+tvRERIij7i3gtcHhHzJLWc1IgoWhFxD8AAie8JzImI\n+1PsDyiGoC5aZmbPU+53WhFxQLPHJP1N0pYR8YikLYFH+wh7FbCvpPcCE4AxkpZFRL9H0UZE0WrR\n1sBDdbfnAXsNUy5mZl1g2E7EmAEcDZyR/v1pY0BEHFW7LukYYNpABQuG8DstSb+SdFcfl8NKWNfx\nteOwCxYs6PTizcysf2cAb5B0H3BAuo2kaZLOGcyCh2yk1d9QskUPA9vU3Z6S7utrXdOB6QDTpk3r\n61iqmVnFDd8p7xHxGLB/H/fPBI7r4/7zgPNaWXY3HR68BdhB0gsoitXbgCOHNyUzs5HMvQdLIekf\nJc2j+GLuMklXpPu3knQ5QEQ8A7wfuAK4B/hhRNw9XDmbmY1stTZO7V5GphEx0oqIS4BL+rj/r8DB\ndbcvBy4fwtTMzLpUNacmGREjLTMzs1aMiJFWL1lvvbz43F6F2T3Uxq3MewIwYcKYrPgVK/KWP3Vq\nXnyusWPz4pcsyYt/+cvz4vfeOy9+8+f1Fuhfbh++SZPKXX47ct/XY8h7X4/ZMO893T2qN9Jy0TIz\nq6RqHh500TIzq6zqFS1/p2VmZl3DIy0zs0qq5szFLlpmZpVVvcODLlpmZpXkEzHMzKxrVLNo+UQM\nMzPrGh5pmZlVVvVGWi5aZmaVVM3Dgy5aZmaV5VPebYitt25eD7WV6+b1UHvqmfyea7lvmtzeg1Om\n5MVPnJgXv/32efEjTW5vxtzegLl9/nJf3wkT8uLbWUfu+3q9qrYerCAXLTOzSvLhQTMz6youWmZm\n1hU80jIzs65SvRMx/ONiMzPrGh5pmZlVkg8PmplZ13DRMjOzruKiZWZmXaGaIy2fiGFmZl3DIy0z\ns8qq3invlS9as2bNWihp7jCtfhKwcJjWPRy8vdXWa9sLw7fN2w1+EdU8PFj5ohURk4dr3ZJmRsS0\n4Vr/UPP2VluvbS9UYZurV7T8nZaZmXWNyo+0zMx6kw8PWr7pw53AEPP2VluvbS909TZXs2gpIoY7\nBzMz6zBp04ADB7GE780aid/neaRlZlZJQRVPefeJGGZm1jVctDpI0hGS7pa0RlLTYbWkAyXdK2mO\npFOGMsdOkrSJpKsk3Zf+3bhJ3GpJt6fLjKHOc7AGer0kjZV0UXr895KmDn2WndPC9h4jaUHda3rc\ncOTZKZLOlfSopLuaPC5JZ6X9cYek3YY6x/atHsRlZHLR6qy7gDcD1zcLkDQKOBs4CNgJeLuknYYm\nvY47Bbg6InYArk63+7I8InZJl0OHLr3Ba/H1OhZYFBHbA/8DnDm0WXZOxvvzorrX9JwhTbLzzqP/\nL38OAnZIl+OBrw9BTh1QOxHDRcuaiIh7IuLeAcL2BOZExP0RsRL4AXBY+dmV4jDg/HT9fODwYcyl\nLK28XvX74cfA/pI0hDl2UpXeny2JiOuBx/sJOQz4ThRuAiZK2nJoshsMFy3rjK2Bh+puz0v3daPN\nI+KRdH0+sHmTuHGSZkq6SVK3FbZWXq9nYyLiGWAJsOmQZNd5rb4/35IOlf1Y0jZDk9qw6eK/2TWD\nuIxMPnswk6RfAVv08dCpEfHToc6nbP1tb/2NiAhJzX4/sV1EPCzphcCvJd0ZEX/udK42ZH4GfD8i\nnpb0rxSjzNcPc072PEuugJ9NGsQCRmSfSRetTBFxwCAX8TBQ/z/TKem+Eam/7ZX0N0lbRsQj6XDJ\no02W8XD6935J1wK7At1StFp5vWox8yStC2wEPDY06XXcgNsbEfXbdg7w+SHIazh11d9sTUQM5kda\nI5YPDw69W4AdJL1A0hjgbUDXnVGXzACOTtePBp430pS0saSx6fok4DXAH4csw8Fr5fWq3w//BPw6\nuvdX+wNub8P3OYcC9wxhfsNhBvDOdBbh3sCSusPiNtQiwpcOXYB/pDje/TTwN+CKdP9WwOV1cQcD\nf6IYbZw63HkPYns3pThr8D7gV8Am6f5pwDnp+quBO4E/pH+PHe6829jO571ewOnAoen6OOBHwBzg\nZuCFw51zydv7X8Dd6TW9BthxuHMe5PZ+H3gEWJX+fo8FTgBOSI+L4ozKP6f38LThzrmXL27jZGZm\nXcOHB83MrGu4aJmZWddw0TIzs67homVmZl3DRcvMzLqGi5aZmXUNFy0zM+saLlo9RtJUScsl3Vk3\nH9J8SQ/X3R5T4vo/IOkeSReWtY4WcjhN0kmSxqftXZm6dTTG1eYBu0vSjyStV3ZOZS2/bj03DrT+\nWoykiZLe28Y6xku6Lk1z0ixmjKTrU9srs5a5aPWmP0fEzpHmQwK+AfxPPDc/0sr64NS+plPvlfcC\nb4iIo1oJ7vC61xIRy9P2/7VJSG0esJcDKym6JIwI7e6XiHh1RsxEitcr17uBiyOi6fwW6T12NfDW\nNpZvPcxFy/qURmT3SvoOxeSW20i6VNIsFbMzH18Xd4+kb6X7r0z/015f0mWS/pBGKm+V9A3ghcAv\nJH0oPf/D6fG7JH2wybr3lTRb0nmS/iTpQkkHSPqtilmT96zL+x2Sbk4jpG/W/rcv6dT03BuAl7Sx\nS34DbN/XdvW37rQtd9XFnCTptP5y6muftPGazE776R4V04eslx5bVre8ZuuvxZwBvChtzxcknd6Q\nz+ckndjHvjqKuj6Ukk6W9F1JV0iaWzeivDTFmrVuuPtI+TK0F2AqcFfDfacBJ/URtwbYu+6+Wm/B\n8RQfmpumuGeAXdJjPwTeAbwF+FbdczdK/z4ITErXd6fo5bY+MIGin92ujeuuW8fOFP/RmgWcS9ET\n7jDg0hT3UoppM0an218D3lm3nvWADSl6BJ5Ul9uzOTXsg2Xp33UpPoTf0892NVv3WvsbOCnt7z5z\narZP2nhNAnhNeuzc2vbWbVPTfVIX05j7VODWdH0dil58mzbsszHA/Ib7LqCYvmQUxey/d6T7RwEL\nhvtvwpfuunikZf2ZG8VMrTUfkPQH4CaKqRp2SPc/EBG3p+uzKD7c7gTeIOlMSftGxJI+lr8PcElE\nPBkRy4CLgX2brPuBiLgzItZQfJBfHRGR1jM1xexP8WF8i6Tb0+0XpmVeEhFPRcQTtN5Vf3xazkzg\nL8D/9bNdzdbdTLOc+tsnfe2XZq/JQxHx23T9grTcVtbfVEQ8CDwmaVfg74HbYu1pSgAmAYsb7tsZ\nOD2Kw4WrSbMEp9srJW0w0LrNavwlqPXnydoVSfsBBwCvioinVMyLNS49/HTdc1YD4yPiT5J2o+gY\n/llJV0fE6e2su491rKm7vYbn3scCzo+Ij9U/sf6QVqbad171mm1Xs3VPYe3D8OMYnFZfk8ZO2J3q\njH0OcAzFxKDn9vH48rockDQamBzPTfr5CorCXzMWWNGh3KwHeKRlrdoIWJQ+HHcE9u4vWNJWwFMR\ncQHwBWC3PsJ+AxwuaT1J61NM7fKbQeR4NfBPkjZLOWwiaTvg+rSe8el/9W9qdwX9bFezdf8N2EzS\npirmFTskxTfLKWef9PeabCvpVen6kcANDc9tZZ8sBRpHQZcABwJ7AFc0PiEiFgGjJNUK10tYe76t\nXSimNEHSpsDCiFjVZPvMnscjLWvVL4ETJN0D3EtxOKo/OwNfkLSGYp6i9zQGRMStks6jmIMKijm4\nbpM0tZ0EI+KPkj4OXKnizLpVwPsi4iZJF1F8WD5KMdFhu/rcrn7WPVfS6RTb+DAwO8Xf2ldOzfZJ\nk1z6e03uBd4n6VyKSTe/Xv/EZutviHksnexyF/CLiPhIRKyUdA2wOJqfHXglxeHIX6X9dUfdY7sA\nl6Xrr6u7btYSz6fVY1JB+HkUp3EbIOlBion9Fg53Lp1Q5mucCvKtwBERcV+TmN2AD0XEv/Tx2Bxg\n54hYLuli4JSI+FOn87Tq8uHB3rMa2CidLNDT0qGx24HRFN+NWT8k7URxluHVzQoWFKM44Bo1/LhY\n0kRgZSpYYyjO+nTBsiweaZmZWdfwSMvMzLqGi5aZmXUNFy0zM+saLlpmZtY1XLTMzKxruGiZmVnX\ncNEyM7Ou8f8BiCet8kaHY8EAAAAASUVORK5CYII=\n",
      "text/plain": [
       "<matplotlib.figure.Figure at 0x7fa8adb49c50>"
      ]
     },
     "metadata": {},
     "output_type": "display_data"
    }
   ],
   "source": [
    "plot_correlations(\n",
    "    get_correlations(images_test[:10000], yhat_baseline[:10000]),\n",
    "    extent=[-1.25, 1.25, -1.25, 1.25],\n",
    "    title='Correlation between pixels \\n and the Baseline prediction'\n",
    ")"
   ]
  },
  {
   "cell_type": "code",
   "execution_count": 126,
   "metadata": {},
   "outputs": [],
   "source": [
    "def plot_output_vs_kin(kin, output, xlabel, ylabel, nbins=30):\n",
    "    '''\n",
    "    Plot one output of the discriminator network vs. one of the 1D physics variables that describe jets\n",
    "    Args:\n",
    "    -----\n",
    "        kin : numpy array, kinematic property (such as mass or pT) associated with each image. I.e.: discrete_mass(np.squeeze(generated_images))\n",
    "        output : numpy array, one of the 2 outputs of the discriminator, evaluated on the same images that `kin` refers to\n",
    "        xlabel : string, x-axis label that describes the meaning of `kin`\n",
    "        ylabel : string, y-axis label that describes the meaning og `output`\n",
    "        outname : name of the output file, to be placed in ../plots/\n",
    "        nbins : (default = 30) number of bins to use to represent the distributions in a discretized way\n",
    "    \n",
    "    '''\n",
    "    # set the colormap\n",
    "    plt.set_cmap('jet')\n",
    "    # draw a 2d histogram of the discriminator's output versus the kinematic variable of choice (mass, pT, etc.)\n",
    "    h, binx, biny, _ = plt.hist2d(kin, output.reshape(-1,), bins=nbins)\n",
    "    plt.clf() # we don't want to plot this 2D histogram, we want to normalize it per bin first\n",
    "    \n",
    "    # normalize the histogram such that the entries in each column add up to 1, such that the intensity\n",
    "    # of each corresponds to the percentage of the jets in a given mass (or pT) bin that get assigned a p\n",
    "    for i in range(nbins):\n",
    "        h[i, :] = h[i, :] / float(np.sum(h[i, :]))\n",
    "    # plot the normalized histogram as an image\n",
    "    f, ax2 = plt.subplots(figsize=(6, 6))\n",
    "    im = ax2.imshow(\n",
    "        np.flipud(h.T), \n",
    "        interpolation='nearest',\n",
    "        norm=LogNorm(),\n",
    "        extent=[binx.min(), binx.max(), biny.min(), biny.max()],\n",
    "        aspect=\"auto\"\n",
    "    )\n",
    "    plt.xlabel(xlabel)\n",
    "    plt.ylabel(ylabel)\n",
    "    # add a custom colorbar\n",
    "    cax = f.add_axes([0.93, 0.1, 0.03, 0.8])\n",
    "    plt.colorbar(im, cax = cax)"
   ]
  },
  {
   "cell_type": "markdown",
   "metadata": {},
   "source": [
    "### Mass"
   ]
  },
  {
   "cell_type": "code",
   "execution_count": 170,
   "metadata": {},
   "outputs": [
    {
     "data": {
      "text/plain": [
       "<matplotlib.figure.Figure at 0x7fa8ac93cc90>"
      ]
     },
     "metadata": {},
     "output_type": "display_data"
    },
    {
     "data": {
      "image/png": "iVBORw0KGgoAAAANSUhEUgAAAbsAAAF/CAYAAADQEGe8AAAABHNCSVQICAgIfAhkiAAAAAlwSFlz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\n6jNtAAAAAElFTkSuQmCC\n",
      "text/plain": [
       "<matplotlib.figure.Figure at 0x7fa8ac18bb50>"
      ]
     },
     "metadata": {},
     "output_type": "display_data"
    }
   ],
   "source": [
    "plot_output_vs_kin(\n",
    "    scaler.inverse_transform(features_test)[:, 0], # mass\n",
    "    yhat_cnn,\n",
    "    xlabel='Discrete jet image mass (GeV)',\n",
    "    ylabel='P(signal)',\n",
    ")"
   ]
  },
  {
   "cell_type": "code",
   "execution_count": 128,
   "metadata": {},
   "outputs": [
    {
     "data": {
      "text/plain": [
       "<matplotlib.figure.Figure at 0x7fa8ad8b65d0>"
      ]
     },
     "metadata": {},
     "output_type": "display_data"
    },
    {
     "data": {
      "image/png": "iVBORw0KGgoAAAANSUhEUgAAAbsAAAF/CAYAAADQEGe8AAAABHNCSVQICAgIfAhkiAAAAAlwSFlz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\nUVlYF5m/vwAAAABJRU5ErkJggg==\n",
      "text/plain": [
       "<matplotlib.figure.Figure at 0x7fa8adaec490>"
      ]
     },
     "metadata": {},
     "output_type": "display_data"
    }
   ],
   "source": [
    "plot_output_vs_kin(\n",
    "    scaler.inverse_transform(features_test)[:, 0], # mass\n",
    "    yhat_lcn,\n",
    "    xlabel='Discrete jet image mass (GeV)',\n",
    "    ylabel='P(signal)',\n",
    ")"
   ]
  },
  {
   "cell_type": "code",
   "execution_count": 129,
   "metadata": {},
   "outputs": [
    {
     "data": {
      "text/plain": [
       "<matplotlib.figure.Figure at 0x7fa8ad7b3390>"
      ]
     },
     "metadata": {},
     "output_type": "display_data"
    },
    {
     "data": {
      "image/png": "iVBORw0KGgoAAAANSUhEUgAAAbsAAAF/CAYAAADQEGe8AAAABHNCSVQICAgIfAhkiAAAAAlwSFlz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\nkexpshMRkexpshMRkexpshMRkez9f284JsOc2DDkAAAAAElFTkSuQmCC\n",
      "text/plain": [
       "<matplotlib.figure.Figure at 0x7fa8ada8ef50>"
      ]
     },
     "metadata": {},
     "output_type": "display_data"
    }
   ],
   "source": [
    "plot_output_vs_kin(\n",
    "    scaler.inverse_transform(features_test)[:, 0], # mass\n",
    "    yhat_dense,\n",
    "    xlabel='Discrete jet image mass (GeV)',\n",
    "    ylabel='P(signal)',\n",
    ")"
   ]
  },
  {
   "cell_type": "code",
   "execution_count": 130,
   "metadata": {},
   "outputs": [
    {
     "data": {
      "text/plain": [
       "<matplotlib.figure.Figure at 0x7fa8ad7de190>"
      ]
     },
     "metadata": {},
     "output_type": "display_data"
    },
    {
     "data": {
      "image/png": "iVBORw0KGgoAAAANSUhEUgAAAbsAAAF/CAYAAADQEGe8AAAABHNCSVQICAgIfAhkiAAAAAlwSFlz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\nERHJngY7ERHJngY7ERHJngY7ERHJ3v8HIacHtUAQWf8AAAAASUVORK5CYII=\n",
      "text/plain": [
       "<matplotlib.figure.Figure at 0x7fa8ad768050>"
      ]
     },
     "metadata": {},
     "output_type": "display_data"
    }
   ],
   "source": [
    "plot_output_vs_kin(\n",
    "    scaler.inverse_transform(features_test)[:, 0], # mass\n",
    "    yhat_baseline,\n",
    "    xlabel='Discrete jet image mass (GeV)',\n",
    "    ylabel='P(signal)',\n",
    ")"
   ]
  },
  {
   "cell_type": "markdown",
   "metadata": {},
   "source": [
    "### Tau_21"
   ]
  },
  {
   "cell_type": "code",
   "execution_count": 131,
   "metadata": {},
   "outputs": [
    {
     "data": {
      "text/plain": [
       "<matplotlib.figure.Figure at 0x7fa8ada95050>"
      ]
     },
     "metadata": {},
     "output_type": "display_data"
    },
    {
     "data": {
      "image/png": "iVBORw0KGgoAAAANSUhEUgAAAbsAAAGDCAYAAACyQL7eAAAABHNCSVQICAgIfAhkiAAAAAlwSFlz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\n",
      "text/plain": [
       "<matplotlib.figure.Figure at 0x7fa8ad6b2710>"
      ]
     },
     "metadata": {},
     "output_type": "display_data"
    }
   ],
   "source": [
    "plot_output_vs_kin(\n",
    "    scaler.inverse_transform(features_test)[:, 1], # tau21\n",
    "    yhat_cnn,\n",
    "    xlabel=r'Discrete jet $\\tau_{21}$',\n",
    "    ylabel='P(signal)',\n",
    ")"
   ]
  },
  {
   "cell_type": "code",
   "execution_count": 132,
   "metadata": {},
   "outputs": [
    {
     "data": {
      "text/plain": [
       "<matplotlib.figure.Figure at 0x7fa8adb21310>"
      ]
     },
     "metadata": {},
     "output_type": "display_data"
    },
    {
     "data": {
      "image/png": "iVBORw0KGgoAAAANSUhEUgAAAbsAAAGDCAYAAACyQL7eAAAABHNCSVQICAgIfAhkiAAAAAlwSFlz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\nAElFTkSuQmCC\n",
      "text/plain": [
       "<matplotlib.figure.Figure at 0x7fa8ad606890>"
      ]
     },
     "metadata": {},
     "output_type": "display_data"
    }
   ],
   "source": [
    "plot_output_vs_kin(\n",
    "    scaler.inverse_transform(features_test)[:, 1], # tau21\n",
    "    yhat_lcn,\n",
    "    xlabel=r'Discrete jet $\\tau_{21}$',\n",
    "    ylabel='P(signal)',\n",
    ")"
   ]
  },
  {
   "cell_type": "code",
   "execution_count": 133,
   "metadata": {},
   "outputs": [
    {
     "data": {
      "text/plain": [
       "<matplotlib.figure.Figure at 0x7fa8ad727e90>"
      ]
     },
     "metadata": {},
     "output_type": "display_data"
    },
    {
     "data": {
      "image/png": "iVBORw0KGgoAAAANSUhEUgAAAbsAAAGDCAYAAACyQL7eAAAABHNCSVQICAgIfAhkiAAAAAlwSFlz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\nTkSuQmCC\n",
      "text/plain": [
       "<matplotlib.figure.Figure at 0x7fa8ad373150>"
      ]
     },
     "metadata": {},
     "output_type": "display_data"
    }
   ],
   "source": [
    "plot_output_vs_kin(\n",
    "    scaler.inverse_transform(features_test)[:, 1], # tau21\n",
    "    yhat_dense,\n",
    "    xlabel=r'Discrete jet $\\tau_{21}$',\n",
    "    ylabel='P(signal)',\n",
    ")"
   ]
  },
  {
   "cell_type": "code",
   "execution_count": 134,
   "metadata": {},
   "outputs": [
    {
     "data": {
      "text/plain": [
       "<matplotlib.figure.Figure at 0x7fa8adc1b310>"
      ]
     },
     "metadata": {},
     "output_type": "display_data"
    },
    {
     "data": {
      "image/png": "iVBORw0KGgoAAAANSUhEUgAAAbsAAAGDCAYAAACyQL7eAAAABHNCSVQICAgIfAhkiAAAAAlwSFlz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\nwNBXTTkAAAAASUVORK5CYII=\n",
      "text/plain": [
       "<matplotlib.figure.Figure at 0x7fa8ad337450>"
      ]
     },
     "metadata": {},
     "output_type": "display_data"
    }
   ],
   "source": [
    "plot_output_vs_kin(\n",
    "    scaler.inverse_transform(features_test)[:, 1], # tau21\n",
    "    yhat_baseline,\n",
    "    xlabel=r'Discrete jet $\\tau_{21}$',\n",
    "    ylabel='P(signal)',\n",
    ")"
   ]
  },
  {
   "cell_type": "markdown",
   "metadata": {},
   "source": [
    "### Delta R"
   ]
  },
  {
   "cell_type": "code",
   "execution_count": 135,
   "metadata": {},
   "outputs": [
    {
     "name": "stderr",
     "output_type": "stream",
     "text": [
      "/home/lukedeo/.venvwrp/micky-nb/lib/python2.7/site-packages/ipykernel_launcher.py:23: RuntimeWarning: invalid value encountered in divide\n"
     ]
    },
    {
     "data": {
      "text/plain": [
       "<matplotlib.figure.Figure at 0x7fa8ad58f110>"
      ]
     },
     "metadata": {},
     "output_type": "display_data"
    },
    {
     "name": "stderr",
     "output_type": "stream",
     "text": [
      "/home/lukedeo/.venvwrp/micky-nb/local/lib/python2.7/site-packages/matplotlib/colors.py:1012: RuntimeWarning: invalid value encountered in less_equal\n",
      "  mask |= resdat <= 0\n"
     ]
    },
    {
     "data": {
      "image/png": "iVBORw0KGgoAAAANSUhEUgAAAbsAAAGDCAYAAACyQL7eAAAABHNCSVQICAgIfAhkiAAAAAlwSFlz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\nSUVORK5CYII=\n",
      "text/plain": [
       "<matplotlib.figure.Figure at 0x7fa8ad398b50>"
      ]
     },
     "metadata": {},
     "output_type": "display_data"
    }
   ],
   "source": [
    "plot_output_vs_kin(\n",
    "    scaler.inverse_transform(features_test)[:, 2], # deltaR\n",
    "    yhat_cnn,\n",
    "    xlabel=r'Discrete jet $\\Delta R$',\n",
    "    ylabel='P(signal)',\n",
    ")"
   ]
  },
  {
   "cell_type": "code",
   "execution_count": 136,
   "metadata": {},
   "outputs": [
    {
     "name": "stderr",
     "output_type": "stream",
     "text": [
      "/home/lukedeo/.venvwrp/micky-nb/lib/python2.7/site-packages/ipykernel_launcher.py:23: RuntimeWarning: invalid value encountered in divide\n"
     ]
    },
    {
     "data": {
      "text/plain": [
       "<matplotlib.figure.Figure at 0x7fa8ad8aced0>"
      ]
     },
     "metadata": {},
     "output_type": "display_data"
    },
    {
     "data": {
      "image/png": "iVBORw0KGgoAAAANSUhEUgAAAbsAAAGDCAYAAACyQL7eAAAABHNCSVQICAgIfAhkiAAAAAlwSFlz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\n",
      "text/plain": [
       "<matplotlib.figure.Figure at 0x7fa8acf333d0>"
      ]
     },
     "metadata": {},
     "output_type": "display_data"
    }
   ],
   "source": [
    "plot_output_vs_kin(\n",
    "    scaler.inverse_transform(features_test)[:, 2], # deltaR\n",
    "    yhat_lcn,\n",
    "    xlabel=r'Discrete jet $\\Delta R$',\n",
    "    ylabel='P(signal)',\n",
    ")"
   ]
  },
  {
   "cell_type": "code",
   "execution_count": 137,
   "metadata": {},
   "outputs": [
    {
     "name": "stderr",
     "output_type": "stream",
     "text": [
      "/home/lukedeo/.venvwrp/micky-nb/lib/python2.7/site-packages/ipykernel_launcher.py:23: RuntimeWarning: invalid value encountered in divide\n"
     ]
    },
    {
     "data": {
      "text/plain": [
       "<matplotlib.figure.Figure at 0x7fa8ad35c910>"
      ]
     },
     "metadata": {},
     "output_type": "display_data"
    },
    {
     "data": {
      "image/png": "iVBORw0KGgoAAAANSUhEUgAAAbsAAAGDCAYAAACyQL7eAAAABHNCSVQICAgIfAhkiAAAAAlwSFlz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\n",
      "text/plain": [
       "<matplotlib.figure.Figure at 0x7fa8acf17f90>"
      ]
     },
     "metadata": {},
     "output_type": "display_data"
    }
   ],
   "source": [
    "plot_output_vs_kin(\n",
    "    scaler.inverse_transform(features_test)[:, 2], # deltaR\n",
    "    yhat_dense,\n",
    "    xlabel=r'Discrete jet $\\Delta R$',\n",
    "    ylabel='P(signal)',\n",
    ")"
   ]
  },
  {
   "cell_type": "code",
   "execution_count": 138,
   "metadata": {},
   "outputs": [
    {
     "name": "stderr",
     "output_type": "stream",
     "text": [
      "/home/lukedeo/.venvwrp/micky-nb/lib/python2.7/site-packages/ipykernel_launcher.py:23: RuntimeWarning: invalid value encountered in divide\n"
     ]
    },
    {
     "data": {
      "text/plain": [
       "<matplotlib.figure.Figure at 0x7fa8ad8ac510>"
      ]
     },
     "metadata": {},
     "output_type": "display_data"
    },
    {
     "data": {
      "image/png": "iVBORw0KGgoAAAANSUhEUgAAAbsAAAGDCAYAAACyQL7eAAAABHNCSVQICAgIfAhkiAAAAAlwSFlz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\nnSSpeRY7SVLzLHaSpOb9fxzMeFzNNSL2AAAAAElFTkSuQmCC\n",
      "text/plain": [
       "<matplotlib.figure.Figure at 0x7fa8ace0dd50>"
      ]
     },
     "metadata": {},
     "output_type": "display_data"
    }
   ],
   "source": [
    "plot_output_vs_kin(\n",
    "    scaler.inverse_transform(features_test)[:, 2], # deltaR\n",
    "    yhat_baseline,\n",
    "    xlabel=r'Discrete jet $\\Delta R$',\n",
    "    ylabel='P(signal)',\n",
    ")"
   ]
  },
  {
   "cell_type": "markdown",
   "metadata": {},
   "source": [
    "# Learn a decorrelated classifier"
   ]
  },
  {
   "cell_type": "code",
   "execution_count": 293,
   "metadata": {},
   "outputs": [],
   "source": [
    "x = Input(shape=(images_train.shape[1:]))\n",
    "h = Flatten()(x)\n",
    "h = Dense(256, activation='relu')(h)\n",
    "h = Dropout(0.2)(h)\n",
    "h = Dense(128, activation='relu')(h)\n",
    "h = Dropout(0.2)(h)\n",
    "h = Dense(64, activation='relu')(h)\n",
    "h = Dropout(0.2)(h)\n",
    "h = Dense(28, activation='relu')(h)\n",
    "h = Dropout(0.2)(h)\n",
    "y = Dense(1, activation='sigmoid', name='clf')(h)"
   ]
  },
  {
   "cell_type": "code",
   "execution_count": 239,
   "metadata": {},
   "outputs": [],
   "source": [
    "x2 = Input(shape=(1, ))\n",
    "h2 = Dense(10, activation='relu')(x2)\n",
    "y2 = Dense(1)(h2)"
   ]
  },
  {
   "cell_type": "code",
   "execution_count": 294,
   "metadata": {},
   "outputs": [],
   "source": [
    "decorr_model = Model(x, y)\n",
    "decorr_model.compile('adam', 'binary_crossentropy', metrics=['acc'])"
   ]
  },
  {
   "cell_type": "code",
   "execution_count": 230,
   "metadata": {},
   "outputs": [],
   "source": [
    "adv_model = Model(x2, y2)\n",
    "adv_model.compile('adam', 'mse')"
   ]
  },
  {
   "cell_type": "code",
   "execution_count": 295,
   "metadata": {},
   "outputs": [],
   "source": [
    "from keras.losses import mae"
   ]
  },
  {
   "cell_type": "code",
   "execution_count": 296,
   "metadata": {},
   "outputs": [],
   "source": [
    "def inv_mae(*args, **kwargs):\n",
    "    return -mae(*args, **kwargs)"
   ]
  },
  {
   "cell_type": "code",
   "execution_count": 258,
   "metadata": {},
   "outputs": [],
   "source": [
    "import tensorflow as tf\n",
    "from keras.engine import Layer\n",
    "import keras.backend as K"
   ]
  },
  {
   "cell_type": "code",
   "execution_count": 283,
   "metadata": {},
   "outputs": [],
   "source": [
    "def reverse_gradient(X, hp_lambda):\n",
    "    '''Flips the sign of the incoming gradient during training.'''\n",
    "    try:\n",
    "        reverse_gradient.num_calls += 1\n",
    "    except AttributeError:\n",
    "        reverse_gradient.num_calls = 1\n",
    "\n",
    "    grad_name = \"Gradient_Reversal_%d\" % reverse_gradient.num_calls\n",
    "\n",
    "    @tf.RegisterGradient(grad_name)\n",
    "    def _flip_gradients(op, grad):\n",
    "        return [tf.negative(grad) * hp_lambda]\n",
    "\n",
    "    g = K.get_session().graph\n",
    "    with g.gradient_override_map({'Identity': grad_name}):\n",
    "        y = tf.identity(X)\n",
    "\n",
    "    return y"
   ]
  },
  {
   "cell_type": "code",
   "execution_count": 284,
   "metadata": {},
   "outputs": [],
   "source": [
    "class GradientReversal(Layer):\n",
    "    '''Flip the sign of gradient during training.'''\n",
    "    def __init__(self, hp_lambda, **kwargs):\n",
    "        super(GradientReversal, self).__init__(**kwargs)\n",
    "        self.supports_masking = False\n",
    "        self.hp_lambda = hp_lambda\n",
    "\n",
    "    def build(self, input_shape):\n",
    "        self.trainable_weights = []\n",
    "\n",
    "    def call(self, x, mask=None):\n",
    "        return reverse_gradient(x, self.hp_lambda)\n",
    "\n",
    "    def get_output_shape_for(self, input_shape):\n",
    "        return input_shape\n",
    "\n",
    "    def get_config(self):\n",
    "        config = {'hp_lambda': self.hp_lambda}\n",
    "        base_config = super(GradientReversal, self).get_config()\n",
    "        return dict(list(base_config.items()) + list(config.items()))"
   ]
  },
  {
   "cell_type": "code",
   "execution_count": 297,
   "metadata": {},
   "outputs": [],
   "source": [
    "decorr_out = Dense(1)(GradientReversal(10.0)(Dense(10, activation='relu')(h)))\n",
    "combined_model = Model(x, [y, decorr_out])\n",
    "combined_model.compile('adam', ['binary_crossentropy', inv_mae])"
   ]
  },
  {
   "cell_type": "code",
   "execution_count": 298,
   "metadata": {},
   "outputs": [
    {
     "name": "stdout",
     "output_type": "stream",
     "text": [
      "Epoch 1/3\n",
      "96000/96000 [==============================] - 2s 23us/step - loss: 0.6734 - acc: 0.6673\n",
      "Epoch 2/3\n",
      "96000/96000 [==============================] - 1s 8us/step - loss: 0.5332 - acc: 0.7431\n",
      "Epoch 3/3\n",
      "96000/96000 [==============================] - 1s 7us/step - loss: 0.5097 - acc: 0.7609\n"
     ]
    },
    {
     "data": {
      "text/plain": [
       "<keras.callbacks.History at 0x7fa85844af10>"
      ]
     },
     "execution_count": 298,
     "metadata": {},
     "output_type": "execute_result"
    }
   ],
   "source": [
    "decorr_model.fit(\n",
    "    images_train, labels_train,\n",
    "    epochs=3,\n",
    "    batch_size=1024\n",
    ")"
   ]
  },
  {
   "cell_type": "code",
   "execution_count": 299,
   "metadata": {
    "scrolled": true
   },
   "outputs": [
    {
     "name": "stdout",
     "output_type": "stream",
     "text": [
      "Train on 96000 samples, validate on 24000 samples\n",
      "Epoch 1/60\n",
      "94720/96000 [============================>.] - ETA: 0s - loss: 0.0243 - clf_loss: 0.5741 - dense_165_loss: -0.5498Epoch 00001: val_clf_loss improved from inf to 0.52104, saving model to ./models/decorr-model.h5\n",
      "96000/96000 [==============================] - 5s 55us/step - loss: 0.0260 - clf_loss: 0.5742 - dense_165_loss: -0.5482 - val_loss: 0.1039 - val_clf_loss: 0.5210 - val_dense_165_loss: -0.4172\n",
      "Epoch 2/60\n",
      "95232/96000 [============================>.] - ETA: 0s - loss: 0.1393 - clf_loss: 0.5457 - dense_165_loss: -0.4064Epoch 00002: val_clf_loss improved from 0.52104 to 0.49285, saving model to ./models/decorr-model.h5\n",
      "96000/96000 [==============================] - 2s 18us/step - loss: 0.1392 - clf_loss: 0.5455 - dense_165_loss: -0.4063 - val_loss: 0.0932 - val_clf_loss: 0.4928 - val_dense_165_loss: -0.3997\n",
      "Epoch 3/60\n",
      "95232/96000 [============================>.] - ETA: 0s - loss: 0.1424 - clf_loss: 0.5257 - dense_165_loss: -0.3833Epoch 00003: val_clf_loss improved from 0.49285 to 0.48247, saving model to ./models/decorr-model.h5\n",
      "96000/96000 [==============================] - 2s 19us/step - loss: 0.1422 - clf_loss: 0.5256 - dense_165_loss: -0.3834 - val_loss: 0.0884 - val_clf_loss: 0.4825 - val_dense_165_loss: -0.3940\n",
      "Epoch 4/60\n",
      "91648/96000 [===========================>..] - ETA: 0s - loss: 0.1481 - clf_loss: 0.5154 - dense_165_loss: -0.3674Epoch 00004: val_clf_loss did not improve\n",
      "96000/96000 [==============================] - 2s 16us/step - loss: 0.1493 - clf_loss: 0.5161 - dense_165_loss: -0.3668 - val_loss: 0.1058 - val_clf_loss: 0.4888 - val_dense_165_loss: -0.3830\n",
      "Epoch 5/60\n",
      "93696/96000 [============================>.] - ETA: 0s - loss: 0.1532 - clf_loss: 0.5097 - dense_165_loss: -0.3565Epoch 00005: val_clf_loss improved from 0.48247 to 0.46725, saving model to ./models/decorr-model.h5\n",
      "96000/96000 [==============================] - 1s 15us/step - loss: 0.1537 - clf_loss: 0.5099 - dense_165_loss: -0.3562 - val_loss: 0.0779 - val_clf_loss: 0.4673 - val_dense_165_loss: -0.3894\n",
      "Epoch 6/60\n",
      "93696/96000 [============================>.] - ETA: 0s - loss: 0.1560 - clf_loss: 0.5041 - dense_165_loss: -0.3481Epoch 00006: val_clf_loss did not improve\n",
      "96000/96000 [==============================] - 1s 16us/step - loss: 0.1565 - clf_loss: 0.5046 - dense_165_loss: -0.3481 - val_loss: 0.0905 - val_clf_loss: 0.4681 - val_dense_165_loss: -0.3776\n",
      "Epoch 7/60\n",
      "92672/96000 [===========================>..] - ETA: 0s - loss: 0.1606 - clf_loss: 0.5043 - dense_165_loss: -0.3437Epoch 00007: val_clf_loss did not improve\n",
      "96000/96000 [==============================] - 2s 18us/step - loss: 0.1609 - clf_loss: 0.5046 - dense_165_loss: -0.3438 - val_loss: 0.0895 - val_clf_loss: 0.4675 - val_dense_165_loss: -0.3780\n",
      "Epoch 8/60\n",
      "92672/96000 [===========================>..] - ETA: 0s - loss: 0.1581 - clf_loss: 0.4981 - dense_165_loss: -0.3400Epoch 00008: val_clf_loss did not improve\n",
      "96000/96000 [==============================] - 2s 18us/step - loss: 0.1596 - clf_loss: 0.4995 - dense_165_loss: -0.3399 - val_loss: 0.1087 - val_clf_loss: 0.4677 - val_dense_165_loss: -0.3590\n",
      "Epoch 9/60\n",
      "95744/96000 [============================>.] - ETA: 0s - loss: 0.1634 - clf_loss: 0.4977 - dense_165_loss: -0.3343Epoch 00009: val_clf_loss improved from 0.46725 to 0.46591, saving model to ./models/decorr-model.h5\n",
      "96000/96000 [==============================] - 2s 17us/step - loss: 0.1632 - clf_loss: 0.4975 - dense_165_loss: -0.3343 - val_loss: 0.0830 - val_clf_loss: 0.4659 - val_dense_165_loss: -0.3830\n",
      "Epoch 10/60\n",
      "95232/96000 [============================>.] - ETA: 0s - loss: 0.1647 - clf_loss: 0.4963 - dense_165_loss: -0.3316Epoch 00010: val_clf_loss improved from 0.46591 to 0.46151, saving model to ./models/decorr-model.h5\n",
      "96000/96000 [==============================] - 2s 20us/step - loss: 0.1644 - clf_loss: 0.4960 - dense_165_loss: -0.3316 - val_loss: 0.0916 - val_clf_loss: 0.4615 - val_dense_165_loss: -0.3699\n",
      "Epoch 11/60\n",
      "92160/96000 [===========================>..] - ETA: 0s - loss: 0.1684 - clf_loss: 0.5046 - dense_165_loss: -0.3362Epoch 00011: val_clf_loss did not improve\n",
      "96000/96000 [==============================] - 2s 18us/step - loss: 0.1681 - clf_loss: 0.5048 - dense_165_loss: -0.3367 - val_loss: 0.1238 - val_clf_loss: 0.4681 - val_dense_165_loss: -0.3443\n",
      "Epoch 12/60\n",
      "95232/96000 [============================>.] - ETA: 0s - loss: -0.3153 - clf_loss: 0.6590 - dense_165_loss: -0.9743Epoch 00012: val_clf_loss did not improve\n",
      "96000/96000 [==============================] - 1s 15us/step - loss: -0.3186 - clf_loss: 0.6588 - dense_165_loss: -0.9774 - val_loss: -0.7112 - val_clf_loss: 0.5992 - val_dense_165_loss: -1.3104\n",
      "Epoch 13/60\n",
      "92672/96000 [===========================>..] - ETA: 0s - loss: -0.9532 - clf_loss: 0.5388 - dense_165_loss: -1.4920Epoch 00013: val_clf_loss did not improve\n",
      "96000/96000 [==============================] - 2s 16us/step - loss: -0.9602 - clf_loss: 0.5382 - dense_165_loss: -1.4984 - val_loss: -1.1864 - val_clf_loss: 0.4702 - val_dense_165_loss: -1.6566\n",
      "Epoch 14/60\n",
      "92672/96000 [===========================>..] - ETA: 0s - loss: -1.3222 - clf_loss: 0.4934 - dense_165_loss: -1.8156Epoch 00014: val_clf_loss improved from 0.46151 to 0.45226, saving model to ./models/decorr-model.h5\n",
      "96000/96000 [==============================] - 2s 17us/step - loss: -1.3279 - clf_loss: 0.4928 - dense_165_loss: -1.8207 - val_loss: -1.5056 - val_clf_loss: 0.4523 - val_dense_165_loss: -1.9579\n",
      "Epoch 15/60\n",
      "93696/96000 [============================>.] - ETA: 0s - loss: -1.6296 - clf_loss: 0.4772 - dense_165_loss: -2.1067Epoch 00015: val_clf_loss improved from 0.45226 to 0.44175, saving model to ./models/decorr-model.h5\n",
      "96000/96000 [==============================] - 2s 19us/step - loss: -1.6329 - clf_loss: 0.4770 - dense_165_loss: -2.1099 - val_loss: -1.7968 - val_clf_loss: 0.4418 - val_dense_165_loss: -2.2386\n",
      "Epoch 16/60\n",
      "92672/96000 [===========================>..] - ETA: 0s - loss: -1.9147 - clf_loss: 0.4656 - dense_165_loss: -2.3803Epoch 00016: val_clf_loss improved from 0.44175 to 0.43892, saving model to ./models/decorr-model.h5\n",
      "96000/96000 [==============================] - 2s 17us/step - loss: -1.9200 - clf_loss: 0.4656 - dense_165_loss: -2.3856 - val_loss: -2.0693 - val_clf_loss: 0.4389 - val_dense_165_loss: -2.5083\n",
      "Epoch 17/60\n",
      "93184/96000 [============================>.] - ETA: 0s - loss: -2.1838 - clf_loss: 0.4579 - dense_165_loss: -2.6417Epoch 00017: val_clf_loss did not improve\n",
      "96000/96000 [==============================] - 2s 16us/step - loss: -2.1876 - clf_loss: 0.4578 - dense_165_loss: -2.6453 - val_loss: -2.3187 - val_clf_loss: 0.4390 - val_dense_165_loss: -2.7576\n",
      "Epoch 18/60\n",
      "95232/96000 [============================>.] - ETA: 0s - loss: -2.4336 - clf_loss: 0.4516 - dense_165_loss: -2.8852Epoch 00018: val_clf_loss improved from 0.43892 to 0.43157, saving model to ./models/decorr-model.h5\n",
      "96000/96000 [==============================] - 2s 18us/step - loss: -2.4351 - clf_loss: 0.4515 - dense_165_loss: -2.8866 - val_loss: -2.5601 - val_clf_loss: 0.4316 - val_dense_165_loss: -2.9916\n",
      "Epoch 19/60\n",
      "94208/96000 [============================>.] - ETA: 0s - loss: -2.6660 - clf_loss: 0.4464 - dense_165_loss: -3.1124Epoch 00019: val_clf_loss improved from 0.43157 to 0.42725, saving model to ./models/decorr-model.h5\n",
      "96000/96000 [==============================] - 2s 18us/step - loss: -2.6688 - clf_loss: 0.4462 - dense_165_loss: -3.1150 - val_loss: -2.7878 - val_clf_loss: 0.4272 - val_dense_165_loss: -3.2150\n",
      "Epoch 20/60\n",
      "94208/96000 [============================>.] - ETA: 0s - loss: -2.8918 - clf_loss: 0.4406 - dense_165_loss: -3.3325Epoch 00020: val_clf_loss improved from 0.42725 to 0.42650, saving model to ./models/decorr-model.h5\n",
      "96000/96000 [==============================] - 2s 18us/step - loss: -2.8935 - clf_loss: 0.4408 - dense_165_loss: -3.3343 - val_loss: -3.0042 - val_clf_loss: 0.4265 - val_dense_165_loss: -3.4307\n",
      "Epoch 21/60\n",
      "93184/96000 [============================>.] - ETA: 0s - loss: -3.1071 - clf_loss: 0.4362 - dense_165_loss: -3.5433Epoch 00021: val_clf_loss did not improve\n",
      "96000/96000 [==============================] - 2s 17us/step - loss: -3.1112 - clf_loss: 0.4358 - dense_165_loss: -3.5470 - val_loss: -3.2097 - val_clf_loss: 0.4309 - val_dense_165_loss: -3.6407\n"
     ]
    },
    {
     "name": "stdout",
     "output_type": "stream",
     "text": [
      "Epoch 22/60\n",
      "94720/96000 [============================>.] - ETA: 0s - loss: -3.3195 - clf_loss: 0.4341 - dense_165_loss: -3.7536Epoch 00022: val_clf_loss improved from 0.42650 to 0.42260, saving model to ./models/decorr-model.h5\n",
      "96000/96000 [==============================] - 2s 17us/step - loss: -3.3205 - clf_loss: 0.4342 - dense_165_loss: -3.7547 - val_loss: -3.4237 - val_clf_loss: 0.4226 - val_dense_165_loss: -3.8463\n",
      "Epoch 23/60\n",
      "93696/96000 [============================>.] - ETA: 0s - loss: -3.5288 - clf_loss: 0.4278 - dense_165_loss: -3.9567Epoch 00023: val_clf_loss did not improve\n",
      "96000/96000 [==============================] - 2s 17us/step - loss: -3.5304 - clf_loss: 0.4281 - dense_165_loss: -3.9585 - val_loss: -3.6229 - val_clf_loss: 0.4255 - val_dense_165_loss: -4.0484\n",
      "Epoch 24/60\n",
      "94720/96000 [============================>.] - ETA: 0s - loss: -3.7324 - clf_loss: 0.4253 - dense_165_loss: -4.1577Epoch 00024: val_clf_loss did not improve\n",
      "96000/96000 [==============================] - 2s 18us/step - loss: -3.7336 - clf_loss: 0.4257 - dense_165_loss: -4.1592 - val_loss: -3.8240 - val_clf_loss: 0.4239 - val_dense_165_loss: -4.2479\n",
      "Epoch 25/60\n",
      "94208/96000 [============================>.] - ETA: 0s - loss: -3.9336 - clf_loss: 0.4223 - dense_165_loss: -4.3559Epoch 00025: val_clf_loss improved from 0.42260 to 0.42143, saving model to ./models/decorr-model.h5\n",
      "96000/96000 [==============================] - 2s 16us/step - loss: -3.9351 - clf_loss: 0.4225 - dense_165_loss: -4.3576 - val_loss: -4.0238 - val_clf_loss: 0.4214 - val_dense_165_loss: -4.4452\n",
      "Epoch 26/60\n",
      "92672/96000 [===========================>..] - ETA: 0s - loss: -4.1307 - clf_loss: 0.4199 - dense_165_loss: -4.5507Epoch 00026: val_clf_loss did not improve\n",
      "96000/96000 [==============================] - 2s 19us/step - loss: -4.1344 - clf_loss: 0.4196 - dense_165_loss: -4.5540 - val_loss: -4.2156 - val_clf_loss: 0.4252 - val_dense_165_loss: -4.6408\n",
      "Epoch 27/60\n",
      "95232/96000 [============================>.] - ETA: 0s - loss: -4.3303 - clf_loss: 0.4180 - dense_165_loss: -4.7483Epoch 00027: val_clf_loss did not improve\n",
      "96000/96000 [==============================] - 2s 17us/step - loss: -4.3311 - clf_loss: 0.4178 - dense_165_loss: -4.7489 - val_loss: -4.4120 - val_clf_loss: 0.4230 - val_dense_165_loss: -4.8350\n",
      "Epoch 28/60\n",
      "94208/96000 [============================>.] - ETA: 0s - loss: -4.5275 - clf_loss: 0.4128 - dense_165_loss: -4.9403Epoch 00028: val_clf_loss did not improve\n",
      "96000/96000 [==============================] - 2s 17us/step - loss: -4.5294 - clf_loss: 0.4132 - dense_165_loss: -4.9426 - val_loss: -4.6049 - val_clf_loss: 0.4233 - val_dense_165_loss: -5.0282\n",
      "Epoch 29/60\n",
      "93696/96000 [============================>.] - ETA: 0s - loss: -4.7216 - clf_loss: 0.4109 - dense_165_loss: -5.1325Epoch 00029: val_clf_loss did not improve\n",
      "96000/96000 [==============================] - 2s 16us/step - loss: -4.7242 - clf_loss: 0.4110 - dense_165_loss: -5.1352 - val_loss: -4.7973 - val_clf_loss: 0.4231 - val_dense_165_loss: -5.2204\n",
      "Epoch 30/60\n",
      "92672/96000 [===========================>..] - ETA: 0s - loss: -4.9170 - clf_loss: 0.4077 - dense_165_loss: -5.3247Epoch 00030: val_clf_loss did not improve\n",
      "96000/96000 [==============================] - 2s 16us/step - loss: -4.9191 - clf_loss: 0.4080 - dense_165_loss: -5.3271 - val_loss: -4.9866 - val_clf_loss: 0.4252 - val_dense_165_loss: -5.4118\n",
      "Epoch 31/60\n",
      "95232/96000 [============================>.] - ETA: 0s - loss: -5.1125 - clf_loss: 0.4046 - dense_165_loss: -5.5171Epoch 00031: val_clf_loss did not improve\n",
      "96000/96000 [==============================] - 2s 19us/step - loss: -5.1135 - clf_loss: 0.4046 - dense_165_loss: -5.5181 - val_loss: -5.1807 - val_clf_loss: 0.4220 - val_dense_165_loss: -5.6027\n",
      "Epoch 32/60\n",
      "94720/96000 [============================>.] - ETA: 0s - loss: -5.3062 - clf_loss: 0.4010 - dense_165_loss: -5.7072Epoch 00032: val_clf_loss did not improve\n",
      "96000/96000 [==============================] - 2s 17us/step - loss: -5.3079 - clf_loss: 0.4008 - dense_165_loss: -5.7088 - val_loss: -5.3709 - val_clf_loss: 0.4221 - val_dense_165_loss: -5.7930\n",
      "Epoch 33/60\n",
      "94720/96000 [============================>.] - ETA: 0s - loss: -5.4991 - clf_loss: 0.3994 - dense_165_loss: -5.8985Epoch 00033: val_clf_loss did not improve\n",
      "96000/96000 [==============================] - 2s 18us/step - loss: -5.4994 - clf_loss: 0.3995 - dense_165_loss: -5.8989 - val_loss: -5.5563 - val_clf_loss: 0.4267 - val_dense_165_loss: -5.9830\n",
      "Epoch 34/60\n",
      "92672/96000 [===========================>..] - ETA: 0s - loss: -5.6903 - clf_loss: 0.3947 - dense_165_loss: -6.0850Epoch 00034: val_clf_loss did not improve\n",
      "96000/96000 [==============================] - 2s 17us/step - loss: -5.6935 - clf_loss: 0.3952 - dense_165_loss: -6.0886 - val_loss: -5.7486 - val_clf_loss: 0.4240 - val_dense_165_loss: -6.1726\n",
      "Epoch 35/60\n",
      "93184/96000 [============================>.] - ETA: 0s - loss: -5.8835 - clf_loss: 0.3920 - dense_165_loss: -6.2754Epoch 00035: val_clf_loss did not improve\n",
      "96000/96000 [==============================] - 2s 17us/step - loss: -5.8856 - clf_loss: 0.3925 - dense_165_loss: -6.2781 - val_loss: -5.9355 - val_clf_loss: 0.4264 - val_dense_165_loss: -6.3619\n",
      "Epoch 36/60\n",
      "94720/96000 [============================>.] - ETA: 0s - loss: -6.0766 - clf_loss: 0.3898 - dense_165_loss: -6.4663Epoch 00036: val_clf_loss did not improve\n",
      "96000/96000 [==============================] - 2s 17us/step - loss: -6.0777 - clf_loss: 0.3896 - dense_165_loss: -6.4673 - val_loss: -6.1195 - val_clf_loss: 0.4315 - val_dense_165_loss: -6.5510\n",
      "Epoch 37/60\n",
      "92672/96000 [===========================>..] - ETA: 0s - loss: -6.2659 - clf_loss: 0.3879 - dense_165_loss: -6.6538Epoch 00037: val_clf_loss did not improve\n",
      "96000/96000 [==============================] - 1s 15us/step - loss: -6.2684 - clf_loss: 0.3879 - dense_165_loss: -6.6563 - val_loss: -6.3091 - val_clf_loss: 0.4308 - val_dense_165_loss: -6.7399\n",
      "Epoch 38/60\n",
      "95232/96000 [============================>.] - ETA: 0s - loss: -6.4583 - clf_loss: 0.3860 - dense_165_loss: -6.8443Epoch 00038: val_clf_loss did not improve\n",
      "96000/96000 [==============================] - 1s 15us/step - loss: -6.4592 - clf_loss: 0.3859 - dense_165_loss: -6.8451 - val_loss: -6.4991 - val_clf_loss: 0.4296 - val_dense_165_loss: -6.9287\n",
      "Epoch 39/60\n",
      "95232/96000 [============================>.] - ETA: 0s - loss: -6.6518 - clf_loss: 0.3816 - dense_165_loss: -7.0333Epoch 00039: val_clf_loss did not improve\n",
      "96000/96000 [==============================] - 2s 16us/step - loss: -6.6520 - clf_loss: 0.3817 - dense_165_loss: -7.0337 - val_loss: -6.6846 - val_clf_loss: 0.4327 - val_dense_165_loss: -7.1173\n",
      "Epoch 40/60\n",
      "94720/96000 [============================>.] - ETA: 0s - loss: -6.8425 - clf_loss: 0.3789 - dense_165_loss: -7.2214Epoch 00040: val_clf_loss did not improve\n",
      "96000/96000 [==============================] - 2s 18us/step - loss: -6.8434 - clf_loss: 0.3789 - dense_165_loss: -7.2223 - val_loss: -6.8604 - val_clf_loss: 0.4453 - val_dense_165_loss: -7.3058\n",
      "Epoch 41/60\n",
      "94208/96000 [============================>.] - ETA: 0s - loss: -7.0306 - clf_loss: 0.3774 - dense_165_loss: -7.4080Epoch 00041: val_clf_loss did not improve\n",
      "96000/96000 [==============================] - 2s 18us/step - loss: -7.0337 - clf_loss: 0.3771 - dense_165_loss: -7.4107 - val_loss: -7.0550 - val_clf_loss: 0.4392 - val_dense_165_loss: -7.4942\n",
      "Epoch 42/60\n",
      "76288/96000 [======================>.......] - ETA: 0s - loss: -7.2063 - clf_loss: 0.3723 - dense_165_loss: -7.5785"
     ]
    },
    {
     "ename": "KeyboardInterrupt",
     "evalue": "",
     "output_type": "error",
     "traceback": [
      "\u001b[0;31m---------------------------------------------------------------------------\u001b[0m",
      "\u001b[0;31mKeyboardInterrupt\u001b[0m                         Traceback (most recent call last)",
      "\u001b[0;32m<ipython-input-299-a073d90d062a>\u001b[0m in \u001b[0;36m<module>\u001b[0;34m()\u001b[0m\n\u001b[1;32m      7\u001b[0m         \u001b[0mEarlyStopping\u001b[0m\u001b[0;34m(\u001b[0m\u001b[0mverbose\u001b[0m\u001b[0;34m=\u001b[0m\u001b[0mTrue\u001b[0m\u001b[0;34m,\u001b[0m \u001b[0mpatience\u001b[0m\u001b[0;34m=\u001b[0m\u001b[0;36m30\u001b[0m\u001b[0;34m,\u001b[0m \u001b[0mmonitor\u001b[0m\u001b[0;34m=\u001b[0m\u001b[0;34m'val_clf_loss'\u001b[0m\u001b[0;34m)\u001b[0m\u001b[0;34m,\u001b[0m\u001b[0;34m\u001b[0m\u001b[0m\n\u001b[1;32m      8\u001b[0m         ModelCheckpoint('./models/decorr-model.h5', monitor='val_clf_loss',\n\u001b[0;32m----> 9\u001b[0;31m                         verbose=True, save_best_only=True)\n\u001b[0m\u001b[1;32m     10\u001b[0m     ]\n\u001b[1;32m     11\u001b[0m )\n",
      "\u001b[0;32m/home/lukedeo/.venvwrp/micky-nb/local/lib/python2.7/site-packages/keras/engine/training.pyc\u001b[0m in \u001b[0;36mfit\u001b[0;34m(self, x, y, batch_size, epochs, verbose, callbacks, validation_split, validation_data, shuffle, class_weight, sample_weight, initial_epoch, steps_per_epoch, validation_steps, **kwargs)\u001b[0m\n\u001b[1;32m   1629\u001b[0m                               \u001b[0minitial_epoch\u001b[0m\u001b[0;34m=\u001b[0m\u001b[0minitial_epoch\u001b[0m\u001b[0;34m,\u001b[0m\u001b[0;34m\u001b[0m\u001b[0m\n\u001b[1;32m   1630\u001b[0m                               \u001b[0msteps_per_epoch\u001b[0m\u001b[0;34m=\u001b[0m\u001b[0msteps_per_epoch\u001b[0m\u001b[0;34m,\u001b[0m\u001b[0;34m\u001b[0m\u001b[0m\n\u001b[0;32m-> 1631\u001b[0;31m                               validation_steps=validation_steps)\n\u001b[0m\u001b[1;32m   1632\u001b[0m \u001b[0;34m\u001b[0m\u001b[0m\n\u001b[1;32m   1633\u001b[0m     def evaluate(self, x=None, y=None,\n",
      "\u001b[0;32m/home/lukedeo/.venvwrp/micky-nb/local/lib/python2.7/site-packages/keras/engine/training.pyc\u001b[0m in \u001b[0;36m_fit_loop\u001b[0;34m(self, f, ins, out_labels, batch_size, epochs, verbose, callbacks, val_f, val_ins, shuffle, callback_metrics, initial_epoch, steps_per_epoch, validation_steps)\u001b[0m\n\u001b[1;32m   1211\u001b[0m                     \u001b[0mbatch_logs\u001b[0m\u001b[0;34m[\u001b[0m\u001b[0;34m'size'\u001b[0m\u001b[0;34m]\u001b[0m \u001b[0;34m=\u001b[0m \u001b[0mlen\u001b[0m\u001b[0;34m(\u001b[0m\u001b[0mbatch_ids\u001b[0m\u001b[0;34m)\u001b[0m\u001b[0;34m\u001b[0m\u001b[0m\n\u001b[1;32m   1212\u001b[0m                     \u001b[0mcallbacks\u001b[0m\u001b[0;34m.\u001b[0m\u001b[0mon_batch_begin\u001b[0m\u001b[0;34m(\u001b[0m\u001b[0mbatch_index\u001b[0m\u001b[0;34m,\u001b[0m \u001b[0mbatch_logs\u001b[0m\u001b[0;34m)\u001b[0m\u001b[0;34m\u001b[0m\u001b[0m\n\u001b[0;32m-> 1213\u001b[0;31m                     \u001b[0mouts\u001b[0m \u001b[0;34m=\u001b[0m \u001b[0mf\u001b[0m\u001b[0;34m(\u001b[0m\u001b[0mins_batch\u001b[0m\u001b[0;34m)\u001b[0m\u001b[0;34m\u001b[0m\u001b[0m\n\u001b[0m\u001b[1;32m   1214\u001b[0m                     \u001b[0;32mif\u001b[0m \u001b[0;32mnot\u001b[0m \u001b[0misinstance\u001b[0m\u001b[0;34m(\u001b[0m\u001b[0mouts\u001b[0m\u001b[0;34m,\u001b[0m \u001b[0mlist\u001b[0m\u001b[0;34m)\u001b[0m\u001b[0;34m:\u001b[0m\u001b[0;34m\u001b[0m\u001b[0m\n\u001b[1;32m   1215\u001b[0m                         \u001b[0mouts\u001b[0m \u001b[0;34m=\u001b[0m \u001b[0;34m[\u001b[0m\u001b[0mouts\u001b[0m\u001b[0;34m]\u001b[0m\u001b[0;34m\u001b[0m\u001b[0m\n",
      "\u001b[0;32m/home/lukedeo/.venvwrp/micky-nb/local/lib/python2.7/site-packages/keras/backend/tensorflow_backend.pyc\u001b[0m in \u001b[0;36m__call__\u001b[0;34m(self, inputs)\u001b[0m\n\u001b[1;32m   2330\u001b[0m         updated = session.run(self.outputs + [self.updates_op],\n\u001b[1;32m   2331\u001b[0m                               \u001b[0mfeed_dict\u001b[0m\u001b[0;34m=\u001b[0m\u001b[0mfeed_dict\u001b[0m\u001b[0;34m,\u001b[0m\u001b[0;34m\u001b[0m\u001b[0m\n\u001b[0;32m-> 2332\u001b[0;31m                               **self.session_kwargs)\n\u001b[0m\u001b[1;32m   2333\u001b[0m         \u001b[0;32mreturn\u001b[0m \u001b[0mupdated\u001b[0m\u001b[0;34m[\u001b[0m\u001b[0;34m:\u001b[0m\u001b[0mlen\u001b[0m\u001b[0;34m(\u001b[0m\u001b[0mself\u001b[0m\u001b[0;34m.\u001b[0m\u001b[0moutputs\u001b[0m\u001b[0;34m)\u001b[0m\u001b[0;34m]\u001b[0m\u001b[0;34m\u001b[0m\u001b[0m\n\u001b[1;32m   2334\u001b[0m \u001b[0;34m\u001b[0m\u001b[0m\n",
      "\u001b[0;32m/home/lukedeo/.venvwrp/micky-nb/local/lib/python2.7/site-packages/tensorflow/python/client/session.pyc\u001b[0m in \u001b[0;36mrun\u001b[0;34m(self, fetches, feed_dict, options, run_metadata)\u001b[0m\n\u001b[1;32m    887\u001b[0m     \u001b[0;32mtry\u001b[0m\u001b[0;34m:\u001b[0m\u001b[0;34m\u001b[0m\u001b[0m\n\u001b[1;32m    888\u001b[0m       result = self._run(None, fetches, feed_dict, options_ptr,\n\u001b[0;32m--> 889\u001b[0;31m                          run_metadata_ptr)\n\u001b[0m\u001b[1;32m    890\u001b[0m       \u001b[0;32mif\u001b[0m \u001b[0mrun_metadata\u001b[0m\u001b[0;34m:\u001b[0m\u001b[0;34m\u001b[0m\u001b[0m\n\u001b[1;32m    891\u001b[0m         \u001b[0mproto_data\u001b[0m \u001b[0;34m=\u001b[0m \u001b[0mtf_session\u001b[0m\u001b[0;34m.\u001b[0m\u001b[0mTF_GetBuffer\u001b[0m\u001b[0;34m(\u001b[0m\u001b[0mrun_metadata_ptr\u001b[0m\u001b[0;34m)\u001b[0m\u001b[0;34m\u001b[0m\u001b[0m\n",
      "\u001b[0;32m/home/lukedeo/.venvwrp/micky-nb/local/lib/python2.7/site-packages/tensorflow/python/client/session.pyc\u001b[0m in \u001b[0;36m_run\u001b[0;34m(self, handle, fetches, feed_dict, options, run_metadata)\u001b[0m\n\u001b[1;32m   1118\u001b[0m     \u001b[0;32mif\u001b[0m \u001b[0mfinal_fetches\u001b[0m \u001b[0;32mor\u001b[0m \u001b[0mfinal_targets\u001b[0m \u001b[0;32mor\u001b[0m \u001b[0;34m(\u001b[0m\u001b[0mhandle\u001b[0m \u001b[0;32mand\u001b[0m \u001b[0mfeed_dict_tensor\u001b[0m\u001b[0;34m)\u001b[0m\u001b[0;34m:\u001b[0m\u001b[0;34m\u001b[0m\u001b[0m\n\u001b[1;32m   1119\u001b[0m       results = self._do_run(handle, final_targets, final_fetches,\n\u001b[0;32m-> 1120\u001b[0;31m                              feed_dict_tensor, options, run_metadata)\n\u001b[0m\u001b[1;32m   1121\u001b[0m     \u001b[0;32melse\u001b[0m\u001b[0;34m:\u001b[0m\u001b[0;34m\u001b[0m\u001b[0m\n\u001b[1;32m   1122\u001b[0m       \u001b[0mresults\u001b[0m \u001b[0;34m=\u001b[0m \u001b[0;34m[\u001b[0m\u001b[0;34m]\u001b[0m\u001b[0;34m\u001b[0m\u001b[0m\n",
      "\u001b[0;32m/home/lukedeo/.venvwrp/micky-nb/local/lib/python2.7/site-packages/tensorflow/python/client/session.pyc\u001b[0m in \u001b[0;36m_do_run\u001b[0;34m(self, handle, target_list, fetch_list, feed_dict, options, run_metadata)\u001b[0m\n\u001b[1;32m   1315\u001b[0m     \u001b[0;32mif\u001b[0m \u001b[0mhandle\u001b[0m \u001b[0;32mis\u001b[0m \u001b[0mNone\u001b[0m\u001b[0;34m:\u001b[0m\u001b[0;34m\u001b[0m\u001b[0m\n\u001b[1;32m   1316\u001b[0m       return self._do_call(_run_fn, self._session, feeds, fetches, targets,\n\u001b[0;32m-> 1317\u001b[0;31m                            options, run_metadata)\n\u001b[0m\u001b[1;32m   1318\u001b[0m     \u001b[0;32melse\u001b[0m\u001b[0;34m:\u001b[0m\u001b[0;34m\u001b[0m\u001b[0m\n\u001b[1;32m   1319\u001b[0m       \u001b[0;32mreturn\u001b[0m \u001b[0mself\u001b[0m\u001b[0;34m.\u001b[0m\u001b[0m_do_call\u001b[0m\u001b[0;34m(\u001b[0m\u001b[0m_prun_fn\u001b[0m\u001b[0;34m,\u001b[0m \u001b[0mself\u001b[0m\u001b[0;34m.\u001b[0m\u001b[0m_session\u001b[0m\u001b[0;34m,\u001b[0m \u001b[0mhandle\u001b[0m\u001b[0;34m,\u001b[0m \u001b[0mfeeds\u001b[0m\u001b[0;34m,\u001b[0m \u001b[0mfetches\u001b[0m\u001b[0;34m)\u001b[0m\u001b[0;34m\u001b[0m\u001b[0m\n",
      "\u001b[0;32m/home/lukedeo/.venvwrp/micky-nb/local/lib/python2.7/site-packages/tensorflow/python/client/session.pyc\u001b[0m in \u001b[0;36m_do_call\u001b[0;34m(self, fn, *args)\u001b[0m\n\u001b[1;32m   1321\u001b[0m   \u001b[0;32mdef\u001b[0m \u001b[0m_do_call\u001b[0m\u001b[0;34m(\u001b[0m\u001b[0mself\u001b[0m\u001b[0;34m,\u001b[0m \u001b[0mfn\u001b[0m\u001b[0;34m,\u001b[0m \u001b[0;34m*\u001b[0m\u001b[0margs\u001b[0m\u001b[0;34m)\u001b[0m\u001b[0;34m:\u001b[0m\u001b[0;34m\u001b[0m\u001b[0m\n\u001b[1;32m   1322\u001b[0m     \u001b[0;32mtry\u001b[0m\u001b[0;34m:\u001b[0m\u001b[0;34m\u001b[0m\u001b[0m\n\u001b[0;32m-> 1323\u001b[0;31m       \u001b[0;32mreturn\u001b[0m \u001b[0mfn\u001b[0m\u001b[0;34m(\u001b[0m\u001b[0;34m*\u001b[0m\u001b[0margs\u001b[0m\u001b[0;34m)\u001b[0m\u001b[0;34m\u001b[0m\u001b[0m\n\u001b[0m\u001b[1;32m   1324\u001b[0m     \u001b[0;32mexcept\u001b[0m \u001b[0merrors\u001b[0m\u001b[0;34m.\u001b[0m\u001b[0mOpError\u001b[0m \u001b[0;32mas\u001b[0m \u001b[0me\u001b[0m\u001b[0;34m:\u001b[0m\u001b[0;34m\u001b[0m\u001b[0m\n\u001b[1;32m   1325\u001b[0m       \u001b[0mmessage\u001b[0m \u001b[0;34m=\u001b[0m \u001b[0mcompat\u001b[0m\u001b[0;34m.\u001b[0m\u001b[0mas_text\u001b[0m\u001b[0;34m(\u001b[0m\u001b[0me\u001b[0m\u001b[0;34m.\u001b[0m\u001b[0mmessage\u001b[0m\u001b[0;34m)\u001b[0m\u001b[0;34m\u001b[0m\u001b[0m\n",
      "\u001b[0;32m/home/lukedeo/.venvwrp/micky-nb/local/lib/python2.7/site-packages/tensorflow/python/client/session.pyc\u001b[0m in \u001b[0;36m_run_fn\u001b[0;34m(session, feed_dict, fetch_list, target_list, options, run_metadata)\u001b[0m\n\u001b[1;32m   1300\u001b[0m           return tf_session.TF_Run(session, options,\n\u001b[1;32m   1301\u001b[0m                                    \u001b[0mfeed_dict\u001b[0m\u001b[0;34m,\u001b[0m \u001b[0mfetch_list\u001b[0m\u001b[0;34m,\u001b[0m \u001b[0mtarget_list\u001b[0m\u001b[0;34m,\u001b[0m\u001b[0;34m\u001b[0m\u001b[0m\n\u001b[0;32m-> 1302\u001b[0;31m                                    status, run_metadata)\n\u001b[0m\u001b[1;32m   1303\u001b[0m \u001b[0;34m\u001b[0m\u001b[0m\n\u001b[1;32m   1304\u001b[0m     \u001b[0;32mdef\u001b[0m \u001b[0m_prun_fn\u001b[0m\u001b[0;34m(\u001b[0m\u001b[0msession\u001b[0m\u001b[0;34m,\u001b[0m \u001b[0mhandle\u001b[0m\u001b[0;34m,\u001b[0m \u001b[0mfeed_dict\u001b[0m\u001b[0;34m,\u001b[0m \u001b[0mfetch_list\u001b[0m\u001b[0;34m)\u001b[0m\u001b[0;34m:\u001b[0m\u001b[0;34m\u001b[0m\u001b[0m\n",
      "\u001b[0;31mKeyboardInterrupt\u001b[0m: "
     ]
    }
   ],
   "source": [
    "combined_model.fit(\n",
    "    images_train, [labels_train, features_train[:, 0]],\n",
    "    epochs=60,\n",
    "    batch_size=512,\n",
    "    validation_data=(images_val, [labels_val, features_val[:, 0]]),\n",
    "    callbacks=[\n",
    "        EarlyStopping(verbose=True, patience=30, monitor='val_clf_loss'),\n",
    "        ModelCheckpoint('./models/decorr-model.h5', monitor='val_clf_loss',\n",
    "                        verbose=True, save_best_only=True)\n",
    "    ]\n",
    ")"
   ]
  },
  {
   "cell_type": "code",
   "execution_count": 300,
   "metadata": {},
   "outputs": [],
   "source": [
    "combined_model.load_weights('models/decorr-model.h5')"
   ]
  },
  {
   "cell_type": "markdown",
   "metadata": {},
   "source": [
    "**N.B.** -- this is a very simplistic and not-so-subtle way of encouraging this. Ideally, the classifier wants the adversary to be maximally confused (i.e., no mutual information) not maximally wrong. We're going to do the naive thing here, but [this](https://github.com/glouppe/paper-learning-to-pivot/blob/master/code/Toy.ipynb) is the form that is best suited to doing this decorrelation in probabilistically correct way!"
   ]
  },
  {
   "cell_type": "code",
   "execution_count": 423,
   "metadata": {},
   "outputs": [],
   "source": [
    "adv_model.trainable = False"
   ]
  },
  {
   "cell_type": "code",
   "execution_count": 424,
   "metadata": {},
   "outputs": [],
   "source": [
    "combined_model = Model(x, [y, adv_model(y)])\n",
    "combined_model.compile('adam', ['binary_crossentropy', inv_mse])"
   ]
  },
  {
   "cell_type": "code",
   "execution_count": 425,
   "metadata": {
    "scrolled": true
   },
   "outputs": [
    {
     "name": "stdout",
     "output_type": "stream",
     "text": [
      "Epoch 1/1\n",
      "96000/96000 [==============================] - 5s 55us/step - loss: 0.5888 - acc: 0.7078\n"
     ]
    },
    {
     "data": {
      "text/plain": [
       "<keras.callbacks.History at 0x7fadfa1bccd0>"
      ]
     },
     "execution_count": 425,
     "metadata": {},
     "output_type": "execute_result"
    }
   ],
   "source": [
    "decorr_model.fit(\n",
    "    images_train, labels_train,\n",
    "    epochs=1,\n",
    "    batch_size=512,\n",
    "#     validation_data=(images_val, labels_val),\n",
    "#     callbacks=[\n",
    "#         EarlyStopping(verbose=True, patience=30, monitor='val_loss'),\n",
    "#         ModelCheckpoint('./models/dense-model.h5', monitor='val_loss',\n",
    "#                         verbose=True, save_best_only=True)\n",
    "#     ]\n",
    ")"
   ]
  },
  {
   "cell_type": "code",
   "execution_count": 426,
   "metadata": {
    "scrolled": false
   },
   "outputs": [
    {
     "name": "stdout",
     "output_type": "stream",
     "text": [
      "Epoch 1/5\n",
      "96000/96000 [==============================] - 3s 29us/step - loss: 0.9884\n",
      "Epoch 2/5\n",
      "96000/96000 [==============================] - 0s 5us/step - loss: 0.9841\n",
      "Epoch 3/5\n",
      "96000/96000 [==============================] - 0s 5us/step - loss: 0.9826\n",
      "Epoch 4/5\n",
      "96000/96000 [==============================] - 0s 5us/step - loss: 0.9820\n",
      "Epoch 5/5\n",
      "96000/96000 [==============================] - 0s 4us/step - loss: 0.9817\n",
      "Epoch 1/1\n",
      "96000/96000 [==============================] - 5s 55us/step - loss: -0.1039 - dense_140_loss: 0.5129 - model_52_loss: -0.6168\n",
      "Epoch 1/5\n",
      "96000/96000 [==============================] - 0s 5us/step - loss: 0.9987\n",
      "Epoch 2/5\n",
      "96000/96000 [==============================] - 0s 5us/step - loss: 0.9852\n",
      "Epoch 3/5\n",
      "96000/96000 [==============================] - 0s 5us/step - loss: 0.9833\n",
      "Epoch 4/5\n",
      "96000/96000 [==============================] - 0s 5us/step - loss: 0.9821\n",
      "Epoch 5/5\n",
      "96000/96000 [==============================] - 0s 4us/step - loss: 0.9811\n",
      "Epoch 1/1\n",
      "96000/96000 [==============================] - 3s 31us/step - loss: -0.1528 - dense_140_loss: 0.4867 - model_52_loss: -0.6395\n",
      "Epoch 1/5\n",
      "96000/96000 [==============================] - 0s 5us/step - loss: 0.9911\n",
      "Epoch 2/5\n",
      "96000/96000 [==============================] - 0s 5us/step - loss: 0.9356A: 0s - loss\n",
      "Epoch 3/5\n",
      "96000/96000 [==============================] - 0s 4us/step - loss: 0.9328\n",
      "Epoch 4/5\n",
      "96000/96000 [==============================] - 0s 5us/step - loss: 0.9325\n",
      "Epoch 5/5\n",
      "96000/96000 [==============================] - 0s 5us/step - loss: 0.9326\n",
      "Epoch 1/1\n",
      "96000/96000 [==============================] - 3s 32us/step - loss: -0.2202 - dense_140_loss: 0.5082 - model_52_loss: -0.7283\n",
      "Epoch 1/5\n",
      "96000/96000 [==============================] - 0s 5us/step - loss: 1.0138\n",
      "Epoch 2/5\n",
      "96000/96000 [==============================] - 0s 5us/step - loss: 0.9131\n",
      "Epoch 3/5\n",
      "96000/96000 [==============================] - 0s 5us/step - loss: 0.9098\n",
      "Epoch 4/5\n",
      "96000/96000 [==============================] - 0s 5us/step - loss: 0.9099\n",
      "Epoch 5/5\n",
      "96000/96000 [==============================] - 0s 5us/step - loss: 0.9098\n",
      "Epoch 1/1\n",
      "96000/96000 [==============================] - 3s 31us/step - loss: -0.3018 - dense_140_loss: 0.5115 - model_52_loss: -0.8133\n",
      "Epoch 1/5\n",
      "96000/96000 [==============================] - 0s 5us/step - loss: 0.9888\n",
      "Epoch 2/5\n",
      "96000/96000 [==============================] - 0s 5us/step - loss: 0.8248\n",
      "Epoch 3/5\n",
      "96000/96000 [==============================] - 0s 5us/step - loss: 0.8177\n",
      "Epoch 4/5\n",
      "96000/96000 [==============================] - 0s 4us/step - loss: 0.8172\n",
      "Epoch 5/5\n",
      "96000/96000 [==============================] - 0s 5us/step - loss: 0.8171\n",
      "Epoch 1/1\n",
      "96000/96000 [==============================] - 3s 30us/step - loss: -0.3153 - dense_140_loss: 0.5469 - model_52_loss: -0.8622\n",
      "Epoch 1/5\n",
      "96000/96000 [==============================] - 0s 5us/step - loss: 1.0627\n",
      "Epoch 2/5\n",
      "96000/96000 [==============================] - 0s 4us/step - loss: 0.8783\n",
      "Epoch 3/5\n",
      "96000/96000 [==============================] - 0s 5us/step - loss: 0.8673\n",
      "Epoch 4/5\n",
      "96000/96000 [==============================] - 0s 5us/step - loss: 0.8668\n",
      "Epoch 5/5\n",
      "96000/96000 [==============================] - 0s 5us/step - loss: 0.8668\n",
      "Epoch 1/1\n",
      "96000/96000 [==============================] - 3s 31us/step - loss: -0.3628 - dense_140_loss: 0.5293 - model_52_loss: -0.8922\n",
      "Epoch 1/5\n",
      "96000/96000 [==============================] - 0s 5us/step - loss: 1.0193\n",
      "Epoch 2/5\n",
      "96000/96000 [==============================] - 0s 4us/step - loss: 0.7831\n",
      "Epoch 3/5\n",
      "96000/96000 [==============================] - 0s 5us/step - loss: 0.7738\n",
      "Epoch 4/5\n",
      "96000/96000 [==============================] - 0s 5us/step - loss: 0.7732\n",
      "Epoch 5/5\n",
      "96000/96000 [==============================] - 0s 5us/step - loss: 0.7730\n",
      "Epoch 1/1\n",
      "96000/96000 [==============================] - 3s 31us/step - loss: -0.3486 - dense_140_loss: 0.5475 - model_52_loss: -0.8960\n",
      "Epoch 1/5\n",
      "96000/96000 [==============================] - 0s 5us/step - loss: 1.1013\n",
      "Epoch 2/5\n",
      "96000/96000 [==============================] - 0s 4us/step - loss: 0.8671\n",
      "Epoch 3/5\n",
      "96000/96000 [==============================] - 0s 5us/step - loss: 0.8539\n",
      "Epoch 4/5\n",
      "96000/96000 [==============================] - 0s 4us/step - loss: 0.8534\n",
      "Epoch 5/5\n",
      "96000/96000 [==============================] - 0s 5us/step - loss: 0.8534\n",
      "Epoch 1/1\n",
      "96000/96000 [==============================] - 3s 31us/step - loss: -0.3669 - dense_140_loss: 0.5174 - model_52_loss: -0.8843\n",
      "Epoch 1/5\n",
      "96000/96000 [==============================] - 0s 5us/step - loss: 1.0223\n",
      "Epoch 2/5\n",
      "96000/96000 [==============================] - 0s 4us/step - loss: 0.7751\n",
      "Epoch 3/5\n",
      "96000/96000 [==============================] - 0s 5us/step - loss: 0.7610\n",
      "Epoch 4/5\n",
      "96000/96000 [==============================] - 0s 4us/step - loss: 0.7596\n",
      "Epoch 5/5\n",
      "96000/96000 [==============================] - 0s 4us/step - loss: 0.7594\n",
      "Epoch 1/1\n",
      "96000/96000 [==============================] - 3s 31us/step - loss: -0.3891 - dense_140_loss: 0.5597 - model_52_loss: -0.9488\n",
      "Epoch 1/5\n",
      "96000/96000 [==============================] - 0s 5us/step - loss: 1.1088\n",
      "Epoch 2/5\n",
      "96000/96000 [==============================] - 0s 5us/step - loss: 0.8413\n",
      "Epoch 3/5\n",
      "96000/96000 [==============================] - 0s 5us/step - loss: 0.8302\n",
      "Epoch 4/5\n",
      "96000/96000 [==============================] - 0s 5us/step - loss: 0.8300\n",
      "Epoch 5/5\n",
      "96000/96000 [==============================] - 0s 4us/step - loss: 0.8301\n",
      "Epoch 1/1\n",
      "96000/96000 [==============================] - 3s 30us/step - loss: -0.3845 - dense_140_loss: 0.5154 - model_52_loss: -0.8999\n"
     ]
    }
   ],
   "source": [
    "for _ in range(10):\n",
    "    adv_model.fit(\n",
    "        decorr_model.predict(images_train), features_train[:, 0], # mass\n",
    "        epochs=5,\n",
    "        batch_size=512\n",
    "    )\n",
    "    combined_model.fit(\n",
    "        images_train, [labels_train, features_train[:, 0]], # mass\n",
    "        epochs=1,\n",
    "        batch_size=512\n",
    "    )"
   ]
  },
  {
   "cell_type": "code",
   "execution_count": 301,
   "metadata": {},
   "outputs": [],
   "source": [
    "yhat_decorr = combined_model.predict(images_test)[0]"
   ]
  },
  {
   "cell_type": "code",
   "execution_count": 302,
   "metadata": {},
   "outputs": [
    {
     "data": {
      "text/plain": [
       "<matplotlib.figure.Figure at 0x7fa859356c50>"
      ]
     },
     "metadata": {},
     "output_type": "display_data"
    },
    {
     "data": {
      "image/png": "iVBORw0KGgoAAAANSUhEUgAAAbsAAAF/CAYAAADQEGe8AAAABHNCSVQICAgIfAhkiAAAAAlwSFlz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\nIqWnZiciIqWnZiciIqX3/wESuCRDEGBfLAAAAABJRU5ErkJggg==\n",
      "text/plain": [
       "<matplotlib.figure.Figure at 0x7fa858db75d0>"
      ]
     },
     "metadata": {},
     "output_type": "display_data"
    }
   ],
   "source": [
    "plot_output_vs_kin(\n",
    "    scaler.inverse_transform(features_test)[:, 0], # mass\n",
    "    yhat_decorr,\n",
    "    xlabel='Discrete jet image mass (GeV)',\n",
    "    ylabel='P(signal)',\n",
    ")"
   ]
  },
  {
   "cell_type": "code",
   "execution_count": 303,
   "metadata": {},
   "outputs": [
    {
     "data": {
      "image/png": "iVBORw0KGgoAAAANSUhEUgAAAYQAAAD8CAYAAAB3u9PLAAAABHNCSVQICAgIfAhkiAAAAAlwSFlz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\nQmCC\n",
      "text/plain": [
       "<matplotlib.figure.Figure at 0x7fa840d3f9d0>"
      ]
     },
     "metadata": {},
     "output_type": "display_data"
    }
   ],
   "source": [
    "_ = plt.hist(scaler.inverse_transform(features_test)[labels_test==0, 0],\n",
    "            bins =np.linspace(60, 100, 20), histtype='step', normed=True)\n",
    "_ = plt.hist(scaler.inverse_transform(features_test)[np.logical_and(labels_test==0, yhat_cnn.ravel()>0.5), 0],\n",
    "            bins=np.linspace(60, 100, 20), histtype='step', normed=True)"
   ]
  },
  {
   "cell_type": "code",
   "execution_count": 304,
   "metadata": {},
   "outputs": [
    {
     "data": {
      "image/png": "iVBORw0KGgoAAAANSUhEUgAAAYQAAAD9CAYAAAC85wBuAAAABHNCSVQICAgIfAhkiAAAAAlwSFlz\nAAALEgAACxIB0t1+/AAAADl0RVh0U29mdHdhcmUAbWF0cGxvdGxpYiB2ZXJzaW9uIDIuMS4wLCBo\ndHRwOi8vbWF0cGxvdGxpYi5vcmcvpW3flQAAGaZJREFUeJzt3X+QXXd93vH3UymWjYBVEDJD9AMp\nlRrHNlMabwQtkBlQ7IiQsE4jjwU0qDNqNCnRtCHDDOIPPIsHOhbTxi2xSkcgg1HHkV21bjeDjA0V\nKYUBRSswyLKtZi0LaxcDki2WGCKM7Kd/nK/I5XJX9+zu3XtXu89rZmfP+Z7vOfu5Z67Oo/NbtomI\niPgHvS4gIiJmhwRCREQACYSIiCgSCBERASQQIiKiSCBERARQMxAkbZR0XNKIpB0tpi+SdE+ZfkjS\n6qbpqyQ9K+m9DW0nJR2V9JCk4el+kIiImJ62gSBpAbALeAtwNfB2SVc3ddsKnLW9Frgd2Nk0/c+A\n+1ss/k22X2O7f9KVR0RER9XZQ1gPjNg+Yfs5YB8w0NRnALirDO8HNkgSgKQbgSeAY50pOSIiZkKd\nQFgOnGoYHy1tLfvYPg+MA0slvRh4H/DBFss18KCkI5K2TbbwiIjorIUzvPxB4Hbbz5YdhkZvsD0m\n6Urgc5Ies/3F5k4lLLYBLF68+LqrrrpqhkuOiJhbjhw5csb2snb96gTCGLCyYXxFaWvVZ1TSQqAP\neBp4LbBJ0keAJcALks7ZvsP2GIDt70m6j+rQ1M8Fgu3dwG6A/v5+Dw/n/HNExGRI+ladfnUOGR0G\n1klaI+kyYDMw1NRnCNhShjcBB115o+3VtlcD/xH4d7bvkLRY0ktKoYuBG4CH6xQcEREzo+0egu3z\nkrYDDwALgDttH5N0KzBsewjYA+yVNAI8QxUaF/MK4L5yGGkhcLftz07jc0RExDTpUnr8dQ4ZRURM\nnqQjdS7vz53KEREBJBAiIqJIIEREBJBAiIiIIoEQERFAAiEiIoqZfnRFROX2V8P4k737+32r4D1H\ne/f3Iy4BCYTojvEnYXC8d39/sK93fzviEpFDRhERASQQIiKiSCBERASQQIiIiCKBEBERQAIhIiKK\nBEJERAA1A0HSRknHJY1I2tFi+iJJ95TphyStbpq+StKzkt5bd5kREdFdbQNB0gJgF/AW4Grg7ZKu\nbuq2FThrey1wO7CzafqfAfdPcpkREdFFdfYQ1gMjtk/Yfg7YBww09RkA7irD+4ENKu/HlHQj8ARw\nbJLLjIiILqoTCMuBUw3jo6WtZR/b54FxYKmkFwPvAz44hWVGREQXzfSzjAaB220/W3YYJk3SNmAb\nwKpVqzpXWcRkTPfhfHm4XlwC6gTCGLCyYXxFaWvVZ1TSQqAPeBp4LbBJ0keAJcALks4BR2osEwDb\nu4HdAP39/a5Rb0TnTffhfHm4XlwC6gTCYWCdpDVUG+3NwDua+gwBW4CvAJuAg7YNvPFCB0mDwLO2\n7yih0W6ZERHRRW0DwfZ5SduBB4AFwJ22j0m6FRi2PQTsAfZKGgGeodrAT3qZ0/wsERExDbXOIdg+\nABxoarulYfgccFObZQy2W2ZERPRO7lSOiAgggRAREUVeoRnzQ9+q6V3p05dLnmPuSyDE/JB7ACLa\nyiGjiIgAEggREVEkECIiAkggREREkZPKUU8nHu4WEbNaAiHqme7D3SJi1ssho4iIABIIERFR5JBR\nRDd04k7p3FwXMyyBENEN092Y5wU70QU5ZBQREUACISIiilqBIGmjpOOSRiTtaDF9kaR7yvRDklaX\n9vWSHio/35D0ew3znJR0tEwb7tQHioiIqWl7DkHSAmAXcD0wChyWNGT7kYZuW4GzttdK2gzsBG4G\nHgb6yyszXwl8Q9Jf2j5f5nuT7TOd/EARETE1dfYQ1gMjtk/Yfg7YBww09RkA7irD+4ENkmT7Rw0b\n/8sBd6LoiIjovDqBsBw41TA+Wtpa9ikBMA4sBZD0WknHgKPAHzUEhIEHJR2RtG2iPy5pm6RhScOn\nT5+u85kiImIKZvyyU9uHgGsk/Spwl6T7bZ8D3mB7TNKVwOckPWb7iy3m3w3sBujv75/yHsbrbzvI\n2Pf/bqqzs3zJFXx5x5unPH9ExGxXJxDGgJUN4ytKW6s+o5IWAn3A040dbD8q6VngWmDY9lhp/56k\n+6gOTf1cIHTK2Pf/jpO3vXXK86/e8ZkOVhMRMfvUOWR0GFgnaY2ky4DNwFBTnyFgSxneBBy07TLP\nQgBJrwKuAk5KWizpJaV9MXAD1QnoiIjokbZ7COUKoe3AA8AC4E7bxyTdSvU//SFgD7BX0gjwDFVo\nALwB2CHpJ8ALwLttn5H0y8B9ki7UcLftz3b6w0VERH21ziHYPgAcaGq7pWH4HHBTi/n2AntbtJ8A\n/vFki42IiJmTO5UjIgJIIERERJGnnc4XeQVmRLSRQJgv8grMiGgjgVDT8iVXTOtehNzYFhGzXQKh\npuluzHNjW0TMdgmES8R0H71x8vIOFhPdl1dwRhckEC4R0330BoMdKyV6Ia/gjC7IZacREQEkECIi\nokggREQEkECIiIgigRAREUACISIiigRCREQANe9DkLQR+E9UL8j5hO3bmqYvAj4NXEf16sybbZ+U\ntJ7yPmRAwKDt++osc67pxKMvpiuP3oiIi2kbCJIWALuA64FR4LCkIduPNHTbCpy1vVbSZmAncDPV\nazH7y1vXXgl8Q9JfAq6xzDllNmxM807piLiYOoeM1gMjtk/Yfg7YBww09RkA7irD+4ENkmT7R7bP\nl/bLqYKg7jIjIqKL6gTCcuBUw/hoaWvZpwTAOLAUQNJrJR0DjgJ/VKbXWWZERHTRjJ9Utn3I9jXA\nrwPvlzSpx6xJ2iZpWNLw6dOnZ6bIiIioFQhjwMqG8RWlrWUfSQuBPqqTyz9l+1HgWeDamsu8MN9u\n2/22+5ctW1aj3IiImIo6gXAYWCdpjaTLgM3AUFOfIWBLGd4EHLTtMs9CAEmvAq4CTtZcZkREdFHb\nq4zKFULbgQeoLhG90/YxSbcCw7aHgD3AXkkjwDNUG3iANwA7JP0EeAF4t+0zAK2W2eHPFh2UN8ZF\nzH217kOwfQA40NR2S8PwOeCmFvPtBfbWXWbMXnljXMTclzuVIyICyBvTokume8ipE38/h6wiLi6B\nEF3R641xDllFtJdDRhERASQQIiKiSCBERASQQIiIiCKBEBERQAIhIiKKXHZ6qbj91TD+5NTn71vV\nuVoiYk5KIFwqxp+EwfFeVxERc1gOGUVEBJA9hIj5oW8VDPZNb/73HO1cPTErJRAi5oPpbsynEyZx\nycgho4iIAGoGgqSNko5LGpG0o8X0RZLuKdMPSVpd2q+XdETS0fL7zQ3z/FVZ5kPl58pOfaiIiJi8\ntoeMJC0AdgHXA6PAYUlDth9p6LYVOGt7raTNwE7gZuAM8Lu2vy3pWqo3pC1vmO+dtoc79FkiImIa\n6uwhrAdGbJ+w/RywDxho6jMA3FWG9wMbJMn2121/u7QfA66QtKgThUdERGfVOam8HDjVMD4KvHai\nPuUdzOPAUqo9hAt+H/ia7R83tH1S0vPAfwc+ZNuTrD+ilrwTOqK9rlxlJOkaqsNINzQ0v9P2mKSX\nUAXCHwCfbjHvNmAbwKpVuds2pibvhI5or04gjAErG8ZXlLZWfUYlLQT6gKcBJK0A7gPeZfvxCzPY\nHiu//1bS3VSHpn4uEGzvBnYD9Pf3Zw8ieiJ7GDEf1AmEw8A6SWuoNvybgXc09RkCtgBfATYBB21b\n0hLgM8AO21++0LmExhLbZyT9AvA7wOen/WkiZkj2MGI+aHtS2fZ5YDvVFUKPAvfaPibpVklvK932\nAEsljQB/Cly4NHU7sBa4peny0kXAA5K+CTxEFTQf7+QHi4iIyal1DsH2AeBAU9stDcPngJtazPch\n4EMTLPa6+mVGRMRMy53KEREBJBAiIqJIIEREBJBAiIiIIoEQERFAAiEiIoq8ICeiC3Knc1wKEggR\nXTDdjfnrbzuYQIkZl0CIuATk0RnRDTmHEBERQPYQIqKOvlUw2De9+d9ztHP1xIxIIEREe9PdmE8n\nTKJrEggR80Cucoo6EggR80BOSkcdOakcERFAzUCQtFHScUkjkna0mL5I0j1l+iFJq0v79ZKOSDpa\nfr+5YZ7rSvuIpI9KUqc+VERETF7bQ0aSFgC7gOuBUeCwpCHbjzR02wqctb1W0mZgJ3AzcAb4Xdvf\nlnQt1VvXlpd5Pgb8IXCI6uU7G4H7O/OxIqKTpnsO4uTlHSwmZkydcwjrgRHbJwAk7QMGgMZAGAAG\ny/B+4A5Jsv31hj7HgCskLQJeBrzU9lfLMj8N3EgCIWJWmvYJ5cGOlBEzrM4ho+XAqYbxUf7+f/k/\n16e8g3kcWNrU5/eBr9n+cek/2maZERHRRV25ykjSNVSHkW6YwrzbgG0Aq1at6nBlERFxQZ1AGANW\nNoyvKG2t+oxKWgj0AU8DSFoB3Ae8y/bjDf1XtFkmALZ3A7sB+vv7XaPeiJiFch/E7FcnEA4D6ySt\nodpobwbe0dRnCNgCfAXYBBy0bUlLgM8AO2x/+UJn209J+oGk11GdVH4X8OfT/jQRMWudvO2tU543\n90F0R9tzCOWcwHaqK4QeBe61fUzSrZLeVrrtAZZKGgH+FLhwaep2YC1wi6SHys+VZdq7gU8AI8Dj\n5IRyRERP1TqHYPsA1aWhjW23NAyfA25qMd+HgA9NsMxh4NrJFBsRETMnj66IiFkvz2LqjgRCt9z+\nahh/curz9+UKq5i/8iym7kggdMv4kzA43usqIiImlIfbRUQEkD2EiJgHcg6ingRCRMx5OQdRTw4Z\nRUQEkECIiIgigRAREUACISIiigRCREQACYSIiChy2WlERBvz5T6GBEJERBvT3Zi//raDl0SgJBAi\nImbYpXJjXK1zCJI2SjouaUTSjhbTF0m6p0w/JGl1aV8q6QuSnpV0R9M8f1WW2fzinIiI6IG2ewiS\nFgC7gOuBUeCwpCHbjzR02wqctb1W0mZgJ3AzcA74ANWLcFq9DOed5UU5ERET68Tj499ztHP1zFF1\nDhmtB0ZsnwCQtA8YABoDYQAYLMP7gTskyfYPgS9JWtu5kiNi3pnu4+MH+zpXyxxW55DRcuBUw/ho\naWvZp7yDeRxYWmPZnyyHiz4gSTX6R0TEDOnlfQjvtP1q4I3l5w9adZK0TdKwpOHTp093tcCIiPmk\nTiCMASsbxleUtpZ9JC0E+oCnL7ZQ22Pl998Cd1MdmmrVb7ftftv9y5Ytq1FuRERMRZ1zCIeBdZLW\nUG34NwPvaOozBGwBvgJsAg7a9kQLLKGxxPYZSb8A/A7w+SnUHxGXgr5V0zuOn3eKd0XbQLB9XtJ2\n4AFgAXCn7WOSbgWGbQ8Be4C9kkaAZ6hCAwBJJ4GXApdJuhG4AfgW8EAJgwVUYfDxjn6yJl9a9G9g\nsDnHJiFXKURMXf7tXBJq3Zhm+wBwoKntlobhc8BNE8y7eoLFXlevxM5YoTO5SiEi4iLycLuIiAAS\nCBERUSQQIiICSCBERESRQIiICCCBEBERRQIhIiKABEJERBQJhIiIABIIERFR5J3KdeXhXBExxyUQ\n6srDuSJijssho4iIABIIERFRJBAiIgJIIERERFErECRtlHRc0oikHS2mL5J0T5l+SNLq0r5U0hck\nPSvpjqZ5rpN0tMzzUUnqxAeKiIipaRsIkhYAu4C3AFcDb5d0dVO3rcBZ22uB24Gdpf0c8AHgvS0W\n/THgD4F15WfjVD5ARER0Rp09hPXAiO0Ttp8D9gEDTX0GgLvK8H5ggyTZ/qHtL1EFw09JeiXwUttf\ntW3g08CN0/kgERExPXUCYTlwqmF8tLS17GP7PDAOLG2zzNE2ywRA0jZJw5KGT58+XaPciIiYill/\nUtn2btv9tvuXLVvW63IiIuasOncqjwErG8ZXlLZWfUYlLQT6gKfbLHNFm2VGRHRGJx49Mw+eVlAn\nEA4D6yStodpobwbe0dRnCNgCfAXYBBws5wZasv2UpB9Ieh1wCHgX8OdTqD8ior3pbsynEyaXkLaB\nYPu8pO3AA8AC4E7bxyTdCgzbHgL2AHsljQDPUIUGAJJOAi8FLpN0I3CD7UeAdwOfAq4A7i8/ERHR\nI7Uebmf7AHCgqe2WhuFzwE0TzLt6gvZh4Nq6hUZExMya9SeVIyKiOxIIEREBJBAiIqJIIEREBJBA\niIiIIoEQERFAAiEiIooEQkREAAmEiIgoEggREQEkECIiokggREQEUPPhdhER89o8eZ9CAiEiop15\n8j6FHDKKiAigZiBI2ijpuKQRSTtaTF8k6Z4y/ZCk1Q3T3l/aj0v6rYb2k5KOSnpI0nAnPkxERExd\n20NGkhYAu4DrgVHgsKSh8tazC7YCZ22vlbQZ2AncLOlqqrenXQP8EvB5Sf/I9vNlvjfZPtPBzxMR\nEVNUZw9hPTBi+4Tt54B9wEBTnwHgrjK8H9ggSaV9n+0f234CGCnLi4iIWaZOICwHTjWMj5a2ln1s\nnwfGgaVt5jXwoKQjkrZNvvSIiOikXl5l9AbbY5KuBD4n6THbX2zuVMJiG8CqVau6XWNExLxRZw9h\nDFjZML6itLXsI2kh0Ac8fbF5bV/4/T3gPiY4lGR7t+1+2/3Lli2rUW5ERExFnUA4DKyTtEbSZVQn\niYea+gwBW8rwJuCgbZf2zeUqpDXAOuCvJS2W9BIASYuBG4CHp/9xIiJiqtoeMrJ9XtJ24AFgAXCn\n7WOSbgWGbQ8Be4C9kkaAZ6hCg9LvXuAR4Dzwx7afl/QK4L7qvDMLgbttf3YGPl9ERO9N807nLy16\nOfDWztUzAVX/kb809Pf3e3h4ircsDPbB4HhnC4qI6IZpbr8kHbHd365f7lSOiAgggRAREUUCISIi\ngARCREQUCYSIiAASCBERUSQQIiICSCBERESRQIiICCCBEBERRQIhIiKABEJERBQJhIiIABIIERFR\nJBAiIgKoGQiSNko6LmlE0o4W0xdJuqdMPyRpdcO095f245J+q+4yIyKiu9oGgqQFwC7gLcDVwNsl\nXd3UbStw1vZa4HZgZ5n3aqq3p10DbAT+s6QFNZcZERFdVGcPYT0wYvuE7eeAfcBAU58B4K4yvB/Y\noOr9mAPAPts/tv0EMFKWV2eZERHRRXUCYTlwqmF8tLS17GP7PDAOLL3IvHWWGRERXbSw1wW0I2kb\nsK2MPivp+BQX9XI+qDMdKquTXg6krvpS1+SkrsmZvXVNb/v1qjqd6gTCGLCyYXxFaWvVZ1TSQqAP\neLrNvO2WCYDt3cDuGnVelKThOi+Z7rbUNTmpa3JS1+TM97rqHDI6DKyTtEbSZVQniYea+gwBW8rw\nJuCgbZf2zeUqpDXAOuCvay4zIiK6qO0egu3zkrYDDwALgDttH5N0KzBsewjYA+yVNAI8Q7WBp/S7\nF3gEOA/8se3nAVots/MfLyIi6qp1DsH2AeBAU9stDcPngJsmmPfDwIfrLHOGTfuw0wxJXZOTuiYn\ndU3OvK5L1ZGdiIiY7/LoioiIAOZoIEhaImm/pMckPSrpn0p6maTPSfqb8vsXZ0ldg5LGJD1Ufn67\nB3X9SsPff0jSDyT9SS/X2UVqmg3r6z2Sjkl6WNJfSLq8XCBxqDyK5Z5yscRsqOtTkp5oWF+v6XZd\npbZ/W+o6JulPSltP/01OUFNPvl+S7pT0PUkPN7S1XD+qfLR8174p6dc6VojtOfdDddf0vyrDlwFL\ngI8AO0rbDmDnLKlrEHhvr9dZQ40LgO9QXbfc83XWoqaeri+qGyifAK4o4/cC/7L83lza/gvwr2dJ\nXZ8CNvX4O3Ut8DDwIqrzlp8H1vby+3WRmnry/QJ+A/g14OGGtpbrB/ht4H5AwOuAQ52qY87tIUjq\no1q5ewBsP2f7+/zs4zXuAm6cJXXNNhuAx21/ix6vswlqmg0WAleUe25eBDwFvJnqsS3Qu3XVXNe3\ne1BDK79KtdH6kasnGfwf4J/T2+/XRDX1hO0vUl2h2Wii9TMAfNqVrwJLJL2yE3XMuUAA1gCngU9K\n+rqkT0haDLzC9lOlz3eAV8ySugC2l12/O3txKKvJZuAvynCv19kFjTVBD9eX7THg3wNPUgXBOHAE\n+H7ZsEAPHsXSqi7bD5bJHy7r63ZJi7pZV/Ew8EZJSyW9iOp/uCvp7fdroppg9vx7nGj9zNijf+Zi\nICyk2vX6mO1/AvyQanfrp1ztd3X78qqJ6voY8A+B11D9Q/4PXa7rp8px77cB/615Wo/WWauaerq+\nygZigCrgfwlYTPUk355qVZekfwG8H7gK+HXgZcD7ul2b7UepnoD8IPBZ4CHg+aY+Xf1+XaSmWfPv\nsVG31s9cDIRRYNT2oTK+n2pD/N0Lu1Xl9/dmQ122v2v7edsvAB+nehJsr7wF+Jrt75bxXq+zn6tp\nFqyv3wSesH3a9k+A/wG8nmq3/cJ9PRM+iqXLdf0z20+VQws/Bj5Jj75ftvfYvs72bwBngf9Hj79f\nrWqaBd+vRhOtnzqPE5qSORcItr8DnJL0K6VpA9Wd0o2P19gC/K/ZUFfTsb/fo9qV7ZW387OHZnq6\nzoqfqWkWrK8ngddJepEk8fffry9QPbYFerOuWtX1aMMGRVTHoHvy/ZJ0Zfm9iupY/d30+PvVqqZZ\n8P1qNNH6GQLeVa42eh3V4cGnWi1g0rp9Nr0bP1S7e8PAN4H/Cfwi1eO4/zfwN1RXFLxsltS1Fzha\n2oaAV/ZonS2meiBhX0NbT9fZBDX1fH0BHwQeo9pY7AUWAb9M9ZyuEarDW4tmSV0Hy/p6GPivwIt7\n9P36v1TB+Q1gwyz5frWqqSffL6r/9DwF/ITqaMLWidYP1dVFu4DHS639naojdypHRAQwBw8ZRUTE\n1CQQIiICSCBERESRQIiICCCBEBERRQIhIiKABEJERBQJhIiIAOD/A5onXfI0OlgrAAAAAElFTkSu\nQmCC\n",
      "text/plain": [
       "<matplotlib.figure.Figure at 0x7fa857e36d50>"
      ]
     },
     "metadata": {},
     "output_type": "display_data"
    }
   ],
   "source": [
    "_ = plt.hist(scaler.inverse_transform(features_test)[labels_test==0, 0],\n",
    "            bins =np.linspace(60, 100, 20), histtype='step', normed=True)\n",
    "_ = plt.hist(scaler.inverse_transform(features_test)[np.logical_and(labels_test==0, yhat_decorr.ravel()>0.5), 0],\n",
    "            bins=np.linspace(60, 100, 20), histtype='step', normed=True)"
   ]
  },
  {
   "cell_type": "markdown",
   "metadata": {},
   "source": [
    "# Training a GAN (WGAN-GP)"
   ]
  },
  {
   "cell_type": "code",
   "execution_count": 37,
   "metadata": {},
   "outputs": [],
   "source": [
    "from keras.layers import Input, Dense, Reshape, Flatten\n",
    "from keras.layers.merge import _Merge\n",
    "from keras.layers.convolutional import Convolution2D, Conv2DTranspose\n",
    "from keras.layers.normalization import BatchNormalization\n",
    "from keras.layers.advanced_activations import LeakyReLU\n",
    "from keras.optimizers import Adam\n",
    "from keras import backend as K"
   ]
  },
  {
   "cell_type": "code",
   "execution_count": 57,
   "metadata": {},
   "outputs": [],
   "source": [
    "BATCH_SIZE = 100\n",
    "\n",
    "# The training ratio is the number of discriminator updates per generator\n",
    "# update. The paper uses 5.\n",
    "TRAINING_RATIO = 5\n",
    "GRADIENT_PENALTY_WEIGHT = 10  # As per the paper"
   ]
  },
  {
   "cell_type": "code",
   "execution_count": 128,
   "metadata": {},
   "outputs": [],
   "source": [
    "def wasserstein_loss(y_true, y_pred):\n",
    "    return K.mean(y_true * y_pred)\n",
    "\n",
    "\n",
    "def gradient_penalty_loss(y_true, y_pred, averaged_samples,\n",
    "                          gradient_penalty_weight):\n",
    "    gradients = K.gradients(K.sum(y_pred), averaged_samples)\n",
    "    gradient_l2_norm = K.sqrt(K.sum(K.square(gradients)))\n",
    "    gradient_penalty = gradient_penalty_weight * K.square(1 - gradient_l2_norm)\n",
    "    return gradient_penalty"
   ]
  },
  {
   "cell_type": "code",
   "execution_count": 131,
   "metadata": {},
   "outputs": [],
   "source": [
    "def make_generator():\n",
    "    \"\"\"Creates a generator model that takes a 100-dimensional latent prior and \n",
    "    converts to size 25 x 25 x 1\"\"\"\n",
    "\n",
    "    z = Input(shape=(100, ))\n",
    "    \n",
    "#     x = Dense(256)(z)\n",
    "#     x = LeakyReLU()(x)\n",
    "    \n",
    "#     x = Dense(512)(x)\n",
    "#     x = LeakyReLU()(x)\n",
    "    \n",
    "#     x = Dense(25 ** 2, activation='relu')(x)\n",
    "#     y = Reshape((25, 25, 1))(x)\n",
    "    x = Dense(1024, input_dim=100)(z)\n",
    "    x = LeakyReLU()(x)\n",
    "\n",
    "    x = Dense(128 * 7 * 7)(x)\n",
    "    x = BatchNormalization()(x)\n",
    "    x = LeakyReLU()(x)\n",
    "\n",
    "    x = Reshape((7, 7, 128))(x)\n",
    "\n",
    "    x = Conv2DTranspose(128, (5, 5), strides=2, padding='same')(x)\n",
    "    x = BatchNormalization(axis=-1)(x)\n",
    "    x = LeakyReLU()(x)\n",
    "\n",
    "    x = Convolution2D(64, (5, 5), padding='same')(x)\n",
    "    x = BatchNormalization(axis=-1)(x)\n",
    "    x = LeakyReLU()(x)\n",
    "\n",
    "    x = Conv2DTranspose(64, (5, 5), strides=2, padding='same')(x)\n",
    "    x = BatchNormalization(axis=-1)(x)\n",
    "    x = LeakyReLU()(x)\n",
    "\n",
    "    y = Convolution2D(1, (4, 4), padding='valid', activation='relu')(x)\n",
    "\n",
    "    return Model(z, y)"
   ]
  },
  {
   "cell_type": "code",
   "execution_count": 132,
   "metadata": {},
   "outputs": [],
   "source": [
    "def make_discriminator():\n",
    "\n",
    "    x = Input(shape=(25, 25, 1))\n",
    "    \n",
    "#     h = Flatten()(x)\n",
    "#     h = Dense(25 ** 2, kernel_initializer='he_normal')(h)\n",
    "#     h = LeakyReLU()(h)\n",
    "    \n",
    "#     h = Dense(512, kernel_initializer='he_normal')(h)\n",
    "#     h = LeakyReLU()(h)\n",
    "    \n",
    "#     h = Dense(256, kernel_initializer='he_normal')(h)\n",
    "#     h = LeakyReLU()(h)\n",
    "\n",
    "#     h = Dense(256, kernel_initializer='he_normal')(h)\n",
    "#     h = LeakyReLU()(h)\n",
    "\n",
    "    h = Convolution2D(64, (5, 5), padding='same')(x)\n",
    "    h = LeakyReLU()(h)\n",
    "\n",
    "    h = Convolution2D(128, (5, 5), kernel_initializer='he_normal',\n",
    "                      strides=2)(h)\n",
    "    h = LeakyReLU()(h)\n",
    "\n",
    "    h = Convolution2D(256, (5, 5), kernel_initializer='he_normal',\n",
    "                      padding='same', strides=2)(h)\n",
    "    h = LeakyReLU()(h)\n",
    "\n",
    "    h = Flatten()(h)\n",
    "    h = Dense(1024, kernel_initializer='he_normal')(h)\n",
    "    h = LeakyReLU()(h)\n",
    "\n",
    "    y = Dense(1, kernel_initializer='he_normal')(h)\n",
    "\n",
    "    return Model(x, y)"
   ]
  },
  {
   "cell_type": "code",
   "execution_count": 133,
   "metadata": {},
   "outputs": [],
   "source": [
    "class RandomWeightedAverage(_Merge):\n",
    "\n",
    "    def _merge_function(self, inputs):\n",
    "        weights = K.random_uniform((K.shape(inputs[0])[0], 1, 1, 1))\n",
    "        return (weights * inputs[0]) + ((1 - weights) * inputs[1])"
   ]
  },
  {
   "cell_type": "code",
   "execution_count": 134,
   "metadata": {},
   "outputs": [],
   "source": [
    "generator = make_generator()\n",
    "discriminator = make_discriminator()"
   ]
  },
  {
   "cell_type": "code",
   "execution_count": 135,
   "metadata": {},
   "outputs": [],
   "source": [
    "discriminator.trainable = False\n",
    "\n",
    "# we train the generator layers here\n",
    "z = Input(shape=(100, ))\n",
    "generator_model = Model(z, discriminator(generator(z)))\n",
    "# We use the Adam paramaters from Gulrajani et al.\n",
    "generator_model.compile(optimizer=Adam(0.0001, beta_1=0.5, beta_2=0.9),\n",
    "                        loss=wasserstein_loss)"
   ]
  },
  {
   "cell_type": "code",
   "execution_count": 136,
   "metadata": {},
   "outputs": [],
   "source": [
    "discriminator.trainable = True\n",
    "generator.trainable = False"
   ]
  },
  {
   "cell_type": "code",
   "execution_count": 137,
   "metadata": {},
   "outputs": [],
   "source": [
    "real_samples = Input(shape=(25, 25, 1))\n",
    "z = Input(shape=(100,))\n",
    "fake_samples = generator(z)\n",
    "\n",
    "critic_out_fake = discriminator(fake_samples)\n",
    "critic_out_real = discriminator(real_samples)\n",
    "\n",
    "# generate weighted-averages of real and generated\n",
    "# samples, to use for the gradient norm penalty.\n",
    "averaged_samples = RandomWeightedAverage()([real_samples, fake_samples])\n",
    "\n",
    "# running them thru critic to get the gradient norm for the GP loss.\n",
    "averaged_samples_out = discriminator(averaged_samples)\n",
    "\n",
    "# The gradient penalty loss function requires the input averaged samples\n",
    "def gp_loss(y_true, y_pred):\n",
    "    return gradient_penalty_loss(\n",
    "        y_true, y_pred,\n",
    "        averaged_samples=averaged_samples,\n",
    "        gradient_penalty_weight=GRADIENT_PENALTY_WEIGHT\n",
    "    )\n",
    "\n",
    "discriminator_model = Model(\n",
    "    inputs=[real_samples, z],\n",
    "    outputs=[critic_out_real, critic_out_fake, averaged_samples_out]\n",
    ")\n",
    "\n",
    "# We use the Adam paramaters from Gulrajani et al.\n",
    "discriminator_model.compile(\n",
    "    optimizer=Adam(0.0001, beta_1=0.5, beta_2=0.9),\n",
    "    loss=[wasserstein_loss, wasserstein_loss, gp_loss]\n",
    ")"
   ]
  },
  {
   "cell_type": "code",
   "execution_count": 138,
   "metadata": {},
   "outputs": [],
   "source": [
    "# positive_y is the label vector for real samples, with value 1.\n",
    "# negative_y is the label vector for generated samples, with value -1.\n",
    "# dummy_y vector is passed to the gradient_penalty loss function and is\n",
    "# not used.\n",
    "\n",
    "positive_y = np.ones((BATCH_SIZE, 1), dtype=np.float32)\n",
    "negative_y = -positive_y\n",
    "dummy_y = np.zeros((BATCH_SIZE, 1), dtype=np.float32)"
   ]
  },
  {
   "cell_type": "code",
   "execution_count": 139,
   "metadata": {},
   "outputs": [],
   "source": [
    "# do a little bit of scaling for stability\n",
    "X_train = np.expand_dims(images_train / 75, -1)"
   ]
  },
  {
   "cell_type": "code",
   "execution_count": 140,
   "metadata": {
    "scrolled": false
   },
   "outputs": [
    {
     "name": "stdout",
     "output_type": "stream",
     "text": [
      "Epoch:  0\n",
      "Number of batches:  640\n",
      "critic score = -0.152374\n",
      "critic score = -0.241565\n",
      "critic score = -0.105579\n",
      "critic score = -0.02568\n",
      "critic score = 0.00719575\n",
      "critic score = 0.0195708\n",
      "critic score = 0.0289971\n",
      "critic score = 0.0381982\n",
      "critic score = 0.0491013\n",
      "critic score = 0.0481544\n",
      "critic score = 0.0505595\n",
      "critic score = 0.0504762\n",
      "critic score = 0.0503975\n",
      "Epoch:  1\n",
      "Number of batches:  640\n",
      "critic score = 0.176513\n",
      "critic score = 0.0563071\n",
      "critic score = 0.0391029\n",
      "critic score = 0.0406977\n",
      "critic score = 0.0360726\n",
      "critic score = 0.0391399\n",
      "critic score = 0.0398813\n",
      "critic score = 0.0426565\n",
      "critic score = 0.0415499\n",
      "critic score = 0.0403569\n",
      "critic score = 0.0404253\n",
      "critic score = 0.0381508\n",
      "critic score = 0.0378135\n",
      "Epoch:  2\n",
      "Number of batches:  640\n",
      "critic score = -0.00798157\n",
      "critic score = 0.0264251\n",
      "critic score = 0.0236159\n",
      "critic score = 0.0222877\n",
      "critic score = 0.0216473\n",
      "critic score = 0.0240355\n",
      "critic score = 0.0241721\n",
      "critic score = 0.0228025\n",
      "critic score = 0.0218283\n",
      "critic score = 0.0226291\n",
      "critic score = 0.0227958\n",
      "critic score = 0.0221956\n",
      "critic score = 0.0208018\n",
      "Epoch:  3\n",
      "Number of batches:  640\n",
      "critic score = 0.00286372\n",
      "critic score = 0.0140333\n",
      "critic score = 0.0113541\n",
      "critic score = 0.0105298\n",
      "critic score = 0.0103645\n",
      "critic score = 0.0106568\n",
      "critic score = 0.00893287\n",
      "critic score = 0.00798712\n",
      "critic score = 0.0070138\n",
      "critic score = 0.00642781\n",
      "critic score = 0.00683617\n",
      "critic score = 0.00937263\n",
      "critic score = 0.0110266\n",
      "Epoch:  4\n",
      "Number of batches:  640\n",
      "critic score = 0.00599215\n",
      "critic score = 0.0621113\n",
      "critic score = 0.0526913\n",
      "critic score = 0.0454846\n",
      "critic score = 0.0434619\n",
      "critic score = 0.0410191\n",
      "critic score = 0.0381025\n",
      "critic score = 0.0364957\n",
      "critic score = 0.0367333\n",
      "critic score = 0.036031\n",
      "critic score = 0.0349289\n",
      "critic score = 0.0358326\n",
      "critic score = 0.0354641\n",
      "Epoch:  5\n",
      "Number of batches:  640\n",
      "critic score = 0.0258846\n",
      "critic score = 0.0233241\n",
      "critic score = 0.0224367\n",
      "critic score = 0.0223582\n",
      "critic score = 0.0220013\n",
      "critic score = 0.0199282\n",
      "critic score = 0.0190387\n",
      "critic score = 0.0206258\n",
      "critic score = 0.0198217\n",
      "critic score = 0.0200921\n",
      "critic score = 0.0205703\n",
      "critic score = 0.0199532\n",
      "critic score = 0.0201863\n",
      "Epoch:  6\n",
      "Number of batches:  640\n",
      "critic score = -0.00150099\n",
      "critic score = 0.0134299\n",
      "critic score = 0.0150364\n",
      "critic score = 0.0150029\n",
      "critic score = 0.0156097\n",
      "critic score = 0.0171768\n",
      "critic score = 0.0161507\n",
      "critic score = 0.0166235\n",
      "critic score = 0.0167012\n",
      "critic score = 0.0176794\n",
      "critic score = 0.0171463\n",
      "critic score = 0.0170698\n",
      "critic score = 0.0166151\n",
      "Epoch:  7\n",
      "Number of batches:  640\n",
      "critic score = 0.0142535\n",
      "critic score = 0.0140101\n",
      "critic score = 0.0143566\n",
      "critic score = 0.013975\n",
      "critic score = 0.0140466\n",
      "critic score = 0.0151075\n",
      "critic score = 0.0146898\n",
      "critic score = 0.0145155\n",
      "critic score = 0.0158175\n",
      "critic score = 0.0153261\n",
      "critic score = 0.0148048\n",
      "critic score = 0.0149236\n",
      "critic score = 0.0142928\n",
      "Epoch:  8\n",
      "Number of batches:  640\n",
      "critic score = 0.00612485\n",
      "critic score = 0.0112021\n",
      "critic score = 0.0113896\n",
      "critic score = 0.0121683\n",
      "critic score = 0.0119671\n",
      "critic score = 0.0124956\n",
      "critic score = 0.0125551\n",
      "critic score = 0.0122687\n",
      "critic score = 0.0122363\n",
      "critic score = 0.0118827\n",
      "critic score = 0.012002\n",
      "critic score = 0.0122265\n",
      "critic score = 0.0119172\n",
      "Epoch:  9\n",
      "Number of batches:  640\n",
      "critic score = 0.0213804\n",
      "critic score = 0.0178512\n",
      "critic score = 0.0156623\n",
      "critic score = 0.0143156\n",
      "critic score = 0.0130656\n",
      "critic score = 0.0126095\n",
      "critic score = 0.0128454\n",
      "critic score = 0.0126706\n",
      "critic score = 0.0120862\n",
      "critic score = 0.0114811\n",
      "critic score = 0.0113931\n",
      "critic score = 0.011939\n",
      "critic score = 0.0117517\n",
      "Epoch:  10\n",
      "Number of batches:  640\n",
      "critic score = 0.00668171\n",
      "critic score = 0.00990892\n",
      "critic score = 0.0100343\n",
      "critic score = 0.00947543\n",
      "critic score = 0.00947523\n",
      "critic score = 0.00956974\n",
      "critic score = 0.0102804\n",
      "critic score = 0.0103648\n",
      "critic score = 0.010381\n",
      "critic score = 0.0102566\n",
      "critic score = 0.0101388\n",
      "critic score = 0.010149\n",
      "critic score = 0.00999188\n",
      "Epoch:  11\n",
      "Number of batches:  640\n",
      "critic score = 0.00153202\n",
      "critic score = 0.00833028\n",
      "critic score = 0.00947839\n",
      "critic score = 0.00960103\n",
      "critic score = 0.00913012\n",
      "critic score = 0.00943448\n",
      "critic score = 0.00932062\n",
      "critic score = 0.00887715\n",
      "critic score = 0.00905038\n",
      "critic score = 0.00875237\n",
      "critic score = 0.00885647\n",
      "critic score = 0.0087353\n",
      "critic score = 0.0084924\n",
      "Epoch:  12\n",
      "Number of batches:  640\n",
      "critic score = 0.00915226\n",
      "critic score = 0.0064178\n",
      "critic score = 0.00759162\n",
      "critic score = 0.00800099\n",
      "critic score = 0.00786775\n",
      "critic score = 0.00866213\n",
      "critic score = 0.0080673\n",
      "critic score = 0.00790339\n",
      "critic score = 0.00831664\n",
      "critic score = 0.00829202\n",
      "critic score = 0.00825755\n",
      "critic score = 0.00818287\n",
      "critic score = 0.00817337\n",
      "Epoch:  13\n",
      "Number of batches:  640\n",
      "critic score = 0.00574026\n",
      "critic score = 0.00679888\n",
      "critic score = 0.00719461\n",
      "critic score = 0.00751214\n",
      "critic score = 0.00735996\n",
      "critic score = 0.0077555\n",
      "critic score = 0.00783215\n",
      "critic score = 0.00791477\n",
      "critic score = 0.00773211\n",
      "critic score = 0.00756304\n",
      "critic score = 0.0074367\n",
      "critic score = 0.00735119\n",
      "critic score = 0.00730441\n",
      "Epoch:  14\n",
      "Number of batches:  640\n",
      "critic score = 0.00398205\n",
      "critic score = 0.00661709\n",
      "critic score = 0.00690142\n",
      "critic score = 0.0071073\n",
      "critic score = 0.00721896\n",
      "critic score = 0.00729256\n",
      "critic score = 0.00694772\n",
      "critic score = 0.00688112\n",
      "critic score = 0.00681783\n",
      "critic score = 0.00684485\n",
      "critic score = 0.00686411\n",
      "critic score = 0.00665197\n",
      "critic score = 0.00673827\n",
      "Epoch:  15\n",
      "Number of batches:  640\n",
      "critic score = 0.00910569\n",
      "critic score = 0.0054622\n",
      "critic score = 0.00678793\n",
      "critic score = 0.00604007\n",
      "critic score = 0.00685373\n",
      "critic score = 0.00654496\n",
      "critic score = 0.00644996\n",
      "critic score = 0.00621184\n",
      "critic score = 0.00631571\n",
      "critic score = 0.00624666\n",
      "critic score = 0.00617657\n",
      "critic score = 0.00606928\n",
      "critic score = 0.00607967\n",
      "Epoch:  16\n",
      "Number of batches:  640\n",
      "critic score = 0.00924929\n",
      "critic score = 0.00440764\n",
      "critic score = 0.00650001\n",
      "critic score = 0.00733069\n",
      "critic score = 0.00660586\n",
      "critic score = 0.00633207\n",
      "critic score = 0.00643887\n",
      "critic score = 0.00633454\n",
      "critic score = 0.00629458\n",
      "critic score = 0.00621575\n",
      "critic score = 0.00612288\n",
      "critic score = 0.00607535\n",
      "critic score = 0.00596003\n",
      "Epoch:  17\n",
      "Number of batches:  640\n",
      "critic score = 0.00404392\n",
      "critic score = 0.00581521\n",
      "critic score = 0.00598279\n",
      "critic score = 0.00561508\n",
      "critic score = 0.00593683\n",
      "critic score = 0.00566854\n",
      "critic score = 0.00579079\n",
      "critic score = 0.00578499\n",
      "critic score = 0.00568052\n",
      "critic score = 0.00560304\n",
      "critic score = 0.00541745\n",
      "critic score = 0.00562442\n",
      "critic score = 0.00554256\n",
      "Epoch:  18\n",
      "Number of batches:  640\n",
      "critic score = 0.00503581\n",
      "critic score = 0.00419616\n",
      "critic score = 0.00396823\n",
      "critic score = 0.00383792\n",
      "critic score = 0.00391193\n",
      "critic score = 0.00393188\n",
      "critic score = 0.00387594\n",
      "critic score = 0.0040072\n",
      "critic score = 0.00423402\n",
      "critic score = 0.00429857\n",
      "critic score = 0.00444781\n",
      "critic score = 0.00459564\n",
      "critic score = 0.00455247\n",
      "Epoch:  19\n",
      "Number of batches:  640\n",
      "critic score = 0.00514864\n",
      "critic score = 0.0051213\n",
      "critic score = 0.00492367\n",
      "critic score = 0.00473183\n",
      "critic score = 0.00445676\n",
      "critic score = 0.00457824\n",
      "critic score = 0.00465317\n",
      "critic score = 0.00444164\n",
      "critic score = 0.00438735\n",
      "critic score = 0.00424603\n",
      "critic score = 0.00434544\n",
      "critic score = 0.00443737\n",
      "critic score = 0.00456565\n",
      "Epoch:  20\n",
      "Number of batches:  640\n",
      "critic score = 0.00803595\n",
      "critic score = 0.00448402\n",
      "critic score = 0.00453214\n",
      "critic score = 0.0041932\n",
      "critic score = 0.0045081\n",
      "critic score = 0.00453917\n",
      "critic score = 0.00433735\n",
      "critic score = 0.00426548\n",
      "critic score = 0.00406726\n",
      "critic score = 0.00398126\n",
      "critic score = 0.00400504\n",
      "critic score = 0.00397027\n",
      "critic score = 0.00386072\n",
      "Epoch:  21\n",
      "Number of batches:  640\n",
      "critic score = 0.00776639\n",
      "critic score = 0.00378082\n",
      "critic score = 0.0038699\n",
      "critic score = 0.00368714\n",
      "critic score = 0.00353669\n",
      "critic score = 0.00348001\n",
      "critic score = 0.00326292\n",
      "critic score = 0.00311155\n",
      "critic score = 0.00334339\n",
      "critic score = 0.00337628\n",
      "critic score = 0.00340521\n",
      "critic score = 0.00332326\n",
      "critic score = 0.00337366\n",
      "Epoch:  22\n",
      "Number of batches:  640\n",
      "critic score = -0.00324653\n",
      "critic score = 0.00385872\n",
      "critic score = 0.00308594\n",
      "critic score = 0.00353133\n",
      "critic score = 0.00305881\n"
     ]
    },
    {
     "name": "stdout",
     "output_type": "stream",
     "text": [
      "critic score = 0.00314281\n",
      "critic score = 0.00303923\n",
      "critic score = 0.00311932\n",
      "critic score = 0.00307169\n",
      "critic score = 0.00298695\n",
      "critic score = 0.00300541\n",
      "critic score = 0.00329802\n",
      "critic score = 0.00345205\n",
      "Epoch:  23\n",
      "Number of batches:  640\n",
      "critic score = -0.00111877\n",
      "critic score = 0.00376912\n",
      "critic score = 0.00293965\n",
      "critic score = 0.00338586\n",
      "critic score = 0.00329795\n",
      "critic score = 0.00326438\n",
      "critic score = 0.0031785\n",
      "critic score = 0.00310335\n",
      "critic score = 0.00310227\n",
      "critic score = 0.00307886\n",
      "critic score = 0.00300807\n",
      "critic score = 0.0031157\n",
      "critic score = 0.00306696\n",
      "Epoch:  24\n",
      "Number of batches:  640\n",
      "critic score = 0.00510844\n",
      "critic score = 0.00248023\n",
      "critic score = 0.00258029\n",
      "critic score = 0.00268941\n",
      "critic score = 0.00314385\n",
      "critic score = 0.00324618\n",
      "critic score = 0.00329412\n",
      "critic score = 0.00346608\n",
      "critic score = 0.00336378\n",
      "critic score = 0.00332429\n",
      "critic score = 0.00329425\n",
      "critic score = 0.00328778\n",
      "critic score = 0.00319126\n",
      "Epoch:  25\n",
      "Number of batches:  640\n",
      "critic score = 0.00187775\n",
      "critic score = 0.003732\n",
      "critic score = 0.00380374\n",
      "critic score = 0.00286863\n",
      "critic score = 0.00289463\n",
      "critic score = 0.0028368\n",
      "critic score = 0.00264392\n",
      "critic score = 0.00272098\n",
      "critic score = 0.00254553\n",
      "critic score = 0.00244247\n",
      "critic score = 0.00239391\n",
      "critic score = 0.00232285\n",
      "critic score = 0.00234119\n",
      "Epoch:  26\n",
      "Number of batches:  640\n",
      "critic score = 0.0106976\n",
      "critic score = 0.00215626\n",
      "critic score = 0.00293888\n",
      "critic score = 0.00294902\n",
      "critic score = 0.00293318\n",
      "critic score = 0.00287589\n",
      "critic score = 0.00272889\n",
      "critic score = 0.00257339\n",
      "critic score = 0.00265552\n",
      "critic score = 0.00261631\n",
      "critic score = 0.00260483\n",
      "critic score = 0.00254972\n",
      "critic score = 0.00256911\n",
      "Epoch:  27\n",
      "Number of batches:  640\n",
      "critic score = 0.00341663\n",
      "critic score = 0.00309873\n",
      "critic score = 0.00288147\n",
      "critic score = 0.00281919\n",
      "critic score = 0.00256694\n",
      "critic score = 0.00258863\n",
      "critic score = 0.0027064\n",
      "critic score = 0.00260514\n",
      "critic score = 0.00270818\n",
      "critic score = 0.00280121\n",
      "critic score = 0.00270052\n",
      "critic score = 0.00285472\n",
      "critic score = 0.0026528\n",
      "Epoch:  28\n",
      "Number of batches:  640\n",
      "critic score = 0.00141474\n",
      "critic score = 0.00169474\n",
      "critic score = 0.00178206\n",
      "critic score = 0.00157357\n",
      "critic score = 0.0019466\n",
      "critic score = 0.00172872\n",
      "critic score = 0.00187631\n",
      "critic score = 0.00182748\n",
      "critic score = 0.00184129\n",
      "critic score = 0.00182712\n",
      "critic score = 0.001884\n",
      "critic score = 0.00179854\n",
      "critic score = 0.00203768\n",
      "Epoch:  29\n",
      "Number of batches:  640\n",
      "critic score = -0.00528108\n",
      "critic score = 0.000793968\n",
      "critic score = 0.00142236\n",
      "critic score = 0.00153662\n",
      "critic score = 0.00186007\n",
      "critic score = 0.00179699\n",
      "critic score = 0.00189609\n",
      "critic score = 0.00188561\n",
      "critic score = 0.00193255\n",
      "critic score = 0.00196262\n",
      "critic score = 0.00197202\n",
      "critic score = 0.00197362\n",
      "critic score = 0.00203175\n",
      "Epoch:  30\n",
      "Number of batches:  640\n",
      "critic score = -0.00168412\n",
      "critic score = 0.00256844\n",
      "critic score = 0.00207885\n",
      "critic score = 0.00136518\n",
      "critic score = 0.00146453\n",
      "critic score = 0.00162696\n",
      "critic score = 0.00156745\n",
      "critic score = 0.00152105\n",
      "critic score = 0.00156056\n",
      "critic score = 0.00154689\n",
      "critic score = 0.00143226\n",
      "critic score = 0.00148197\n",
      "critic score = 0.00147542\n",
      "Epoch:  31\n",
      "Number of batches:  640\n",
      "critic score = 0.00826802\n",
      "critic score = 0.00221099\n",
      "critic score = 0.0019526\n",
      "critic score = 0.00196898\n",
      "critic score = 0.00175899\n",
      "critic score = 0.00169635\n",
      "critic score = 0.0018278\n",
      "critic score = 0.00176981\n",
      "critic score = 0.00179406\n",
      "critic score = 0.00166788\n",
      "critic score = 0.00172265\n",
      "critic score = 0.00170603\n",
      "critic score = 0.00166785\n",
      "Epoch:  32\n",
      "Number of batches:  640\n",
      "critic score = 0.00507663\n",
      "critic score = 0.000896199\n",
      "critic score = 0.00156166\n",
      "critic score = 0.0013452\n",
      "critic score = 0.00150439\n",
      "critic score = 0.00127871\n",
      "critic score = 0.00152306\n",
      "critic score = 0.00145721\n",
      "critic score = 0.0014106\n",
      "critic score = 0.00143296\n",
      "critic score = 0.00142182\n",
      "critic score = 0.00151538\n",
      "critic score = 0.0014324\n",
      "Epoch:  33\n",
      "Number of batches:  640\n",
      "critic score = 0.00104363\n",
      "critic score = 0.00159536\n",
      "critic score = 0.00133789\n",
      "critic score = 0.00144732\n",
      "critic score = 0.00155175\n",
      "critic score = 0.00137426\n",
      "critic score = 0.00153932\n",
      "critic score = 0.00148037\n",
      "critic score = 0.00146624\n",
      "critic score = 0.00142708\n",
      "critic score = 0.00139272\n",
      "critic score = 0.00134755\n",
      "critic score = 0.00135156\n",
      "Epoch:  34\n",
      "Number of batches:  640\n",
      "critic score = -5.87227e-06\n",
      "critic score = 0.00167608\n",
      "critic score = 0.00102477\n",
      "critic score = 0.00122598\n",
      "critic score = 0.00196982\n",
      "critic score = 0.00159592\n",
      "critic score = 0.00147198\n",
      "critic score = 0.00161251\n",
      "critic score = 0.00140537\n",
      "critic score = 0.00133638\n",
      "critic score = 0.00149976\n",
      "critic score = 0.00147602\n",
      "critic score = 0.00151296\n",
      "Epoch:  35\n",
      "Number of batches:  640\n",
      "critic score = -0.000915936\n",
      "critic score = 0.00157733\n",
      "critic score = 0.000929115\n",
      "critic score = 0.00116104\n",
      "critic score = 0.00120434\n",
      "critic score = 0.00135087\n",
      "critic score = 0.00136594\n",
      "critic score = 0.00148086\n",
      "critic score = 0.00153544\n",
      "critic score = 0.00145727\n",
      "critic score = 0.00154178\n",
      "critic score = 0.00144561\n",
      "critic score = 0.00137198\n",
      "Epoch:  36\n",
      "Number of batches:  640\n",
      "critic score = 0.00164659\n",
      "critic score = 0.00188547\n",
      "critic score = 0.00133043\n",
      "critic score = 0.00145148\n",
      "critic score = 0.00108139\n",
      "critic score = 0.00101407\n",
      "critic score = 0.00105216\n",
      "critic score = 0.00112378\n",
      "critic score = 0.00107655\n",
      "critic score = 0.00110426\n",
      "critic score = 0.0012371\n",
      "critic score = 0.00118273\n",
      "critic score = 0.00121555\n",
      "Epoch:  37\n",
      "Number of batches:  640\n",
      "critic score = 0.0018437\n",
      "critic score = 0.00098297\n",
      "critic score = 0.00127512\n",
      "critic score = 0.00133865\n",
      "critic score = 0.00117904\n",
      "critic score = 0.00121659\n",
      "critic score = 0.00144143\n",
      "critic score = 0.00126208\n",
      "critic score = 0.00122806\n",
      "critic score = 0.00126569\n",
      "critic score = 0.00125854\n",
      "critic score = 0.00123598\n",
      "critic score = 0.00131388\n",
      "Epoch:  38\n",
      "Number of batches:  640\n",
      "critic score = 0.00203203\n",
      "critic score = 0.00182092\n",
      "critic score = 0.00146733\n",
      "critic score = 0.00143432\n",
      "critic score = 0.0015211\n",
      "critic score = 0.00130884\n",
      "critic score = 0.00146798\n",
      "critic score = 0.00156618\n",
      "critic score = 0.00146693\n",
      "critic score = 0.00140941\n",
      "critic score = 0.00140904\n",
      "critic score = 0.00136277\n",
      "critic score = 0.00128142\n",
      "Epoch:  39\n",
      "Number of batches:  640\n",
      "critic score = -0.00140388\n",
      "critic score = 0.00173492\n",
      "critic score = 0.00141684\n",
      "critic score = 0.001479\n",
      "critic score = 0.00145471\n",
      "critic score = 0.00137887\n",
      "critic score = 0.00130065\n",
      "critic score = 0.00125628\n",
      "critic score = 0.00130732\n",
      "critic score = 0.00127004\n",
      "critic score = 0.00134657\n",
      "critic score = 0.0013068\n",
      "critic score = 0.0013081\n",
      "Epoch:  40\n",
      "Number of batches:  640\n",
      "critic score = -2.82074e-07\n",
      "critic score = 0.000567968\n",
      "critic score = 0.00107923\n",
      "critic score = 0.000872982\n",
      "critic score = 0.000982169\n",
      "critic score = 0.0012049\n",
      "critic score = 0.00120883\n",
      "critic score = 0.00124614\n",
      "critic score = 0.00121049\n",
      "critic score = 0.00116015\n",
      "critic score = 0.00125631\n",
      "critic score = 0.00122278\n",
      "critic score = 0.00126972\n",
      "Epoch:  41\n",
      "Number of batches:  640\n",
      "critic score = 0.00301657\n",
      "critic score = 0.00136752\n",
      "critic score = 0.00110167\n",
      "critic score = 0.00107415\n",
      "critic score = 0.00104977\n",
      "critic score = 0.00130793\n",
      "critic score = 0.00126085\n",
      "critic score = 0.00132003\n",
      "critic score = 0.00119894\n",
      "critic score = 0.00127036\n",
      "critic score = 0.00124237\n",
      "critic score = 0.00121854\n",
      "critic score = 0.00118375\n",
      "Epoch:  42\n",
      "Number of batches:  640\n",
      "critic score = -0.0081267\n",
      "critic score = -0.00241633\n",
      "critic score = -0.0011677\n",
      "critic score = -0.000613057\n",
      "critic score = 4.33155e-06\n",
      "critic score = 1.90631e-05\n",
      "critic score = 0.000326943\n",
      "critic score = 0.000394903\n",
      "critic score = 0.000485919\n",
      "critic score = 0.000616271\n",
      "critic score = 0.00076264\n",
      "critic score = 0.000754958\n",
      "critic score = 0.000815138\n",
      "Epoch:  43\n",
      "Number of batches:  640\n",
      "critic score = 0.000540132\n",
      "critic score = 0.00110659\n",
      "critic score = 0.000892856\n",
      "critic score = 0.00106807\n",
      "critic score = 0.00102532\n",
      "critic score = 0.00121871\n",
      "critic score = 0.00122149\n",
      "critic score = 0.00116999\n",
      "critic score = 0.00117387\n",
      "critic score = 0.00116017\n",
      "critic score = 0.00120054\n",
      "critic score = 0.00111675\n",
      "critic score = 0.00114025\n",
      "Epoch:  44\n",
      "Number of batches:  640\n",
      "critic score = 0.00609934\n",
      "critic score = 0.00679369\n",
      "critic score = 0.00802185\n",
      "critic score = 0.00409757\n",
      "critic score = 0.00342973\n"
     ]
    },
    {
     "name": "stdout",
     "output_type": "stream",
     "text": [
      "critic score = 0.00318199\n",
      "critic score = 0.00305257\n",
      "critic score = 0.00267354\n",
      "critic score = 0.00258335\n",
      "critic score = 0.00244178\n",
      "critic score = 0.00220461\n",
      "critic score = 0.00213211\n",
      "critic score = 0.00205077\n",
      "Epoch:  45\n",
      "Number of batches:  640\n",
      "critic score = 0.000257873\n",
      "critic score = 0.00124647\n",
      "critic score = 0.00173199\n",
      "critic score = 0.00110766\n",
      "critic score = 0.000995622\n",
      "critic score = 0.0010197\n",
      "critic score = 0.0010702\n",
      "critic score = 0.00112331\n",
      "critic score = 0.00106301\n",
      "critic score = 0.000919619\n",
      "critic score = 0.00100554\n",
      "critic score = 0.00091568\n",
      "critic score = 0.00102866\n",
      "Epoch:  46\n",
      "Number of batches:  640\n",
      "critic score = -0.000305142\n",
      "critic score = 0.000406463\n",
      "critic score = 0.000892198\n",
      "critic score = 0.000929344\n",
      "critic score = 0.00233197\n",
      "critic score = 0.00193322\n",
      "critic score = 0.00185418\n",
      "critic score = 0.00176925\n",
      "critic score = 0.00172419\n",
      "critic score = 0.00163855\n",
      "critic score = 0.00161337\n",
      "critic score = 0.00158448\n",
      "critic score = 0.00153987\n",
      "Epoch:  47\n",
      "Number of batches:  640\n",
      "critic score = -0.000197594\n",
      "critic score = 0.00143656\n",
      "critic score = 0.00140271\n",
      "critic score = 0.00145322\n",
      "critic score = 0.00129119\n",
      "critic score = 0.00123655\n",
      "critic score = 0.00118927\n",
      "critic score = 0.00127793\n",
      "critic score = 0.00123648\n",
      "critic score = 0.00131626\n",
      "critic score = 0.00129337\n",
      "critic score = 0.00125142\n",
      "critic score = 0.00124744\n",
      "Epoch:  48\n",
      "Number of batches:  640\n",
      "critic score = -0.00043085\n",
      "critic score = 0.00152769\n",
      "critic score = 0.00118639\n",
      "critic score = 0.00118153\n",
      "critic score = 0.00116063\n",
      "critic score = 0.00108153\n",
      "critic score = 0.00102391\n",
      "critic score = 0.00109433\n",
      "critic score = 0.00108381\n",
      "critic score = 0.00107446\n",
      "critic score = 0.00105502\n",
      "critic score = 0.00109596\n",
      "critic score = 0.00112396\n",
      "Epoch:  49\n",
      "Number of batches:  640\n",
      "critic score = 0.00026184\n",
      "critic score = 0.000802167\n",
      "critic score = 0.000911247\n",
      "critic score = 0.000965184\n",
      "critic score = 0.000901008\n",
      "critic score = 0.000918866\n",
      "critic score = 0.000975924\n",
      "critic score = 0.00103945\n",
      "critic score = 0.00142757\n",
      "critic score = 0.00159989\n",
      "critic score = 0.00171231\n",
      "critic score = 0.00207504\n",
      "critic score = 0.00196855\n",
      "Epoch:  50\n",
      "Number of batches:  640\n",
      "critic score = -0.000633644\n",
      "critic score = 0.00104451\n",
      "critic score = 0.000613258\n",
      "critic score = 0.000784557\n",
      "critic score = 0.000869237\n",
      "critic score = 0.000779282\n",
      "critic score = 0.00152373\n",
      "critic score = 0.00129571\n",
      "critic score = 0.00138516\n",
      "critic score = 0.00118147\n",
      "critic score = 0.00156737\n",
      "critic score = 0.00145281\n",
      "critic score = 0.00160124\n",
      "Epoch:  51\n",
      "Number of batches:  640\n",
      "critic score = -0.000230271\n",
      "critic score = 0.00292656\n",
      "critic score = 0.00199195\n",
      "critic score = 0.00172992\n",
      "critic score = 0.0016325\n",
      "critic score = 0.00150147\n",
      "critic score = 0.00147945\n",
      "critic score = 0.00152647\n",
      "critic score = 0.00145377\n",
      "critic score = 0.00143039\n",
      "critic score = 0.00139095\n",
      "critic score = 0.0014064\n",
      "critic score = 0.00139458\n",
      "Epoch:  52\n",
      "Number of batches:  640\n",
      "critic score = 0.00133088\n",
      "critic score = 0.0010308\n",
      "critic score = 0.00107964\n",
      "critic score = 0.00106806\n",
      "critic score = 0.00109201\n",
      "critic score = 0.00109357\n",
      "critic score = 0.00111053\n",
      "critic score = 0.00113794\n",
      "critic score = 0.00113509\n",
      "critic score = 0.00106782\n",
      "critic score = 0.00105178\n",
      "critic score = 0.00107867\n",
      "critic score = 0.00110316\n",
      "Epoch:  53\n",
      "Number of batches:  640\n",
      "critic score = 0.00109115\n",
      "critic score = 0.000818948\n",
      "critic score = 0.000850759\n",
      "critic score = 0.00101655\n",
      "critic score = 0.00105518\n",
      "critic score = 0.00101075\n",
      "critic score = 0.00101777\n",
      "critic score = 0.00109468\n",
      "critic score = 0.00106181\n",
      "critic score = 0.00116731\n"
     ]
    },
    {
     "ename": "KeyboardInterrupt",
     "evalue": "",
     "output_type": "error",
     "traceback": [
      "\u001b[0;31m\u001b[0m",
      "\u001b[0;31mKeyboardInterrupt\u001b[0mTraceback (most recent call last)",
      "\u001b[0;32m<ipython-input-140-5845cba66b11>\u001b[0m in \u001b[0;36m<module>\u001b[0;34m()\u001b[0m\n\u001b[1;32m     33\u001b[0m         gen_loss = generator_model.train_on_batch(\n\u001b[1;32m     34\u001b[0m             \u001b[0mnp\u001b[0m\u001b[0;34m.\u001b[0m\u001b[0mrandom\u001b[0m\u001b[0;34m.\u001b[0m\u001b[0mrand\u001b[0m\u001b[0;34m(\u001b[0m\u001b[0mBATCH_SIZE\u001b[0m\u001b[0;34m,\u001b[0m \u001b[0;36m100\u001b[0m\u001b[0;34m)\u001b[0m\u001b[0;34m,\u001b[0m\u001b[0;34m\u001b[0m\u001b[0m\n\u001b[0;32m---> 35\u001b[0;31m             \u001b[0mpositive_y\u001b[0m\u001b[0;34m\u001b[0m\u001b[0m\n\u001b[0m\u001b[1;32m     36\u001b[0m         )\n\u001b[1;32m     37\u001b[0m         \u001b[0mgenerator_loss\u001b[0m\u001b[0;34m.\u001b[0m\u001b[0mappend\u001b[0m\u001b[0;34m(\u001b[0m\u001b[0mgen_loss\u001b[0m\u001b[0;34m)\u001b[0m\u001b[0;34m\u001b[0m\u001b[0m\n",
      "\u001b[0;32m/home/lukedeo/.venvwrp/micky-nb/local/lib/python2.7/site-packages/keras/engine/training.pyc\u001b[0m in \u001b[0;36mtrain_on_batch\u001b[0;34m(self, x, y, sample_weight, class_weight)\u001b[0m\n\u001b[1;32m   1795\u001b[0m             \u001b[0mins\u001b[0m \u001b[0;34m=\u001b[0m \u001b[0mx\u001b[0m \u001b[0;34m+\u001b[0m \u001b[0my\u001b[0m \u001b[0;34m+\u001b[0m \u001b[0msample_weights\u001b[0m\u001b[0;34m\u001b[0m\u001b[0m\n\u001b[1;32m   1796\u001b[0m         \u001b[0mself\u001b[0m\u001b[0;34m.\u001b[0m\u001b[0m_make_train_function\u001b[0m\u001b[0;34m(\u001b[0m\u001b[0;34m)\u001b[0m\u001b[0;34m\u001b[0m\u001b[0m\n\u001b[0;32m-> 1797\u001b[0;31m         \u001b[0moutputs\u001b[0m \u001b[0;34m=\u001b[0m \u001b[0mself\u001b[0m\u001b[0;34m.\u001b[0m\u001b[0mtrain_function\u001b[0m\u001b[0;34m(\u001b[0m\u001b[0mins\u001b[0m\u001b[0;34m)\u001b[0m\u001b[0;34m\u001b[0m\u001b[0m\n\u001b[0m\u001b[1;32m   1798\u001b[0m         \u001b[0;32mif\u001b[0m \u001b[0mlen\u001b[0m\u001b[0;34m(\u001b[0m\u001b[0moutputs\u001b[0m\u001b[0;34m)\u001b[0m \u001b[0;34m==\u001b[0m \u001b[0;36m1\u001b[0m\u001b[0;34m:\u001b[0m\u001b[0;34m\u001b[0m\u001b[0m\n\u001b[1;32m   1799\u001b[0m             \u001b[0;32mreturn\u001b[0m \u001b[0moutputs\u001b[0m\u001b[0;34m[\u001b[0m\u001b[0;36m0\u001b[0m\u001b[0;34m]\u001b[0m\u001b[0;34m\u001b[0m\u001b[0m\n",
      "\u001b[0;32m/home/lukedeo/.venvwrp/micky-nb/local/lib/python2.7/site-packages/keras/backend/tensorflow_backend.pyc\u001b[0m in \u001b[0;36m__call__\u001b[0;34m(self, inputs)\u001b[0m\n\u001b[1;32m   2330\u001b[0m         updated = session.run(self.outputs + [self.updates_op],\n\u001b[1;32m   2331\u001b[0m                               \u001b[0mfeed_dict\u001b[0m\u001b[0;34m=\u001b[0m\u001b[0mfeed_dict\u001b[0m\u001b[0;34m,\u001b[0m\u001b[0;34m\u001b[0m\u001b[0m\n\u001b[0;32m-> 2332\u001b[0;31m                               **self.session_kwargs)\n\u001b[0m\u001b[1;32m   2333\u001b[0m         \u001b[0;32mreturn\u001b[0m \u001b[0mupdated\u001b[0m\u001b[0;34m[\u001b[0m\u001b[0;34m:\u001b[0m\u001b[0mlen\u001b[0m\u001b[0;34m(\u001b[0m\u001b[0mself\u001b[0m\u001b[0;34m.\u001b[0m\u001b[0moutputs\u001b[0m\u001b[0;34m)\u001b[0m\u001b[0;34m]\u001b[0m\u001b[0;34m\u001b[0m\u001b[0m\n\u001b[1;32m   2334\u001b[0m \u001b[0;34m\u001b[0m\u001b[0m\n",
      "\u001b[0;32m/home/lukedeo/.venvwrp/micky-nb/local/lib/python2.7/site-packages/tensorflow/python/client/session.pyc\u001b[0m in \u001b[0;36mrun\u001b[0;34m(self, fetches, feed_dict, options, run_metadata)\u001b[0m\n\u001b[1;32m    887\u001b[0m     \u001b[0;32mtry\u001b[0m\u001b[0;34m:\u001b[0m\u001b[0;34m\u001b[0m\u001b[0m\n\u001b[1;32m    888\u001b[0m       result = self._run(None, fetches, feed_dict, options_ptr,\n\u001b[0;32m--> 889\u001b[0;31m                          run_metadata_ptr)\n\u001b[0m\u001b[1;32m    890\u001b[0m       \u001b[0;32mif\u001b[0m \u001b[0mrun_metadata\u001b[0m\u001b[0;34m:\u001b[0m\u001b[0;34m\u001b[0m\u001b[0m\n\u001b[1;32m    891\u001b[0m         \u001b[0mproto_data\u001b[0m \u001b[0;34m=\u001b[0m \u001b[0mtf_session\u001b[0m\u001b[0;34m.\u001b[0m\u001b[0mTF_GetBuffer\u001b[0m\u001b[0;34m(\u001b[0m\u001b[0mrun_metadata_ptr\u001b[0m\u001b[0;34m)\u001b[0m\u001b[0;34m\u001b[0m\u001b[0m\n",
      "\u001b[0;32m/home/lukedeo/.venvwrp/micky-nb/local/lib/python2.7/site-packages/tensorflow/python/client/session.pyc\u001b[0m in \u001b[0;36m_run\u001b[0;34m(self, handle, fetches, feed_dict, options, run_metadata)\u001b[0m\n\u001b[1;32m   1118\u001b[0m     \u001b[0;32mif\u001b[0m \u001b[0mfinal_fetches\u001b[0m \u001b[0;32mor\u001b[0m \u001b[0mfinal_targets\u001b[0m \u001b[0;32mor\u001b[0m \u001b[0;34m(\u001b[0m\u001b[0mhandle\u001b[0m \u001b[0;32mand\u001b[0m \u001b[0mfeed_dict_tensor\u001b[0m\u001b[0;34m)\u001b[0m\u001b[0;34m:\u001b[0m\u001b[0;34m\u001b[0m\u001b[0m\n\u001b[1;32m   1119\u001b[0m       results = self._do_run(handle, final_targets, final_fetches,\n\u001b[0;32m-> 1120\u001b[0;31m                              feed_dict_tensor, options, run_metadata)\n\u001b[0m\u001b[1;32m   1121\u001b[0m     \u001b[0;32melse\u001b[0m\u001b[0;34m:\u001b[0m\u001b[0;34m\u001b[0m\u001b[0m\n\u001b[1;32m   1122\u001b[0m       \u001b[0mresults\u001b[0m \u001b[0;34m=\u001b[0m \u001b[0;34m[\u001b[0m\u001b[0;34m]\u001b[0m\u001b[0;34m\u001b[0m\u001b[0m\n",
      "\u001b[0;32m/home/lukedeo/.venvwrp/micky-nb/local/lib/python2.7/site-packages/tensorflow/python/client/session.pyc\u001b[0m in \u001b[0;36m_do_run\u001b[0;34m(self, handle, target_list, fetch_list, feed_dict, options, run_metadata)\u001b[0m\n\u001b[1;32m   1315\u001b[0m     \u001b[0;32mif\u001b[0m \u001b[0mhandle\u001b[0m \u001b[0;32mis\u001b[0m \u001b[0mNone\u001b[0m\u001b[0;34m:\u001b[0m\u001b[0;34m\u001b[0m\u001b[0m\n\u001b[1;32m   1316\u001b[0m       return self._do_call(_run_fn, self._session, feeds, fetches, targets,\n\u001b[0;32m-> 1317\u001b[0;31m                            options, run_metadata)\n\u001b[0m\u001b[1;32m   1318\u001b[0m     \u001b[0;32melse\u001b[0m\u001b[0;34m:\u001b[0m\u001b[0;34m\u001b[0m\u001b[0m\n\u001b[1;32m   1319\u001b[0m       \u001b[0;32mreturn\u001b[0m \u001b[0mself\u001b[0m\u001b[0;34m.\u001b[0m\u001b[0m_do_call\u001b[0m\u001b[0;34m(\u001b[0m\u001b[0m_prun_fn\u001b[0m\u001b[0;34m,\u001b[0m \u001b[0mself\u001b[0m\u001b[0;34m.\u001b[0m\u001b[0m_session\u001b[0m\u001b[0;34m,\u001b[0m \u001b[0mhandle\u001b[0m\u001b[0;34m,\u001b[0m \u001b[0mfeeds\u001b[0m\u001b[0;34m,\u001b[0m \u001b[0mfetches\u001b[0m\u001b[0;34m)\u001b[0m\u001b[0;34m\u001b[0m\u001b[0m\n",
      "\u001b[0;32m/home/lukedeo/.venvwrp/micky-nb/local/lib/python2.7/site-packages/tensorflow/python/client/session.pyc\u001b[0m in \u001b[0;36m_do_call\u001b[0;34m(self, fn, *args)\u001b[0m\n\u001b[1;32m   1321\u001b[0m   \u001b[0;32mdef\u001b[0m \u001b[0m_do_call\u001b[0m\u001b[0;34m(\u001b[0m\u001b[0mself\u001b[0m\u001b[0;34m,\u001b[0m \u001b[0mfn\u001b[0m\u001b[0;34m,\u001b[0m \u001b[0;34m*\u001b[0m\u001b[0margs\u001b[0m\u001b[0;34m)\u001b[0m\u001b[0;34m:\u001b[0m\u001b[0;34m\u001b[0m\u001b[0m\n\u001b[1;32m   1322\u001b[0m     \u001b[0;32mtry\u001b[0m\u001b[0;34m:\u001b[0m\u001b[0;34m\u001b[0m\u001b[0m\n\u001b[0;32m-> 1323\u001b[0;31m       \u001b[0;32mreturn\u001b[0m \u001b[0mfn\u001b[0m\u001b[0;34m(\u001b[0m\u001b[0;34m*\u001b[0m\u001b[0margs\u001b[0m\u001b[0;34m)\u001b[0m\u001b[0;34m\u001b[0m\u001b[0m\n\u001b[0m\u001b[1;32m   1324\u001b[0m     \u001b[0;32mexcept\u001b[0m \u001b[0merrors\u001b[0m\u001b[0;34m.\u001b[0m\u001b[0mOpError\u001b[0m \u001b[0;32mas\u001b[0m \u001b[0me\u001b[0m\u001b[0;34m:\u001b[0m\u001b[0;34m\u001b[0m\u001b[0m\n\u001b[1;32m   1325\u001b[0m       \u001b[0mmessage\u001b[0m \u001b[0;34m=\u001b[0m \u001b[0mcompat\u001b[0m\u001b[0;34m.\u001b[0m\u001b[0mas_text\u001b[0m\u001b[0;34m(\u001b[0m\u001b[0me\u001b[0m\u001b[0;34m.\u001b[0m\u001b[0mmessage\u001b[0m\u001b[0;34m)\u001b[0m\u001b[0;34m\u001b[0m\u001b[0m\n",
      "\u001b[0;32m/home/lukedeo/.venvwrp/micky-nb/local/lib/python2.7/site-packages/tensorflow/python/client/session.pyc\u001b[0m in \u001b[0;36m_run_fn\u001b[0;34m(session, feed_dict, fetch_list, target_list, options, run_metadata)\u001b[0m\n\u001b[1;32m   1300\u001b[0m           return tf_session.TF_Run(session, options,\n\u001b[1;32m   1301\u001b[0m                                    \u001b[0mfeed_dict\u001b[0m\u001b[0;34m,\u001b[0m \u001b[0mfetch_list\u001b[0m\u001b[0;34m,\u001b[0m \u001b[0mtarget_list\u001b[0m\u001b[0;34m,\u001b[0m\u001b[0;34m\u001b[0m\u001b[0m\n\u001b[0;32m-> 1302\u001b[0;31m                                    status, run_metadata)\n\u001b[0m\u001b[1;32m   1303\u001b[0m \u001b[0;34m\u001b[0m\u001b[0m\n\u001b[1;32m   1304\u001b[0m     \u001b[0;32mdef\u001b[0m \u001b[0m_prun_fn\u001b[0m\u001b[0;34m(\u001b[0m\u001b[0msession\u001b[0m\u001b[0;34m,\u001b[0m \u001b[0mhandle\u001b[0m\u001b[0;34m,\u001b[0m \u001b[0mfeed_dict\u001b[0m\u001b[0;34m,\u001b[0m \u001b[0mfetch_list\u001b[0m\u001b[0;34m)\u001b[0m\u001b[0;34m:\u001b[0m\u001b[0;34m\u001b[0m\u001b[0m\n",
      "\u001b[0;31mKeyboardInterrupt\u001b[0m: "
     ]
    }
   ],
   "source": [
    "overall_disc_loss = []\n",
    "# overall_disc_loss = []\n",
    "for epoch in range(120):\n",
    "\n",
    "    np.random.shuffle(X_train)\n",
    "    print \"Epoch: \", epoch\n",
    "    print \"Number of batches: \", int(X_train.shape[0] // BATCH_SIZE)\n",
    "    discriminator_loss = []\n",
    "    generator_loss = []\n",
    "\n",
    "    # we'll need this many samples per critic update\n",
    "    critic_nb_samples = BATCH_SIZE * TRAINING_RATIO\n",
    "\n",
    "    for i in range(int(X_train.shape[0] // (BATCH_SIZE * TRAINING_RATIO))):\n",
    "        X_critic = X_train[i * critic_nb_samples:(i + 1) * critic_nb_samples]\n",
    "\n",
    "        for j in range(TRAINING_RATIO):\n",
    "            X_minibatch = X_critic[j * BATCH_SIZE:(j + 1) * BATCH_SIZE]\n",
    "\n",
    "            noise = np.random.rand(BATCH_SIZE, 100).astype(np.float32)\n",
    "\n",
    "            disc_loss = discriminator_model.train_on_batch(\n",
    "                [X_minibatch, noise],\n",
    "                [positive_y, negative_y, dummy_y]\n",
    "            )\n",
    "            discriminator_loss.append(disc_loss)\n",
    "    \n",
    "#         this is the critic value\n",
    "        critic_score = np.array(discriminator_loss)[:, 0]\n",
    "        if i % 10 == 0:\n",
    "            print 'critic score =', critic_score.mean()\n",
    "        overall_disc_loss.extend(critic_score.tolist())\n",
    "        gen_loss = generator_model.train_on_batch(\n",
    "            np.random.rand(BATCH_SIZE, 100),\n",
    "            positive_y\n",
    "        )\n",
    "        generator_loss.append(gen_loss)"
   ]
  },
  {
   "cell_type": "code",
   "execution_count": 142,
   "metadata": {},
   "outputs": [],
   "source": [
    "noise = np.random.rand(150000, 100).astype(np.float32)"
   ]
  },
  {
   "cell_type": "code",
   "execution_count": 143,
   "metadata": {},
   "outputs": [],
   "source": [
    "fake_jets = np.squeeze(generator.predict(noise, batch_size=BATCH_SIZE) * 75)"
   ]
  },
  {
   "cell_type": "code",
   "execution_count": 144,
   "metadata": {},
   "outputs": [
    {
     "data": {
      "text/plain": [
       "287.13852"
      ]
     },
     "execution_count": 144,
     "metadata": {},
     "output_type": "execute_result"
    }
   ],
   "source": [
    "fake_jets.max()"
   ]
  },
  {
   "cell_type": "code",
   "execution_count": 145,
   "metadata": {},
   "outputs": [
    {
     "data": {
      "image/png": "iVBORw0KGgoAAAANSUhEUgAAAaMAAAFuCAYAAAAs43eeAAAABHNCSVQICAgIfAhkiAAAAAlwSFlz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\nH9Am+FXIcBALAAAAAElFTkSuQmCC\n",
      "text/plain": [
       "<matplotlib.figure.Figure at 0x7fb9b1c8b790>"
      ]
     },
     "metadata": {},
     "output_type": "display_data"
    }
   ],
   "source": [
    "plot_diff_jet_image(fake_jets.mean(0) - images.mean(0))"
   ]
  },
  {
   "cell_type": "code",
   "execution_count": 146,
   "metadata": {},
   "outputs": [
    {
     "data": {
      "image/png": "iVBORw0KGgoAAAANSUhEUgAAAdsAAAF7CAYAAACaZiHaAAAABHNCSVQICAgIfAhkiAAAAAlwSFlz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\naWkrAAAAAElFTkSuQmCC\n",
      "text/plain": [
       "<matplotlib.figure.Figure at 0x7fb9b21e3a90>"
      ]
     },
     "metadata": {},
     "output_type": "display_data"
    }
   ],
   "source": [
    "plot_jet_image(fake_jets.mean(0))"
   ]
  },
  {
   "cell_type": "code",
   "execution_count": null,
   "metadata": {},
   "outputs": [],
   "source": []
  }
 ],
 "metadata": {
  "kernelspec": {
   "display_name": "Python 2",
   "language": "python",
   "name": "python2"
  },
  "language_info": {
   "codemirror_mode": {
    "name": "ipython",
    "version": 2
   },
   "file_extension": ".py",
   "mimetype": "text/x-python",
   "name": "python",
   "nbconvert_exporter": "python",
   "pygments_lexer": "ipython2",
   "version": "2.7.12"
  }
 },
 "nbformat": 4,
 "nbformat_minor": 2
}

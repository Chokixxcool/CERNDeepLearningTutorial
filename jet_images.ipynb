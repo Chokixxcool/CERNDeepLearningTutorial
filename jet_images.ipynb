{
 "cells": [
  {
   "cell_type": "markdown",
   "metadata": {},
   "source": [
    "<center>\n",
    "<h1>Introduction to Jet Images and Computer Vision</h1>\n",
    "<h3>Michela Paganini - Yale University</h3>\n",
    "<h4>High Energy Phenomenology, Experiment and Cosmology Seminar Series</h4>\n",
    "<img src='http://www.edustart.org/wp-content/uploads/2014/03/MIST-Vert-Aggie-Maroon-page-001-300x200.jpg'>\n",
    "</center>\n"
   ]
  },
  {
   "cell_type": "markdown",
   "metadata": {},
   "source": [
    "* What is a jet image?\n",
    "* Uniqueness wrt to natural images\n",
    "* Jet image classification papers\n",
    "* Regression tasks?\n",
    "* Generation\n",
    "* Towards deep learning-based calorimetry"
   ]
  },
  {
   "cell_type": "markdown",
   "metadata": {},
   "source": [
    "Material:\n",
    " 1. Ben Nachman's plenary talk at ACAT 2017 (<a href=\"https://indico.cern.ch/event/567550/contributions/2656471/attachments/1510207/2354761/Nachman_ACAT.pdf\">slides</a>)\n",
    " 1. My talk on Generative Adversarial Networks for jet images at the 2017 IML Workshop (<a href=\"http://cds.cern.ch/record/2256878?ln=en\">video</a>)\n",
    " 1. Jannicke Pearkes's talk on boosted top tagging with jet images at the 2017 IML Workshop (<a href=\"http://cds.cern.ch/record/2256876?ln=en\">video</a>)\n",
    " 1. Michael Kagan's overview talk at LHCP 2017 (<a href=\"https://cds.cern.ch/record/2267879?ln=en\">slides</a>)\n",
    " 1. ATLAS PUB Note on quark vs gluon tagging with jet images(<a href=\"https://cds.cern.ch/record/2275641/files/ATL-PHYS-PUB-2017-017.pdf\">note</a>)\n",
    " 1. Lynn Huynh's summer report on jet image pre-processing (<a href=\"https://cds.cern.ch/record/2209127/files/Lynn_Huynh_Report.pdf\">write-up</a>)\n",
    " 1. Ben Nachman's talk at DataScience@LHC 2015 (<a href=\"http://cds.cern.ch/record/2069153\">video</a>)"
   ]
  },
  {
   "cell_type": "markdown",
   "metadata": {},
   "source": [
    "# Dataset"
   ]
  },
  {
   "cell_type": "markdown",
   "metadata": {},
   "source": [
    "[![DOI](https://zenodo.org/badge/DOI/10.17632/4r4v785rgx.1.svg)](https://doi.org/10.17632/4r4v785rgx.1)"
   ]
  },
  {
   "cell_type": "markdown",
   "metadata": {},
   "source": [
    "<a href=\"https://zenodo.org/record/269622#.WgZFPRNSyRs\"><img src=\"images/zenodo.jpg\"></a>"
   ]
  },
  {
   "cell_type": "markdown",
   "metadata": {},
   "source": [
    "Although the dataset was released in conjunction with the arXiv publication of our [work on Generative Adversarial Networks for jet images](https://arxiv.org/pdf/1701.05927.pdf), it was previously used in the original \"[Jet Images -- Deep Learning Edition](https://link.springer.com/article/10.1007%2FJHEP07%282016%29069)\" work on jet image classification. Feel free to explore the dataset and use it for any project you have in mind (please cite the dataset and relevant publications explaining its generation!)"
   ]
  },
  {
   "cell_type": "markdown",
   "metadata": {},
   "source": [
    "### Download dataset from Zenodo"
   ]
  },
  {
   "cell_type": "code",
   "execution_count": 3,
   "metadata": {},
   "outputs": [
    {
     "name": "stderr",
     "output_type": "stream",
     "text": [
      "Using TensorFlow backend.\n"
     ]
    },
    {
     "name": "stdout",
     "output_type": "stream",
     "text": [
      "[INFO] MD5 verification: f9b11c46b6a0ff928bec2eccf865ecf0\n",
      "Downloading data from https://zenodo.org/record/269622/files/jet-images_Mass60-100_pT250-300_R1.25_Pix25.hdf5\n",
      "2220072960/2220068544 [==============================] - 254s 0us/step\n",
      "2220081152/2220068544 [==============================] - 254s 0us/step\n"
     ]
    }
   ],
   "source": [
    "import os\n",
    "fname = 'lagan-jet-images.hdf5'\n",
    "if not os.path.isfile(os.path.join('files', fname)):\n",
    "\n",
    "    from keras.utils.data_utils import get_file\n",
    "\n",
    "    # Info for downloading the dataset from Zenodo\n",
    "    MD5_HASH = 'f9b11c46b6a0ff928bec2eccf865ecf0'\n",
    "    DATAFILE = 'jet-images_Mass60-100_pT250-300_R1.25_Pix25.hdf5'\n",
    "    URL_TEMPLATE = 'https://zenodo.org/record/{record}/files/{filename}'\n",
    "\n",
    "    print('[INFO] MD5 verification: {}'.format(MD5_HASH))\n",
    "\n",
    "    datafile = get_file(\n",
    "        fname=fname,\n",
    "        origin=URL_TEMPLATE.format(record=269622, filename=DATAFILE),\n",
    "        md5_hash=MD5_HASH\n",
    "    )"
   ]
  },
  {
   "cell_type": "markdown",
   "metadata": {},
   "source": [
    "# Jets at the LHC"
   ]
  },
  {
   "cell_type": "markdown",
   "metadata": {},
   "source": [
    "<img src=\"http://cms.web.cern.ch/sites/cms.web.cern.ch/files/styles/large/public/field/image/jets_v1.png?itok=ULcYw1lS\">"
   ]
  },
  {
   "cell_type": "markdown",
   "metadata": {},
   "source": [
    "Jets are the observable result of quarks and gluons scattering at high energy. A collimated stream of\n",
    "protons and other hadrons forms in the direction of the initiating quark or gluon. Clusters of such\n",
    "particles are called jets."
   ]
  },
  {
   "cell_type": "markdown",
   "metadata": {},
   "source": [
    "# Jet Images"
   ]
  },
  {
   "cell_type": "markdown",
   "metadata": {},
   "source": [
    "Mature field of research! (image courtesy of B.P.Nachman) \n",
    "<img src=\"./images/graph.jpg\" width=\"800\">\n",
    "<a href=\"https://arxiv.org/abs/1709.04464\"><img src=\"./images/jet.jpg\" width=\"600\" align=\"right\" style=\"border:5px solid black\"></a>\n"
   ]
  },
  {
   "cell_type": "markdown",
   "metadata": {},
   "source": [
    "### What is a jet image?"
   ]
  },
  {
   "cell_type": "markdown",
   "metadata": {},
   "source": [
    "<img src=\"./images/jet_image.jpg\" width=\"300\">"
   ]
  },
  {
   "cell_type": "markdown",
   "metadata": {},
   "source": [
    "> A jet image is a two-dimensional representation of the radiation pattern within a jet: the distribution of the locations and energies of the jet’s constituent particles. The jet image consists of a regular grid of pixels in η×φ. \n",
    "\n",
    "Advantages of this data format include: easy visual inspection, fixed-length representation, suitable for application of computer vision techniques."
   ]
  },
  {
   "cell_type": "markdown",
   "metadata": {},
   "source": [
    "### Pre-processing"
   ]
  },
  {
   "cell_type": "markdown",
   "metadata": {},
   "source": [
    "In the dataset we will be using today:\n",
    "\n",
    "> The finite granularity of a calorimeter is simulated with a regular 0.1×0.1 grid in η and φ. The energy of each calorimeter cell is given by the sum of the energies of all particles incident on the cell. Cells with positive energy are assigned to jets using the anti-kt clustering algorithm with a radius parameter of R = 1.0 via the software package FastJet 3.2.1.\n",
    "\n",
    "> To mitigate the contribution from the underlying event, jets are are trimmed by re-clustering the constituents into R = 0.3 kt subjets and dropping those which have less than 5% of the transverse momentum of the parent jet. Trimming also reduces the impact of pileup: multiple proton-proton collisions occurring in the same event as the hard-scatter process. Jet images are formed by translating the η and φ of all constituents of a given jet so that its highest pT subjet is centered at the origin.\n",
    "\n",
    "> A rectangular grid of η × φ ∈ [−1.25, 1.25] × [−1.25, 1.25] with 0.1 × 0.1 pixels centered at the origin\n",
    "forms the basis of the jet image. The intensity of each pixel is the pT corresponding to the energy\n",
    "and pseudorapditiy of the constituent calorimeter cell, pT = E_cell/ cosh(η_cell). The radiation pattern\n",
    "is symmetric about the origin of the jet image and so the images are rotated. The subjet with the\n",
    "second highest pT (or, in its absence, the direction of the first principle component) is placed at an\n",
    "angle of −π/2 with respect to the η − φ axes. Finally, a parity transform about the vertical axis is\n",
    "applied if the left side of the image has more energy than the right side.\n",
    "\n",
    "<div align=\"right\">\n",
    "  <i>Learning Particle Physics by Example: Location-Aware Generative Adversarial Networks for Physics Synthesis</i> <br>\n",
    "  [arXiv:1701.05927](https://arxiv.org/pdf/1701.05927.pdf)\n",
    "</div>"
   ]
  },
  {
   "cell_type": "markdown",
   "metadata": {},
   "source": [
    "References: \n",
    "* Section 3 of [arXiv:1511.05190](https://link.springer.com/content/pdf/10.1007%2FJHEP07%282016%29069.pdf)\n",
    "* <a href=\"https://link.springer.com/article/10.1007/s41781-017-0004-6#Sec16\">Appendix B</a> of [arXiv:1701.05927](https://arxiv.org/pdf/1701.05927.pdf)"
   ]
  },
  {
   "cell_type": "markdown",
   "metadata": {},
   "source": [
    "### Uniqueness with respect to natural images in ML literature"
   ]
  },
  {
   "cell_type": "markdown",
   "metadata": {},
   "source": [
    "# Hands-on tutorial"
   ]
  },
  {
   "cell_type": "code",
   "execution_count": 7,
   "metadata": {},
   "outputs": [],
   "source": [
    "nb_points = 1000"
   ]
  },
  {
   "cell_type": "code",
   "execution_count": 8,
   "metadata": {},
   "outputs": [],
   "source": [
    "import h5py\n",
    "import numpy as np\n",
    "try:\n",
    "    d = h5py.File(datafile, 'r')\n",
    "\n",
    "    X, y = d['image'][:], d['signal'][:]\n",
    "\n",
    "    ix = list(range(X.shape[0]))\n",
    "    np.random.shuffle(ix)\n",
    "    ix = ix[:nb_points]\n",
    "\n",
    "    X, y = X[ix], y[ix]\n",
    "\n",
    "except IOError:\n",
    "    print('[WARN] Failure to read as HDF5, falling back to numpy')\n",
    "\n",
    "    d = np.load(datafile, mmap_mode='r')\n",
    "    ix = list(range(d.shape[0]))\n",
    "    np.random.shuffle(ix)\n",
    "    ix = ix[:nb_points]\n",
    "    d = np.array(d[ix])\n",
    "\n",
    "    X, y = d['image'], d['signal']"
   ]
  },
  {
   "cell_type": "code",
   "execution_count": null,
   "metadata": {},
   "outputs": [],
   "source": []
  }
 ],
 "metadata": {
  "kernelspec": {
   "display_name": "Python 2",
   "language": "python",
   "name": "python2"
  },
  "language_info": {
   "codemirror_mode": {
    "name": "ipython",
    "version": 2
   },
   "file_extension": ".py",
   "mimetype": "text/x-python",
   "name": "python",
   "nbconvert_exporter": "python",
   "pygments_lexer": "ipython2",
   "version": "2.7.12"
  }
 },
 "nbformat": 4,
 "nbformat_minor": 2
}
